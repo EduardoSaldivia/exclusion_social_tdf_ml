{
 "cells": [
  {
   "cell_type": "markdown",
   "id": "9e211718",
   "metadata": {},
   "source": [
    "<small>APRENDIZAJE AUTOMATICO - PARCIAL JUNIO 2025 - EDUARDO SALDIVIA</small>"
   ]
  },
  {
   "cell_type": "markdown",
   "id": "2c9293af",
   "metadata": {},
   "source": [
    "# <span style=\"color: #3795E1\">**PROCESAMIENTO DE DATOS** </span>"
   ]
  },
  {
   "cell_type": "markdown",
   "id": "34fd1534",
   "metadata": {},
   "source": [
    "## <span style=\"color: #FF8C00\">__*LIBRERIAS*__"
   ]
  },
  {
   "cell_type": "markdown",
   "id": "60e9bb3a",
   "metadata": {},
   "source": [
    "##### **LIBRERIAS**"
   ]
  },
  {
   "cell_type": "code",
   "execution_count": null,
   "id": "397b6b88",
   "metadata": {},
   "outputs": [],
   "source": [
    "import pandas as pd                \n",
    "import matplotlib.pyplot as plt    \n",
    "import seaborn as sns\n",
    "import numpy as np\n",
    "import warnings\n",
    "from contextlib import contextmanager # DECORADOR"
   ]
  },
  {
   "cell_type": "markdown",
   "id": "85376433",
   "metadata": {},
   "source": [
    "##### **PREFERENCIAS**"
   ]
  },
  {
   "cell_type": "code",
   "execution_count": null,
   "id": "0399177f",
   "metadata": {},
   "outputs": [],
   "source": [
    "# HABILITA LA VISUALIZACIÓN DE GRÁFICOS DENTRO DE LA NOTEBOOK\n",
    "%matplotlib inline\n",
    "\n",
    "# ESTILO PARA LOS GRAFICOS\n",
    "plt.rcParams.update({\n",
    "    'legend.frameon': False,\n",
    "    'legend.numpoints': 1,\n",
    "    'legend.scatterpoints': 1,\n",
    "    'xtick.direction': 'out',\n",
    "    'ytick.direction': 'out',\n",
    "    'axes.axisbelow': True,\n",
    "    'font.family': 'sans-serif',\n",
    "    'font.size': 14,  \n",
    "    'grid.linestyle': '--',\n",
    "    'lines.solid_capstyle': 'round',\n",
    "    'axes.grid': True,\n",
    "    'axes.edgecolor': 'white',\n",
    "    'grid.linewidth': 1.0,\n",
    "    'grid.color': \"#8290ab\", \n",
    "    'xtick.major.size': 0,\n",
    "    'ytick.major.size': 0,\n",
    "    'xtick.minor.size': 0,\n",
    "    'ytick.minor.size': 0,\n",
    "    'text.color': '0.9',\n",
    "    'axes.labelcolor': '0.9',\n",
    "    'xtick.color': '0.9',\n",
    "    'ytick.color': '0.9',\n",
    "    'grid.color': '#2A3459',\n",
    "    'font.sans-serif': ['Overpass', 'Helvetica', 'Helvetica Neue', 'Arial',\n",
    "                        'Liberation Sans', 'DejaVu Sans', 'Bitstream Vera Sans', 'sans-serif'],\n",
    "    'axes.prop_cycle': plt.cycler('color', ['#18c0c4', '#f62196', '#A267F5', '#f3907e', '#ffe46b', '#fefeff']),\n",
    "    'image.cmap': 'RdPu',\n",
    "    'figure.facecolor': '#212946',\n",
    "    'axes.facecolor': '#212946',\n",
    "    'savefig.facecolor': '#212946',\n",
    "    'boxplot.boxprops.color': \"white\",       # COLOR DEL BORDE DE LA CAJA\n",
    "    'boxplot.boxprops.color': \"#a7b5b6\",       # COLOR DEL BORDE DE LA CAJA\n",
    "    'boxplot.capprops.color': '#a7b5b6',       # COLOR DE LOS TOPES (CAPS)\n",
    "    'boxplot.whiskerprops.color': '#a7b5b6',   # COLOR DE LOS BIGOTES\n",
    "    'boxplot.medianprops.color': '#a7b5b6',    # COLOR DE LA MEDIANA\n",
    "    'boxplot.medianprops.linewidth': 2,        # GROSOR DE LA LÍNEA DE MEDIANA\n",
    "    'boxplot.flierprops.color': '#a7b5b6',     # COLOR DE OUTLIERS (PUNTOS FUERA DE RANGO)\n",
    "    'boxplot.flierprops.markerfacecolor': '#a7b5b6',  # COLOR DEL MARCADOR DE OUTLIERS\n",
    "\n",
    "})\n",
    "\n",
    "# DESACTIVA LA NOTACIÓN CIENTÍFICA EN LA SALIDA DE NÚMEROS DECIMALES\n",
    "pd.set_option('display.float_format', '{:.0f}'.format)\n",
    "warnings.simplefilter(action='ignore', category=pd.errors.SettingWithCopyWarning)"
   ]
  },
  {
   "cell_type": "markdown",
   "id": "ffa27a4a",
   "metadata": {},
   "source": [
    "##### **FUNCIÓNES**"
   ]
  },
  {
   "cell_type": "code",
   "execution_count": null,
   "id": "28df7dbc",
   "metadata": {},
   "outputs": [],
   "source": [
    "# FUNCIÓN DECORADORA\n",
    "@contextmanager\n",
    "\n",
    "# FUNCIÓN PARA MOSTRAR EL CONTENIDO DE SALIDA SIN CORTE\n",
    "def vista_completa_temporal():\n",
    "\n",
    "\n",
    "    # GUARDA LAS CONFIGURACIONES ACTUALES DE PANDAS PARA RESTAURARLAS LUEGO\n",
    "    config_original = {\n",
    "        \"display.max_columns\": pd.get_option(\"display.max_columns\"),\n",
    "        \"display.max_rows\": pd.get_option(\"display.max_rows\"),\n",
    "        \"display.max_colwidth\": pd.get_option(\"display.max_colwidth\"),\n",
    "        \"display.expand_frame_repr\": pd.get_option(\"display.expand_frame_repr\")}\n",
    "    \n",
    "\n",
    "    # APLICA LAS OPCIONES PARA MOSTRAR EL CONTENIDO SIN CORTES\n",
    "    pd.set_option(\"display.max_columns\", None)          # MUESTRA TODAS LAS COLUMNAS\n",
    "    pd.set_option(\"display.max_rows\", None)             # MUESTRA TODAS LAS FILAS\n",
    "    pd.set_option(\"display.max_colwidth\", None)         # MUESTRA TODo EL CONTENIDO DE CADA CELDA\n",
    "    pd.set_option(\"display.expand_frame_repr\", False)   # EVITA QUE SE CORTE LA TABLA EN VARIAS LÍNEAS\n",
    "    \n",
    "\n",
    "    try:\n",
    "\n",
    "        yield  # EJECUTA EL BLOQUE DE CÓDIGO DENTRO DEL \"WITH\"\n",
    "\n",
    "\n",
    "    finally:\n",
    "\n",
    "        # RESTAURA LAS CONFIGURACIONES ORIGINALES DE PANDAS\n",
    "        for key, value in config_original.items():\n",
    "            pd.set_option(key, value)"
   ]
  },
  {
   "cell_type": "markdown",
   "id": "370dd21c-9db1-479e-9968-021e766f929f",
   "metadata": {},
   "source": [
    "## <span style=\"color: #FF8C00\">__*DATAFRAME*__"
   ]
  },
  {
   "cell_type": "markdown",
   "id": "7da9c2d7",
   "metadata": {},
   "source": [
    "#### **CARGA DE DATASET**"
   ]
  },
  {
   "cell_type": "code",
   "execution_count": null,
   "id": "b2274fc8-85bd-44cd-bee2-e38a8318694c",
   "metadata": {},
   "outputs": [],
   "source": [
    "archivo = \"../data/interim/dataset_eph_tdf_2.xlsx\"\n",
    "df = pd.read_excel(archivo)\n",
    "print(\"Dimensiones del dataset:\", df.shape)\n",
    "df.head()"
   ]
  },
  {
   "cell_type": "markdown",
   "id": "29eb2849",
   "metadata": {},
   "source": [
    "## <span style=\"color: #FF8C00\">__*PREPARACIÓN DEL DATASET*__"
   ]
  },
  {
   "cell_type": "markdown",
   "id": "1525639d",
   "metadata": {},
   "source": [
    "### **DEFINICIÓN DE COLUMNAS A CONSERVAR**"
   ]
  },
  {
   "cell_type": "code",
   "execution_count": null,
   "id": "bcc4be43",
   "metadata": {},
   "outputs": [],
   "source": [
    "columnas_a_conservar = [\n",
    "    'IV1', 'IV2', 'IV3', 'IV4', 'IV5', 'IV6', 'IV7', 'IV8', 'IV9',\n",
    "    'IV10', 'IV11', 'IV12_1', 'IV12_2',\n",
    "    'II2', 'II4_1', 'II7', 'II8', 'II9',\n",
    "    'IPCF_OK', 'IX_MAYEQ10', 'IX_MEN10', 'IX_TOT',\n",
    "    'V1', 'V2', 'V3', 'V4', 'V5', 'V6', 'V7', 'V8', 'V9', 'V10',\n",
    "    'V11', 'V12', 'V13', 'V14', 'V15', 'V16', 'V17', 'V18'\n",
    "]\n",
    "\n",
    "# FILTRAMOS EL DATAFRAME\n",
    "df_filtrado = df[columnas_a_conservar].copy()\n",
    "\n",
    "# VERIFICAMOS LA ESTRUCTURA DEL NUEVO DATAFRAME\n",
    "print(\"\\nDIMENSIONES DEL DATAFRAME FILTRADO:\", df_filtrado.shape)\n",
    "print(\"\\nCOLUMNAS CONSERVADAS:\\n\")\n",
    "print(df_filtrado.columns.tolist())"
   ]
  },
  {
   "cell_type": "markdown",
   "id": "66809441",
   "metadata": {},
   "source": [
    "### **REVISIÓN VALORES FALTANTES**"
   ]
  },
  {
   "cell_type": "code",
   "execution_count": null,
   "id": "16dad3a5",
   "metadata": {},
   "outputs": [],
   "source": [
    "# CONTAMOS VALORES NULOS POR COLUMNA\n",
    "valores_nulos = df_filtrado.isnull().sum()\n",
    "valores_nulos = valores_nulos[valores_nulos > 0].sort_values(ascending=False)\n",
    "print(\"\\nVALORES FALTANTES POR COLUMNA:\\n\")\n",
    "print(valores_nulos)"
   ]
  },
  {
   "cell_type": "markdown",
   "id": "560b8502",
   "metadata": {},
   "source": [
    "### **IMPUTACIÓN VALORES FALTANTES**"
   ]
  },
  {
   "cell_type": "markdown",
   "id": "d752a79b",
   "metadata": {},
   "source": [
    ">.\n",
    ">\n",
    ">_SE IDENTIFICARON Y GESTIONARON LOS VALORES FALTANTES, SIENDO V11 LA ÚNICA VARIABLE CON NULOS. ESTOS SE IMPUTARON UTILIZANDO LA MODA, LO QUE PERMITIÓ CONSERVAR LA VARIABLE SIN PÉRDIDA DE REGISTROS NI NECESIDAD DE ELIMINACIÓN DE FILAS._\n",
    ">\n",
    ">."
   ]
  },
  {
   "cell_type": "code",
   "execution_count": null,
   "id": "9c64c3c6",
   "metadata": {},
   "outputs": [],
   "source": [
    "# RELLENAMOS VALORES FALTANTES CON LA MODA\n",
    "moda_v11 = df_filtrado['V11'].mode().iloc[0]\n",
    "df_filtrado['V11'] = df_filtrado['V11'].fillna(moda_v11)\n",
    "print(\"\\nFALTANTES EN V11 LUEGO DE RELLENAR:\")\n",
    "print(df_filtrado['V11'].isnull().sum())"
   ]
  },
  {
   "cell_type": "markdown",
   "id": "974c6b39",
   "metadata": {},
   "source": [
    "### **RENOMBRAMOS COLUMNAS**"
   ]
  },
  {
   "cell_type": "markdown",
   "id": "8f1f9481",
   "metadata": {},
   "source": [
    ">.\n",
    ">\n",
    ">_SE APLICÓ UN DICCIONARIO DE RENOMBRAMIENTO PARA CONVERTIR LOS NOMBRES TÉCNICOS DEL DATASET EN ETIQUETAS MÁS LEGIBLES E INTERPRETABLES. ESTO MEJORA LA TRAZABILIDAD DEL ANÁLISIS Y FAVORECE LA VISUALIZACIÓN Y CODIFICACIÓN DE VARIABLES EN ETAPAS POSTERIORES._\n",
    ">\n",
    ">."
   ]
  },
  {
   "cell_type": "code",
   "execution_count": null,
   "id": "fe28ce30",
   "metadata": {},
   "outputs": [],
   "source": [
    "renombrar_columnas = {\n",
    "    'IV1': 'ES', \n",
    "    'IV2': 'AMBIENTES',\n",
    "    'IV3': 'PISO_DE',\n",
    "    'IV4': 'TECHO_DE',\n",
    "    'IV5': 'PAREDES_DE',\n",
    "    'IV6': 'AGUA',\n",
    "    'IV7': 'FUENTE_AGUA',\n",
    "    'IV8': 'BAÑO',\n",
    "    'II9': 'BAÑO_USO',\n",
    "    'IV9': 'UBICACION_BAÑO',\n",
    "    'IV10': 'INSTALACION_BAÑO',\n",
    "    'IV11': 'DESAGUE_POR',\n",
    "    'IV12_1': 'CERCA_BASURAL',\n",
    "    'IV12_2': 'ZONA_INUNDABLE',\n",
    "    'II2': 'AMBIENTES_PARA_DORMIR',\n",
    "    'II4_1': 'CUARTO_COCINA',\n",
    "    'II7': 'TENENCIA',\n",
    "    'II8': 'COMBISTIBLE_COCINA',\n",
    "    'IPCF_OK': 'IPCF',\n",
    "    'IX_MAYEQ10': 'MAYORES10',\n",
    "    'IX_MEN10': 'MENORES10',\n",
    "    'IX_TOT': 'CANTIDAD_MIEMBROS',\n",
    "    'V1': 'VIVEN_DEL_TRABAJO',\n",
    "    'V2': 'JUBILACION',\n",
    "    'V3': 'INDEMNIZACION',\n",
    "    'V4': 'SEGURO_DESEMPLEO',\n",
    "    'V5': 'PLAN_SOCIAL',\n",
    "    'V6': 'MERCADERIA_GOBIERNO',\n",
    "    'V7': 'MERCADERIA_CONOCIDOS',\n",
    "    'V8': 'COBRA_ALQUILER',\n",
    "    'V9': 'INGRESO_NEGOCIO_NO_TRABAJA',\n",
    "    'V10': 'INGRESO_INVERSIONES',\n",
    "    'V11': 'BECA',\n",
    "    'V12': 'AYUDA_DINERO_CONOCIDOS',\n",
    "    'V13': 'GASTO_AHORRO',\n",
    "    'V14': 'PRESTAMOS_INFORMALES',\n",
    "    'V15': 'PRESTAMOS_FORMALES',\n",
    "    'V16': 'TARJETA_CUOTAS',\n",
    "    'V17': 'VENDER_PERTENENECIAS',\n",
    "    'V18': 'OTROS_INGRESOS_EFECTIVO',\n",
    "    'V19_A': 'MENOR10_TRABAJA',\n",
    "    'V19_B': 'MENOR10_PIDE'\n",
    "}\n",
    "\n",
    "# Aplicar el renombramiento a un DataFrame llamado df\n",
    "df_filtrado.rename(columns=renombrar_columnas, inplace=True)\n",
    "df_filtrado"
   ]
  },
  {
   "cell_type": "markdown",
   "id": "5c44680a",
   "metadata": {},
   "source": [
    "## <span style=\"color: #FF8C00\">__*CODIFICACIÓN DE VARIABLES*__"
   ]
  },
  {
   "cell_type": "markdown",
   "id": "649dfc69",
   "metadata": {},
   "source": [
    "#### **DEFINIMOS LAS VARIABLES CATEGÓRICAS MULTINOMIALES**"
   ]
  },
  {
   "cell_type": "code",
   "execution_count": null,
   "id": "d92f8780",
   "metadata": {},
   "outputs": [],
   "source": [
    "columnas = [\n",
    "    'ES', 'AMBIENTES', 'PISO_DE', 'TECHO_DE', 'PAREDES_DE', 'AGUA', 'FUENTE_AGUA', 'BAÑO',\n",
    "    'UBICACION_BAÑO', 'BAÑO_USO', 'INSTALACION_BAÑO', 'DESAGUE_POR', 'CERCA_BASURAL', 'ZONA_INUNDABLE',\n",
    "    'AMBIENTES_PARA_DORMIR', 'CUARTO_COCINA', 'TENENCIA', 'COMBISTIBLE_COCINA',\n",
    "    'MAYORES10', 'MENORES10', 'CANTIDAD_MIEMBROS',\n",
    "    'VIVEN_DEL_TRABAJO', 'JUBILACION', 'INDEMNIZACION', 'SEGURO_DESEMPLEO',\n",
    "    'PLAN_SOCIAL', 'MERCADERIA_GOBIERNO', 'MERCADERIA_CONOCIDOS', 'COBRA_ALQUILER',\n",
    "    'INGRESO_NEGOCIO_NO_TRABAJA', 'INGRESO_INVERSIONES', 'BECA', 'AYUDA_DINERO_CONOCIDOS',\n",
    "    'GASTO_AHORRO', 'PRESTAMOS_INFORMALES', 'PRESTAMOS_FORMALES', 'TARJETA_CUOTAS',\n",
    "    'VENDER_PERTENENECIAS', 'OTROS_INGRESOS_EFECTIVO']"
   ]
  },
  {
   "cell_type": "markdown",
   "id": "dd7fc0dd",
   "metadata": {},
   "source": [
    "#### **APLICAMOS ONE-HOT ENCODING**"
   ]
  },
  {
   "cell_type": "code",
   "execution_count": null,
   "id": "6dde161d",
   "metadata": {},
   "outputs": [],
   "source": [
    "df_filtrado['IPCF'] = df_filtrado['IPCF'] < 300000\n",
    "df_filtrado = pd.get_dummies(df_filtrado, columns=columnas, prefix=columnas)"
   ]
  },
  {
   "cell_type": "markdown",
   "id": "bd8e0672",
   "metadata": {},
   "source": [
    ">.\n",
    ">\n",
    ">_SE APLICÓ CODIFICACIÓN ONE-HOT A LAS VARIABLES CATEGÓRICAS MULTINOMIALES Y SE BINARIZÓ LA VARIABLE IPCF SEGÚN SI EL INGRESO PER CÁPITA FAMILIAR ES MENOR A $300.000._\n",
    ">\n",
    ">."
   ]
  },
  {
   "cell_type": "markdown",
   "id": "dad8e3c0",
   "metadata": {},
   "source": [
    "#### **RENOMBRAMOS COLUMNAS**"
   ]
  },
  {
   "cell_type": "markdown",
   "id": "fe373533",
   "metadata": {},
   "source": [
    ">.\n",
    ">\n",
    ">_SE APLICÓ UN DICCIONARIO DE RENOMBRAMIENTO PARA CONVERTIR LOS NOMBRES TÉCNICOS DEL DATASET EN ETIQUETAS MÁS LEGIBLES E INTERPRETABLES. ESTO MEJORA LA TRAZABILIDAD DEL ANÁLISIS Y FAVORECE LA VISUALIZACIÓN Y CODIFICACIÓN DE VARIABLES EN ETAPAS POSTERIORES._\n",
    ">\n",
    ">_"
   ]
  },
  {
   "cell_type": "code",
   "execution_count": null,
   "id": "95ccb28b",
   "metadata": {},
   "outputs": [],
   "source": [
    "df_filtrado.rename(columns={\n",
    "    'IPCF': 'IPCF_MENOR_300K',\n",
    "    'ES_1': 'ES_CASA',\n",
    "    'ES_2': 'ES_RANCHO',\n",
    "    'ES_3': 'ES_CASILLA',\n",
    "    'ES_4': 'ES_DEPARTAMENTO',\n",
    "    'ES_6': 'ES_LOCAL',\n",
    "    'PISO_DE_1': 'PISO_DE_CERAMICA',\n",
    "    'PISO_DE_2': 'PISO_DE_MOSAICO',\n",
    "    'PISO_DE_3': 'PISO_DE_MADERA',\n",
    "    'PISO_DE_4': 'PISO_DE_ALFOMBRA',\n",
    "    'TECHO_DE_1': 'TECHO_DE_MEMRANA',\n",
    "    'TECHO_DE_2': 'TECHO_DE_LOSA',\n",
    "    'TECHO_DE_3': 'TECHO_DE_TEJA',\n",
    "    'TECHO_DE_4': 'TECHO_DE_CHAPA',\n",
    "    'PAREDES_DE_1': 'PAREDES_REVESTIDAS',\n",
    "    'PAREDES_DE_2': 'PAREDES_NO_REVESTIDAS',\n",
    "    'AGUA_1': 'AGUA_DENTRO',\n",
    "    'AGUA_2': 'AGUA_FUERA',\n",
    "    'AGUA_3': 'AGUA_NO_TIENE',\n",
    "    'FUENTE_AGUA_1': 'FUENTE_AGUA_RED',\n",
    "    'FUENTE_AGUA_2': 'FUENTE_AGUA_BOMBA',\n",
    "    'FUENTE_AGUA_3': 'FUENTE_AGUA_MANUAL',\n",
    "    'FUENTE_AGUA_4': 'FUENTE_AGUA_CISTERNA',\n",
    "    'BAÑO_1': 'TIENE_BAÑO',\n",
    "    'UBICACION_BAÑO_1': 'BAÑO_ADENTRO',\n",
    "    'UBICACION_BAÑO_2': 'BAÑO_AFUERA',\n",
    "    'BAÑO_USO_1': 'BAÑO_USO_EXCLUSIVO',\n",
    "    'BAÑO_USO_2': 'BAÑO_USO_COMPARTIDO',\n",
    "    'INSTALACION_BAÑO_1': 'INODORO_CON_MOCHILA',\n",
    "    'INSTALACION_BAÑO_2': 'INODORO_SIN_MOCHILA',\n",
    "    'DESAGUE_POR_1': 'DESAGUE_POR_CLOACA',\n",
    "    'DESAGUE_POR_2': 'DESAGUE_POR_CAMARA',\n",
    "    'DESAGUE_POR_3': 'DESAGUE_POR_POZO',\n",
    "    'DESAGUE_POR_4': 'DESAGUE_POR_EXCAVACION',\n",
    "    'CERCA_BASURAL_1': 'CERCA_BASURAL_SI',\n",
    "    'CERCA_BASURAL_2': 'CERCA_BASURAL_NO',\n",
    "    'ZONA_INUNDABLE_1': 'ZONA_INUNDABLE_SI',\n",
    "    'ZONA_INUNDABLE_2': 'ZONA_INUNDABLE_NO',\n",
    "    'CUARTO_COCINA_1': 'CUARTO_COCINA_SI',\n",
    "    'CUARTO_COCINA_2': 'CUARTO_COCINA_NO',\n",
    "    'TENENCIA_1': 'TENENCIA_PROPIETARIO_TOTAL',\n",
    "    'TENENCIA_2': 'TENENCIA_PROPIETARIO_CASILLA',\n",
    "    'TENENCIA_3': 'TENENCIA_INQUILINO',\n",
    "    'TENENCIA_9': 'TENENCIA_OTRO',\n",
    "    'COMBISTIBLE_COCINA_1': 'COMBISTIBLE_COCINA_GAS_RED',\n",
    "    'COMBISTIBLE_COCINA_2': 'COMBISTIBLE_COCINA_GAS_ENVASADO',\n",
    "    'COMBISTIBLE_COCINA_3': 'COMBISTIBLE_COCINA_LENA',\n",
    "    'COMBISTIBLE_COCINA_4': 'COMBISTIBLE_COCINA_ELECTRICIDAD',\n",
    "    'COMBISTIBLE_COCINA_5': 'COMBISTIBLE_COCINA_OTRO',\n",
    "    'VIVEN_DEL_TRABAJO_1': 'VIVEN_DEL_TRABAJO_SI',\n",
    "    'VIVEN_DEL_TRABAJO_2': 'VIVEN_DEL_TRABAJO_NO',\n",
    "    'JUBILACION_1': 'JUBILACION_SI',\n",
    "    'JUBILACION_2': 'JUBILACION_NO',\n",
    "    'INDEMNIZACION_1': 'INDEMNIZACION_SI',\n",
    "    'INDEMNIZACION_2': 'INDEMNIZACION_NO',\n",
    "    'SEGURO_DESEMPLEO_1': 'SEGURO_DESEMPLEO_SI',\n",
    "    'SEGURO_DESEMPLEO_2': 'SEGURO_DESEMPLEO_NO',\n",
    "    'PLAN_SOCIAL_1': 'PLAN_SOCIAL_SI',\n",
    "    'PLAN_SOCIAL_2': 'PLAN_SOCIAL_NO',\n",
    "    'MERCADERIA_GOBIERNO_1': 'MERCADERIA_GOBIERNO_SI',\n",
    "    'MERCADERIA_GOBIERNO_2': 'MERCADERIA_GOBIERNO_NO',\n",
    "    'MERCADERIA_CONOCIDOS_1': 'MERCADERIA_CONOCIDOS_SI',\n",
    "    'MERCADERIA_CONOCIDOS_2': 'MERCADERIA_CONOCIDOS_NO',\n",
    "    'COBRA_ALQUILER_1': 'COBRA_ALQUILER_SI',\n",
    "    'COBRA_ALQUILER_2': 'COBRA_ALQUILER_NO',\n",
    "    'INGRESO_NEGOCIO_NO_TRABAJA_1': 'INGRESO_NEGOCIO_NO_TRABAJA_SI',\n",
    "    'INGRESO_NEGOCIO_NO_TRABAJA_2': 'INGRESO_NEGOCIO_NO_TRABAJA_NO',\n",
    "    'INGRESO_INVERSIONES_1': 'INGRESO_INVERSIONES_SI',\n",
    "    'INGRESO_INVERSIONES_2': 'INGRESO_INVERSIONES_NO',\n",
    "    'BECA_1.0': 'BECA_SI',\n",
    "    'BECA_2.0': 'BECA_NO',\n",
    "    'AYUDA_DINERO_CONOCIDOS_1': 'AYUDA_DINERO_CONOCIDOS_SI',\n",
    "    'AYUDA_DINERO_CONOCIDOS_2': 'AYUDA_DINERO_CONOCIDOS_NO',\n",
    "    'GASTO_AHORRO_1': 'GASTO_AHORRO_SI',\n",
    "    'GASTO_AHORRO_2': 'GASTO_AHORRO_NO',\n",
    "    'PRESTAMOS_INFORMALES_1': 'PRESTAMOS_INFORMALES_SI',\n",
    "    'PRESTAMOS_INFORMALES_2': 'PRESTAMOS_INFORMALES_NO',\n",
    "    'PRESTAMOS_FORMALES_1': 'PRESTAMOS_FORMALES_SI',\n",
    "    'PRESTAMOS_FORMALES_2': 'PRESTAMOS_FORMALES_NO',\n",
    "    'TARJETA_CUOTAS_1': 'TARJETA_CUOTAS_SI',\n",
    "    'TARJETA_CUOTAS_2': 'TARJETA_CUOTAS_NO',\n",
    "    'VENDER_PERTENENECIAS_1': 'VENDER_PERTENENECIAS_SI',\n",
    "    'VENDER_PERTENENECIAS_2': 'VENDER_PERTENENECIAS_NO',\n",
    "    'OTROS_INGRESOS_EFECTIVO_1': 'OTROS_INGRESOS_EFECTIVO_SI',\n",
    "    'OTROS_INGRESOS_EFECTIVO_2': 'OTROS_INGRESOS_EFECTIVO_NO'\n",
    "}, inplace=True)\n"
   ]
  },
  {
   "cell_type": "code",
   "execution_count": null,
   "id": "3b8093a5",
   "metadata": {},
   "outputs": [],
   "source": [
    "# COLUMNAS A ELIMINAR\n",
    "columnas_a_eliminar = [\n",
    "    'CERCA_BASURAL_NO',\n",
    "    'ZONA_INUNDABLE_NO',\n",
    "    'CUARTO_COCINA_NO',\n",
    "    'VIVEN_DEL_TRABAJO_NO',\n",
    "    'JUBILACION_NO',\n",
    "    'INDEMNIZACION_NO',\n",
    "    'SEGURO_DESEMPLEO_NO',\n",
    "    'PLAN_SOCIAL_NO',\n",
    "    'MERCADERIA_GOBIERNO_NO',\n",
    "    'MERCADERIA_CONOCIDOS_NO',\n",
    "    'COBRA_ALQUILER_NO',\n",
    "    'INGRESO_NEGOCIO_NO_TRABAJA_NO',\n",
    "    'INGRESO_INVERSIONES_NO',\n",
    "    'BECA_NO',\n",
    "    'AYUDA_DINERO_CONOCIDOS_NO',\n",
    "    'GASTO_AHORRO_NO',\n",
    "    'PRESTAMOS_INFORMALES_NO',\n",
    "    'PRESTAMOS_FORMALES_NO',\n",
    "    'TARJETA_CUOTAS_NO',\n",
    "    'VENDER_PERTENENECIAS_NO',\n",
    "    'OTROS_INGRESOS_EFECTIVO_NO']\n",
    "\n",
    "df_filtrado = df_filtrado.drop(columns=columnas_a_eliminar, errors='ignore')\n"
   ]
  },
  {
   "cell_type": "code",
   "execution_count": null,
   "id": "575aa389",
   "metadata": {},
   "outputs": [],
   "source": [
    "# COLUMNAS A RENOMBRAR\n",
    "columnas_con_si = [\n",
    "    'CERCA_BASURAL_SI',\n",
    "    'ZONA_INUNDABLE_SI',\n",
    "    'CUARTO_COCINA_SI',\n",
    "    'VIVEN_DEL_TRABAJO_SI',\n",
    "    'JUBILACION_SI',\n",
    "    'INDEMNIZACION_SI',\n",
    "    'SEGURO_DESEMPLEO_SI',\n",
    "    'PLAN_SOCIAL_SI',\n",
    "    'MERCADERIA_GOBIERNO_SI',\n",
    "    'MERCADERIA_CONOCIDOS_SI',\n",
    "    'COBRA_ALQUILER_SI',\n",
    "    'INGRESO_NEGOCIO_NO_TRABAJA_SI',\n",
    "    'INGRESO_INVERSIONES_SI',\n",
    "    'BECA_SI',\n",
    "    'AYUDA_DINERO_CONOCIDOS_SI',\n",
    "    'GASTO_AHORRO_SI',\n",
    "    'PRESTAMOS_INFORMALES_SI',\n",
    "    'PRESTAMOS_FORMALES_SI',\n",
    "    'TARJETA_CUOTAS_SI',\n",
    "    'VENDER_PERTENENECIAS_SI',\n",
    "    'OTROS_INGRESOS_EFECTIVO_SI']\n",
    "\n",
    "# CREAMOS DICCIONARIO DE REEMPLAZO\n",
    "nuevos_nombres = {col: col.replace('_SI', '') for col in columnas_con_si}\n",
    "\n",
    "# RENOMBRAMOS COLUMNAS\n",
    "df_filtrado = df_filtrado.rename(columns=nuevos_nombres)\n"
   ]
  },
  {
   "cell_type": "markdown",
   "id": "9a5edfff",
   "metadata": {},
   "source": [
    ">.\n",
    ">\n",
    ">_SE ELIMINARON COLUMNAS REDUNDANTES QUE CORRESPONDÍAN A LA CATEGORÍA “NO” EN VARIABLES DUMMY BINARIAS, PARA EVITAR MULTICOLINEALIDAD Y SIMPLIFICAR LA MATRIZ DE CARACTERÍSTICAS. LUEGO, LAS COLUMNAS CON SUFIJO_ “_SI” FUERON RENOMBRADAS PARA FACILITAR SU USO EN CONDICIONES LÓGICAS Y EXPRESIONES MÁS LEGIBLES._\n",
    ">\n",
    ">."
   ]
  },
  {
   "cell_type": "markdown",
   "id": "ade477c0",
   "metadata": {},
   "source": [
    "#### **DIMENSIONES NUEVAS DEL DATAFRAME**"
   ]
  },
  {
   "cell_type": "code",
   "execution_count": null,
   "id": "adf520dd",
   "metadata": {},
   "outputs": [],
   "source": [
    "print(\"\\nNUEVAS DIMENSIONES DEL DATAFRAME:\", df_filtrado.shape)\n",
    "print(\"\\n\\nPRIMERAS COLUMNAS CODIFICADAS:\\n\\n\")\n",
    "\n",
    "print(df_filtrado.head())"
   ]
  },
  {
   "cell_type": "markdown",
   "id": "ba447498",
   "metadata": {},
   "source": [
    "## <span style=\"color: #FF8C00\">__*TARGET*__"
   ]
  },
  {
   "cell_type": "markdown",
   "id": "7139667d",
   "metadata": {},
   "source": [
    ">.\n",
    ">\n",
    ">_SE DEFINIÓ LA EXCLUSIÓN SOCIAL A PARTIR DE CINCO PATRONES ESTRUCTURALES: HACINAMIENTO E INGRESOS BAJOS, CARENCIAS DE SERVICIOS BÁSICOS, DEPENDENCIA ECONÓMICA, CARGA DE MENORES Y PRECARIEDAD HABITACIONAL. ESTO PERMITIÓ CONSTRUIR UN TARGET BINARIO (EXCLUSION_SOCIAL) Y UNO CONTINUO (SCORE_EXCLUSION) PONDERADO SEGÚN LA GRAVEDAD RELATIVA DE CADA DIMENSIÓN._\n",
    ">\n",
    ">."
   ]
  },
  {
   "cell_type": "markdown",
   "id": "c43763ce",
   "metadata": {},
   "source": [
    "### **PATRONES**"
   ]
  },
  {
   "cell_type": "markdown",
   "id": "aeec85bc",
   "metadata": {},
   "source": [
    "#### <span style=\"color: #3795E1\">**PATRON N° 1**"
   ]
  },
  {
   "cell_type": "markdown",
   "id": "86ce868f",
   "metadata": {},
   "source": [
    ">.\n",
    ">\n",
    ">_HACINAMIENTO EN 1 O 2 AMBIENTES, HOGAR NUMEROSO (+5) Y BAJOS INGRESOS_\n",
    ">\n",
    ">."
   ]
  },
  {
   "cell_type": "code",
   "execution_count": null,
   "id": "1fc93cad",
   "metadata": {},
   "outputs": [],
   "source": [
    "patron_1 = (\n",
    "    (df_filtrado['AMBIENTES_1'] | df_filtrado['AMBIENTES_2']) &\n",
    "    (\n",
    "        df_filtrado['CANTIDAD_MIEMBROS_5'] | df_filtrado['CANTIDAD_MIEMBROS_6'] |\n",
    "        df_filtrado['CANTIDAD_MIEMBROS_7'] | df_filtrado['CANTIDAD_MIEMBROS_8'] |\n",
    "        df_filtrado['CANTIDAD_MIEMBROS_9'] | df_filtrado['CANTIDAD_MIEMBROS_10'] |\n",
    "        df_filtrado['CANTIDAD_MIEMBROS_11'] | df_filtrado['CANTIDAD_MIEMBROS_12'] |\n",
    "        df_filtrado['CANTIDAD_MIEMBROS_13']\n",
    "    ) &\n",
    "    df_filtrado['IPCF_MENOR_300K'])"
   ]
  },
  {
   "cell_type": "markdown",
   "id": "9e4247df",
   "metadata": {},
   "source": [
    "#### <span style=\"color: #3795E1\">**PATRON N° 2**"
   ]
  },
  {
   "cell_type": "markdown",
   "id": "a1c03434",
   "metadata": {},
   "source": [
    ">.\n",
    ">\n",
    ">_HOGAR CON SERVICIOS ESENCIALES DEFICIENTES_\n",
    ">\n",
    ">."
   ]
  },
  {
   "cell_type": "code",
   "execution_count": null,
   "id": "acb4f328",
   "metadata": {},
   "outputs": [],
   "source": [
    "patron_2 = (\n",
    "    df_filtrado['AGUA_NO_TIENE'] |\n",
    "    df_filtrado['FUENTE_AGUA_MANUAL'] | df_filtrado['FUENTE_AGUA_CISTERNA'] |\n",
    "    ~df_filtrado['CUARTO_COCINA'] |\n",
    "    df_filtrado['COMBISTIBLE_COCINA_LENA'] | df_filtrado['COMBISTIBLE_COCINA_OTRO'] |\n",
    "    df_filtrado['CERCA_BASURAL'] | df_filtrado['ZONA_INUNDABLE'])"
   ]
  },
  {
   "cell_type": "markdown",
   "id": "9f7b0ad7",
   "metadata": {},
   "source": [
    "#### <span style=\"color: #3795E1\">**PATRON N° 3**"
   ]
  },
  {
   "cell_type": "markdown",
   "id": "b921ba29",
   "metadata": {},
   "source": [
    ">.\n",
    ">\n",
    ">_ALTA DEPENDENCIA DE AYUDA ECONOMICA Y SIGNOS DE CRISIS FINANCIERA_\n",
    ">\n",
    ">."
   ]
  },
  {
   "cell_type": "code",
   "execution_count": null,
   "id": "a093687d",
   "metadata": {},
   "outputs": [],
   "source": [
    "patron_3 = (\n",
    "    df_filtrado['PLAN_SOCIAL'] & df_filtrado['IPCF_MENOR_300K'] &\n",
    "    (\n",
    "        df_filtrado['PRESTAMOS_INFORMALES'] | df_filtrado['VENDER_PERTENENECIAS']\n",
    "    ))"
   ]
  },
  {
   "cell_type": "markdown",
   "id": "eb89a7f4",
   "metadata": {},
   "source": [
    "#### <span style=\"color: #3795E1\">**PATRON N° 4**"
   ]
  },
  {
   "cell_type": "markdown",
   "id": "93bc4643",
   "metadata": {},
   "source": [
    ">.\n",
    ">\n",
    ">_ALTA CARGA DE MENORES DE 10 AÑOS E INGRESO BAJO_\n",
    ">\n",
    ">."
   ]
  },
  {
   "cell_type": "code",
   "execution_count": null,
   "id": "91380810",
   "metadata": {},
   "outputs": [],
   "source": [
    "\n",
    "# PATRÓN 4: Alta carga de menores de 10 años + ingreso bajo\n",
    "patron_4 = (\n",
    "    (df_filtrado['MENORES10_3'] | df_filtrado['MENORES10_4'] | df_filtrado['MENORES10_5']) &\n",
    "    df_filtrado['IPCF_MENOR_300K']\n",
    ")"
   ]
  },
  {
   "cell_type": "markdown",
   "id": "b930a262",
   "metadata": {},
   "source": [
    "#### <span style=\"color: #3795E1\">**PATRON N° 5**"
   ]
  },
  {
   "cell_type": "markdown",
   "id": "fec5a5c0",
   "metadata": {},
   "source": [
    ">.\n",
    ">\n",
    ">_VIVIENDA ESTRUCTURALMENTE PRECARIA Y SIN SERVICIOS BASICOS_\n",
    ">\n",
    ">."
   ]
  },
  {
   "cell_type": "code",
   "execution_count": null,
   "id": "4874290d",
   "metadata": {},
   "outputs": [],
   "source": [
    "patron_5 = (\n",
    "    (df_filtrado['ES_RANCHO'] | df_filtrado['ES_CASILLA'] | df_filtrado['ES_LOCAL']) &\n",
    "    (\n",
    "        df_filtrado['AGUA_NO_TIENE'] | df_filtrado['FUENTE_AGUA_CISTERNA'] | ~df_filtrado['CUARTO_COCINA']\n",
    "    ))"
   ]
  },
  {
   "cell_type": "markdown",
   "id": "a89de4bc",
   "metadata": {},
   "source": [
    "### **TARGET BINARIO (EXCLUSION_SOCIAL)**"
   ]
  },
  {
   "cell_type": "code",
   "execution_count": null,
   "id": "45eaab15",
   "metadata": {},
   "outputs": [],
   "source": [
    "df_filtrado['exclusion_social'] = (\n",
    "    patron_1 | patron_2 | patron_3 | patron_4 | patron_5\n",
    ").astype(int)"
   ]
  },
  {
   "cell_type": "markdown",
   "id": "3fd4fbe4",
   "metadata": {},
   "source": [
    "### **TARGET CONTINUO (SCORE_EXCLUSION)**"
   ]
  },
  {
   "cell_type": "code",
   "execution_count": null,
   "id": "04c93c7c",
   "metadata": {},
   "outputs": [],
   "source": [
    "df_filtrado['score_exclusion'] = (\n",
    "    0.3 * patron_1.astype(int) +\n",
    "    0.25 * patron_2.astype(int) +\n",
    "    0.2 * patron_3.astype(int) +\n",
    "    0.15 * patron_4.astype(int) +\n",
    "    0.1 * patron_5.astype(int))"
   ]
  },
  {
   "cell_type": "markdown",
   "id": "3309d559",
   "metadata": {},
   "source": [
    "## <span style=\"color: #FF8C00\">__*CONCLUSIÓN*__"
   ]
  },
  {
   "cell_type": "markdown",
   "id": "d37a4c44",
   "metadata": {},
   "source": [
    ">.\n",
    ">\n",
    ">_EL PROCESAMIENTO REALIZADO PERMITIÓ CONSTRUIR UNA BASE DE DATOS ROBUSTA, CONSISTENTE Y ALTAMENTE INTERPRETABLE PARA LA PREDICCIÓN DE EXCLUSIÓN SOCIAL EN TIERRA DEL FUEGO. SE ABORDARON CORRECTAMENTE LOS VALORES FALTANTES Y SE ESTANDARIZÓ LA ESTRUCTURA DE VARIABLES, GARANTIZANDO UNA PREPARACIÓN LIMPIA Y ORIENTADA AL MODELADO._\n",
    ">\n",
    ">_SE REALIZÓ UNA TRANSFORMACIÓN EXHAUSTIVA DE VARIABLES CATEGÓRICAS, UTILIZANDO CODIFICACIÓN ONE-HOT CON CRITERIOS DE SIMPLIFICACIÓN Y EVITANDO MULTICOLINEALIDAD. LAS ETIQUETAS FUERON RENOMBRADAS DE MANERA SEMÁNTICAMENTE CLARA, FACILITANDO LA POSTERIOR CONSTRUCCIÓN DE FUNCIONES LÓGICAS Y CONDICIONES DE ANÁLISIS._\n",
    ">\n",
    ">_FINALMENTE, LA CONSTRUCCIÓN DEL TARGET DE EXCLUSIÓN SOCIAL –TANTO EN SU VERSIÓN BINARIA COMO CONTINUA– RESPONDE A UNA COMPRENSIÓN MULTIDIMENSIONAL DE LA PROBLEMÁTICA. EL DISEÑO DE PATRONES ESTRUCTURALES PERMITIÓ INTEGRAR DIMENSIONES HABITACIONALES, ECONÓMICAS Y ESTRUCTURALES, APORTANDO UNA VISIÓN MÁS FINA Y PONDERADA DEL FENÓMENO SOCIAL._\n",
    ">\n",
    ">_ESTE CONJUNTO DE DATOS ESTÁ OPTIMIZADO PARA ENTRENAMIENTO DE MODELOS DE CLASIFICACIÓN Y REGRESIÓN, CON FOCO EN LA DETECCIÓN TEMPRANA Y PRECISA DE CONDICIONES DE EXCLUSIÓN SOCIAL._\n",
    ">\n",
    ">."
   ]
  }
 ],
 "metadata": {
  "kernelspec": {
   "display_name": "Python 3",
   "language": "python",
   "name": "python3"
  },
  "language_info": {
   "codemirror_mode": {
    "name": "ipython",
    "version": 3
   },
   "file_extension": ".py",
   "mimetype": "text/x-python",
   "name": "python",
   "nbconvert_exporter": "python",
   "pygments_lexer": "ipython3",
   "version": "3.11.5"
  }
 },
 "nbformat": 4,
 "nbformat_minor": 5
}
