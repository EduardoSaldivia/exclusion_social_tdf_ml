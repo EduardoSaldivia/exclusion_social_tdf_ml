{
 "cells": [
  {
   "cell_type": "markdown",
   "id": "5e36fd78",
   "metadata": {},
   "source": [
    "<small>APRENDIZAJE AUTOMATICO - PARCIAL JUNIO 2025 - EDUARDO SALDIVIA</small>"
   ]
  },
  {
   "cell_type": "markdown",
   "id": "fd516121",
   "metadata": {},
   "source": [
    "# <span style=\"color: #3795E1\">**ANÁLISIS EXPLORATORIO** </span>"
   ]
  },
  {
   "cell_type": "markdown",
   "id": "ef9f0a57-26e2-44a6-ae9a-6f98c466ba2d",
   "metadata": {},
   "source": [
    "## <span style=\"color: #FF8C00\">__*LIBRERIAS*__"
   ]
  },
  {
   "cell_type": "markdown",
   "id": "2cbd1917",
   "metadata": {},
   "source": [
    "### **LIBRERIAS**"
   ]
  },
  {
   "cell_type": "code",
   "execution_count": null,
   "id": "0d3b34b9-b2ee-4bf0-90dd-baa6110dd556",
   "metadata": {},
   "outputs": [],
   "source": [
    "import pandas as pd                \n",
    "import matplotlib.pyplot as plt\n",
    "from   IPython.display import display                           # VISUALES     \n",
    "import seaborn as sns\n",
    "import numpy as np\n",
    "import warnings\n",
    "from   contextlib import contextmanager                         # DECORADOR\n",
    "import matplotlib.ticker as mticker                             # IMPORTAMOS FORMATEADOR DE EJES"
   ]
  },
  {
   "cell_type": "markdown",
   "id": "45d3a108",
   "metadata": {},
   "source": [
    "### **PREFERENCIAS**"
   ]
  },
  {
   "cell_type": "code",
   "execution_count": null,
   "id": "6134453e",
   "metadata": {},
   "outputs": [],
   "source": [
    "# HABILITA LA VISUALIZACIÓN DE GRÁFICOS DENTRO DE LA NOTEBOOK\n",
    "%matplotlib inline\n",
    "\n",
    "# ESTILO PARA LOS GRAFICOS\n",
    "plt.rcParams.update({\n",
    "    'legend.frameon': False,\n",
    "    'legend.numpoints': 1,\n",
    "    'legend.scatterpoints': 1,\n",
    "    'xtick.direction': 'out',\n",
    "    'ytick.direction': 'out',\n",
    "    'axes.axisbelow': True,\n",
    "    'font.family': 'sans-serif',\n",
    "    'font.size': 14,  \n",
    "    'grid.linestyle': '--',\n",
    "    'lines.solid_capstyle': 'round',\n",
    "    'axes.grid': True,\n",
    "    'axes.edgecolor': 'white',\n",
    "    'grid.linewidth': 1.0,\n",
    "    'grid.color': \"#8290ab\", \n",
    "    'xtick.major.size': 0,\n",
    "    'ytick.major.size': 0,\n",
    "    'xtick.minor.size': 0,\n",
    "    'ytick.minor.size': 0,\n",
    "    'text.color': '0.9',\n",
    "    'axes.labelcolor': '0.9',\n",
    "    'xtick.color': '0.9',\n",
    "    'ytick.color': '0.9',\n",
    "    'grid.color': '#2A3459',\n",
    "    'font.sans-serif': ['Overpass', 'Helvetica', 'Helvetica Neue', 'Arial',\n",
    "                        'Liberation Sans', 'DejaVu Sans', 'Bitstream Vera Sans', 'sans-serif'],\n",
    "    'axes.prop_cycle': plt.cycler('color', ['#18c0c4', '#f62196', '#A267F5', '#f3907e', '#ffe46b', '#fefeff']),\n",
    "    'image.cmap': 'RdPu',\n",
    "    'figure.facecolor': '#212946',\n",
    "    'axes.facecolor': '#212946',\n",
    "    'savefig.facecolor': '#212946',\n",
    "    'boxplot.boxprops.color': \"white\",       # COLOR DEL BORDE DE LA CAJA\n",
    "    'boxplot.boxprops.color': \"#a7b5b6\",       # COLOR DEL BORDE DE LA CAJA\n",
    "    'boxplot.capprops.color': '#a7b5b6',       # COLOR DE LOS TOPES (CAPS)\n",
    "    'boxplot.whiskerprops.color': '#a7b5b6',   # COLOR DE LOS BIGOTES\n",
    "    'boxplot.medianprops.color': '#a7b5b6',    # COLOR DE LA MEDIANA\n",
    "    'boxplot.medianprops.linewidth': 2,        # GROSOR DE LA LÍNEA DE MEDIANA\n",
    "    'boxplot.flierprops.color': '#a7b5b6',     # COLOR DE OUTLIERS (PUNTOS FUERA DE RANGO)\n",
    "    'boxplot.flierprops.markerfacecolor': '#a7b5b6',  # COLOR DEL MARCADOR DE OUTLIERS\n",
    "})\n",
    "\n",
    "# DESACTIVA LA NOTACIÓN CIENTÍFICA EN LA SALIDA DE NÚMEROS DECIMALES\n",
    "pd.set_option('display.float_format', '{:.0f}'.format)"
   ]
  },
  {
   "cell_type": "markdown",
   "id": "727f9418",
   "metadata": {},
   "source": [
    "### **FUNCIONES**"
   ]
  },
  {
   "cell_type": "code",
   "execution_count": null,
   "id": "74e12564",
   "metadata": {},
   "outputs": [],
   "source": [
    "# FUNCIÓN DECORADORA\n",
    "@contextmanager\n",
    "\n",
    "# FUNCIÓN PARA MOSTRAR EL CONTENIDO DE SALIDA SIN CORTE\n",
    "def vista_completa_temporal():\n",
    "\n",
    "\n",
    "    # GUARDA LAS CONFIGURACIONES ACTUALES DE PANDAS PARA RESTAURARLAS LUEGO\n",
    "    config_original = {\n",
    "        \"display.max_columns\": pd.get_option(\"display.max_columns\"),\n",
    "        \"display.max_rows\": pd.get_option(\"display.max_rows\"),\n",
    "        \"display.max_colwidth\": pd.get_option(\"display.max_colwidth\"),\n",
    "        \"display.expand_frame_repr\": pd.get_option(\"display.expand_frame_repr\")}\n",
    "    \n",
    "\n",
    "    # APLICA LAS OPCIONES PARA MOSTRAR EL CONTENIDO SIN CORTES\n",
    "    pd.set_option(\"display.max_columns\", None)          # MUESTRA TODAS LAS COLUMNAS\n",
    "    pd.set_option(\"display.max_rows\", None)             # MUESTRA TODAS LAS FILAS\n",
    "    pd.set_option(\"display.max_colwidth\", None)         # MUESTRA TODo EL CONTENIDO DE CADA CELDA\n",
    "    pd.set_option(\"display.expand_frame_repr\", False)   # EVITA QUE SE CORTE LA TABLA EN VARIAS LÍNEAS\n",
    "    \n",
    "\n",
    "    try:\n",
    "\n",
    "        yield  # EJECUTA EL BLOQUE DE CÓDIGO DENTRO DEL \"WITH\"\n",
    "\n",
    "\n",
    "    finally:\n",
    "\n",
    "        # RESTAURA LAS CONFIGURACIONES ORIGINALES DE PANDAS\n",
    "        for key, value in config_original.items():\n",
    "            pd.set_option(key, value)"
   ]
  },
  {
   "cell_type": "markdown",
   "id": "370dd21c-9db1-479e-9968-021e766f929f",
   "metadata": {},
   "source": [
    "## <span style=\"color: #FF8C00\">__*DATAFRAME*__"
   ]
  },
  {
   "cell_type": "markdown",
   "id": "ca049022-7c79-4f36-9235-8b206f34d5ac",
   "metadata": {},
   "source": [
    "### **CARGA DE DATASETS**"
   ]
  },
  {
   "cell_type": "markdown",
   "id": "35208309",
   "metadata": {},
   "source": [
    ">.\n",
    ">\n",
    "> _SE APLICÓ UN FILTRADO PREVIO AL DATASET DEL EPH - INDEC, CONSERVANDO EXCLUSIVAMENTE LOS REGISTROS DEL AGLOMERADO (31) USHUAIA - RÍO GRANDE, A FIN DE ELIMINAR OBSERVACIONES AJENAS A LA PROVINCIA DE TIERRA DEL FUEGO Y REDUCIR LA CARGA COMPUTACIONAL DURANTE EL ANÁLISIS EXPLORATORIO._\n",
    ">\n",
    ">."
   ]
  },
  {
   "cell_type": "markdown",
   "id": "933e8c56",
   "metadata": {},
   "source": [
    "#### <span style=\"color: #3795E1\">**DATASET EPH - ENCUESTA PERMANENTE DE HOGARES (2016-2024)**"
   ]
  },
  {
   "cell_type": "code",
   "execution_count": null,
   "id": "b2274fc8-85bd-44cd-bee2-e38a8318694c",
   "metadata": {},
   "outputs": [],
   "source": [
    "archivo = \"../data/raw/dataset_eph_tdf.xlsx\"\n",
    "df = pd.read_excel(archivo)\n",
    "print(\"\")\n",
    "df.head()"
   ]
  },
  {
   "cell_type": "markdown",
   "id": "1b1770e8",
   "metadata": {},
   "source": [
    "#### <span style=\"color: #3795E1\">**DATASET COTIZACIÓN DEL DOLAR (2016-2024)**"
   ]
  },
  {
   "cell_type": "code",
   "execution_count": null,
   "id": "978a5b8b",
   "metadata": {},
   "outputs": [],
   "source": [
    "archivo2 = \"../data/raw/dolar_trimestral_2016_2024.xlsx\"\n",
    "df_USD = pd.read_excel(archivo2)\n",
    "print(\"\")\n",
    "df_USD.head()"
   ]
  },
  {
   "cell_type": "markdown",
   "id": "3d664e46-4c16-4565-826b-8ec2f068e646",
   "metadata": {},
   "source": [
    "### **VERIFICACIÓN DE ESTRUCTURA**"
   ]
  },
  {
   "cell_type": "markdown",
   "id": "2a0a1dea",
   "metadata": {},
   "source": [
    "#### <span style=\"color: #3795E1\">**DIMENSIÓN DE LOS DATASETs**"
   ]
  },
  {
   "cell_type": "code",
   "execution_count": null,
   "id": "ff797447-be2c-4445-837e-65c24fcc28c5",
   "metadata": {},
   "outputs": [],
   "source": [
    "print(\"\\nDIMENSIÓN DEL DATASET EPH:\", df.shape)\n",
    "print(\"\\nDIMENSIÓN DE DATASET DEL DOLAR:\", df_USD.shape)"
   ]
  },
  {
   "cell_type": "markdown",
   "id": "f3f11731",
   "metadata": {},
   "source": [
    "#### <span style=\"color: #3795E1\">**COLUMNAS DE LOS DATASETs**"
   ]
  },
  {
   "cell_type": "code",
   "execution_count": null,
   "id": "99051a7c-0c11-4455-b1af-2051855c0ba7",
   "metadata": {},
   "outputs": [],
   "source": [
    "print(\"\\nCOLUMNAS DEL DATASET EPH: \\n\\n\", df.columns)\n",
    "\n",
    "print(\"\\n\\nCOLUMNAS DEL DATASET DEL DOLAR: \\n\\n\", df_USD.columns)"
   ]
  },
  {
   "cell_type": "markdown",
   "id": "119bff23",
   "metadata": {},
   "source": [
    "#### <span style=\"color: #3795E1\">**INFORMACIÓN GENERAL DEL DATASET**"
   ]
  },
  {
   "cell_type": "code",
   "execution_count": null,
   "id": "15296247-f489-4443-aa3b-8f9281cb4f4f",
   "metadata": {},
   "outputs": [],
   "source": [
    "print(\"\\nINFORMACIÓN GENERAL DE LOS DATASETs:\\n\")\n",
    "df.info()\n",
    "print(\"\\n\")\n",
    "df_USD.info()"
   ]
  },
  {
   "cell_type": "markdown",
   "id": "60d48d1d",
   "metadata": {},
   "source": [
    "### **ESTADÍSTICAS DESCRIPTIVAS**"
   ]
  },
  {
   "cell_type": "code",
   "execution_count": null,
   "id": "600b849d-5cf6-4489-a96c-fe16c97de5a2",
   "metadata": {},
   "outputs": [],
   "source": [
    "with vista_completa_temporal():\n",
    "    print(\"\\nESTADÍSTICAS DESCRIPTIVAS\\n\")\n",
    "    display(df.describe().T) # ESTE BLOQUE SE EJECUTA EN VISTA COMPLETA"
   ]
  },
  {
   "cell_type": "markdown",
   "id": "49ce2588",
   "metadata": {},
   "source": [
    "## <span style=\"color: #FF8C00\">__*VISUALIZACIONES*__"
   ]
  },
  {
   "cell_type": "markdown",
   "id": "148bed66",
   "metadata": {},
   "source": [
    "### **VARIABLES HABITACIONALES Y SANITARIAS**"
   ]
  },
  {
   "cell_type": "markdown",
   "id": "2e1a4249",
   "metadata": {},
   "source": [
    "##### <span style=\"color: #3795E1\">*VARIABLE IV1: TIPO DE VIVIENDA*"
   ]
  },
  {
   "cell_type": "code",
   "execution_count": null,
   "id": "81c254c0",
   "metadata": {},
   "outputs": [],
   "source": [
    "print(\"\")                                               \n",
    "conteo_IV1 = df['IV1'].value_counts().sort_index()                  # CONTAR CUÁNTOS HOGARES HAY POR TIPO DE VIVIENDA\n",
    "conteo_IV1.plot(kind='bar')                                         # GRAFICAR DISTRIBUCIÓN DE TIPO DE VIVIENDA\n",
    "plt.title(\"VARIABLE IV1: TIPO DE VIVIENDA\")                         # TÍTULO DEL GRÁFICO\n",
    "plt.ylabel(\"CANTIDAD DE HOGARES\")                                   # ETIQUETA DEL EJE Y\n",
    "plt.xticks(rotation=0)                                              # MANTENER LAS ETIQUETAS HORIZONTALES\n",
    "plt.show()                                                          # MOSTRAR EL GRÁFICO\n",
    "\n",
    "# IMPRIMO VALORES\n",
    "print(\"CANTIDAD DE HOGARES POR TIPO DE VIVIENDA (IV1):\")\n",
    "print(conteo_IV1)"
   ]
  },
  {
   "cell_type": "markdown",
   "id": "0a319d58",
   "metadata": {},
   "source": [
    ">1 = CASA, 2 = RANCHO, 3 = CASILLA, 4 = DEPARTAMENTO, 5 = PIEZA EN INQUILINATO/HOTEL PENSIÓN, 6 = LOCAL NO CONSTRUIDO PARA HABITACIÓN, 7 = VIVIENDA MÓVIL, 8 = VIVIENDA INSTITUCIONAL."
   ]
  },
  {
   "cell_type": "markdown",
   "id": "d2f66e58",
   "metadata": {},
   "source": [
    ">.\n",
    ">\n",
    "> _LA MAYOR PARTE DE LOS HOGARES DECLARÓ VIVIR EN UNA CASA, LO QUE REPRESENTA UNA CONDICIÓN HABITACIONAL ESTÁNDAR Y ACEPTABLE._\n",
    "> \n",
    ">_SIN EMBARGO, UN NÚMERO MUY ALTO DE HOGARES (2169) VIVEN EN RANCHOS, UNA CATEGORÍA QUE IMPLICA MATERIALES DE CONSTRUCCIÓN DE BAJA CALIDAD Y SUELE ESTAR ASOCIADA A SITUACIONES DE EXCLUSIÓN HABITACIONAL._ \n",
    "> \n",
    ">_ADEMÁS, 182 HOGARES DECLARARON RESIDIR EN LOCALES NO DESTINADOS A HABITACIÓN, Y 10 EN CASILLAS, LO QUE REFUERZA LA PRESENCIA DE UN SECTOR DE LA POBLACIÓN CON VIVIENDA PRECARIA O INADECUADA._\n",
    "> \n",
    ">_ESTE CONJUNTO DE DATOS REVELA QUE, AUNQUE HAY UNA BASE IMPORTANTE DE VIVIENDAS FORMALIZADAS, EXISTE UN GRUPO SIGNIFICATIVO EN CONDICIONES DE VULNERABILIDAD HABITACIONAL._\n",
    ">\n",
    ">."
   ]
  },
  {
   "cell_type": "markdown",
   "id": "d58296d5",
   "metadata": {},
   "source": [
    "##### <span style=\"color: #3795E1\">*VARIABLE IV2: CANTIDAD DE AMBIENTES*"
   ]
  },
  {
   "cell_type": "code",
   "execution_count": null,
   "id": "7c7a0759",
   "metadata": {},
   "outputs": [],
   "source": [
    "print(\"\")                                              \n",
    "conteo_IV2 = df['IV2'].value_counts().sort_index()                  # CONTAR CUÁNTOS HOGARES HAY POR CANTIDAD DE AMBIENTES\n",
    "conteo_IV2.plot(kind='bar')                                         # GRAFICAR DISTRIBUCIÓN DE AMBIENTES\n",
    "plt.title(\"VARIABLE IV2: CANTIDAD DE AMBIENTES\")                    # TÍTULO DEL GRÁFICO\n",
    "plt.xlabel(\"NÚMERO DE AMBIENTES\")                                   # ETIQUETA DEL EJE X\n",
    "plt.ylabel(\"CANTIDAD DE HOGARES\")                                   # ETIQUETA DEL EJE Y\n",
    "plt.xticks(rotation=0)                                              # MANTENER LAS ETIQUETAS HORIZONTALES\n",
    "plt.show()                                                          # MOSTRAR EL GRÁFICO\n",
    "\n",
    "# IMPRIMO VALORES\n",
    "print(\"CANTIDAD DE HOGARES POR NÚMERO DE AMBIENTES:\")\n",
    "print(conteo_IV2)                                     "
   ]
  },
  {
   "cell_type": "markdown",
   "id": "0373b956",
   "metadata": {},
   "source": [
    ">.\n",
    ">\n",
    "> _LA MAYORÍA DE LOS HOGARES DECLARÓ TENER ENTRE 2 Y 4 AMBIENTES, SIENDO EL VALOR MÁS FRECUENTE 3 AMBIENTES. ESTO INDICA UN NIVEL DE INFRAESTRUCTURA RESIDENCIAL QUE PODRÍA CONSIDERARSE ADECUADO PARA HOGARES PEQUEÑOS O MEDIANOS._\n",
    "> \n",
    ">_SIN EMBARGO, HAY UN GRUPO DE HOGARES CON SOLO 1 AMBIENTE, LO CUAL PODRÍA SUGERIR CONDICIONES DE HACINAMIENTO SI VIVEN VARIAS PERSONAS EN ESE ESPACIO_ \n",
    "> \n",
    ">_EN FUTURAS ETAPAS, CONVENDRÁ COMBINAR ESTA VARIABLE CON LA CANTIDAD DE INTEGRANTES DEL HOGAR PARA IDENTIFICAR SITUACIONES DE EXCLUSIÓN MÁS SEVERAS._\n",
    ">\n",
    ">."
   ]
  },
  {
   "cell_type": "markdown",
   "id": "5101fe89",
   "metadata": {},
   "source": [
    "##### <span style=\"color: #3795E1\">*VARIABLE IV3: MATERIAL DEL PISO*"
   ]
  },
  {
   "cell_type": "code",
   "execution_count": null,
   "id": "4c2fe3d4",
   "metadata": {},
   "outputs": [],
   "source": [
    "print(\"\")                                               \n",
    "conteo_IV3 = df['IV3'].value_counts().sort_index()                  # CONTAR CUÁNTOS HOGARES HAY SEGÚN MATERIAL DEL PISO\n",
    "conteo_IV3.plot(kind='bar')                                         # GRAFICAR DISTRIBUCIÓN DE MATERIALES DE PISO\n",
    "plt.title(\"VARIABLE IV3: MATERIAL DEL PISO\")                        # TÍTULO DEL GRÁFICO\n",
    "plt.ylabel(\"CANTIDAD DE HOGARES\")                                   # ETIQUETA DEL EJE Y\n",
    "plt.xticks(rotation=0)                                              # MANTENER LAS ETIQUETAS HORIZONTALES\n",
    "plt.show()                                                          # MOSTRAR EL GRÁFICO\n",
    "\n",
    "# IMPRIMO VALORES\n",
    "print(\"CANTIDAD DE HOGARES POR MATERIAL DEL PISO (IV3):\")\n",
    "print(conteo_IV3)   "
   ]
  },
  {
   "cell_type": "markdown",
   "id": "6aefd501",
   "metadata": {},
   "source": [
    "\n",
    " >1=CERÁMICA, 2=MOSAICO, 3=MADERA, 4=ALFOMBRA, 5=RÚSTICA, 6=CEMENTO, 7=TIERRA"
   ]
  },
  {
   "cell_type": "markdown",
   "id": "16fcf6a4",
   "metadata": {},
   "source": [
    ">.\n",
    ">\n",
    "> _LA VARIABLE IV3 MUESTRA QUE PRÁCTICAMENTE TODOS LOS HOGARES CUENTAN CON PISOS DE ALTA CALIDAD, COMO CERÁMICA, MOSAICO O ALFOMBRA, LO CUAL REFLEJA BUENAS CONDICIONES HABITACIONALES._\n",
    "> \n",
    ">_NO SE DETECTARON HOGARES CON PISO DE TIERRA, CEMENTO O MADERA RÚSTICA, QUE SON INDICADORES TÍPICOS DE VULNERABILIDAD. ESTO SUGIERE UNA COBERTURA HABITACIONAL MUY POSITIVA EN TÉRMINOS DE TERMINACIONES DE PISO, AUNQUE LA AUSENCIA DE CASOS DE PISO DE BAJA CALIDAD PODRÍA ESTAR RELACIONADA CON UN POSIBLE SUBREGISTRO DE SECTORES MÁS EXCLUIDOS._ \n",
    "> \n",
    ">."
   ]
  },
  {
   "cell_type": "markdown",
   "id": "702e2cb3",
   "metadata": {},
   "source": [
    "##### <span style=\"color: #3795E1\">*VARIABLE IV4: MATERIAL DEL TECHO*"
   ]
  },
  {
   "cell_type": "code",
   "execution_count": null,
   "id": "48d4692c",
   "metadata": {},
   "outputs": [],
   "source": [
    "print(\"\")                                               \n",
    "conteo_IV4 = df['IV4'].value_counts().sort_index()        # CONTAR CUÁNTOS HOGARES HAY SEGÚN MATERIAL DEL TECHO\n",
    "conteo_IV4.plot(kind='bar')                               # GRAFICAR DISTRIBUCIÓN DE MATERIALES DE TECHO\n",
    "plt.title(\"VARIABLE IV4: MATERIAL DEL TECHO\")             # TÍTULO DEL GRÁFICO\n",
    "plt.xlabel(\"1=LOZA, 2=TEJAS, 3=PLÁSTICO, 4=CHAPA SOLA\")   # ETIQUETA DEL EJE X\n",
    "plt.ylabel(\"CANTIDAD DE HOGARES\")                         # ETIQUETA DEL EJE Y\n",
    "plt.xticks(rotation=0)                                    # MANTENER LAS ETIQUETAS HORIZONTALES\n",
    "plt.show()                                                # MOSTRAR EL GRÁFICO\n",
    "\n",
    "# IMPRIMO VALORES\n",
    "print(\"CANTIDAD DE HOGARES POR MATERIAL DEL TECHO (IV4):\")\n",
    "print(conteo_IV4)"
   ]
  },
  {
   "cell_type": "markdown",
   "id": "3eaef5e8",
   "metadata": {},
   "source": [
    ">.\n",
    ">\n",
    "> _LA VARIABLE IV4 REVELA QUE LA GRAN MAYORÍA DE LOS HOGARES DECLARÓ TENER TECHO DE CHAPA SOLA SIN ESTRUCTURA SOPORTE, LO QUE EN OTROS CONTEXTOS PODRÍA INTERPRETARSE COMO UNA CONDICIÓN DE VIVIENDA PRECARIA._\n",
    "> \n",
    ">_SIN EMBARGO, EN TIERRA DEL FUEGO, EL USO DE CHAPA COMO MATERIAL PRINCIPAL DE TECHO ES FRECUENTE Y RESPONDE A UN ESTILO CONSTRUCTIVO LOCAL, ADAPTADO AL CLIMA FRÍO, A LOS COSTOS Y A LA DISPONIBILIDAD DE MATERIALES. ESTO NO SIEMPRE IMPLICA EXCLUSIÓN SOCIAL, SINO UNA FORMA DE CONSTRUCCIÓN TÍPICA DE LA REGIÓN._ \n",
    "> \n",
    ">_AUN ASÍ, LA PRESENCIA DE TECHO DE PLÁSTICO O MADERA LIVIANA EN ALGUNOS CASOS PUEDE INDICAR CONDICIONES MÁS VULNERABLES._\n",
    "> \n",
    ">."
   ]
  },
  {
   "cell_type": "markdown",
   "id": "7a6857f0",
   "metadata": {},
   "source": [
    "##### <span style=\"color: #3795E1\">*VARIABLE IV5: MATERIAL DE LAS PAREDES*"
   ]
  },
  {
   "cell_type": "code",
   "execution_count": null,
   "id": "a9597dc1",
   "metadata": {},
   "outputs": [],
   "source": [
    "print(\"\")                                               \n",
    "conteo_IV5 = df['IV5'].value_counts().sort_index()                  # CONTAR CUÁNTOS HOGARES HAY SEGÚN MATERIAL DE PAREDES\n",
    "conteo_IV5.plot(kind='bar')                                         # GRAFICAR DISTRIBUCIÓN DE MATERIALES DE PAREDES\n",
    "plt.title(\"VARIABLE IV5: MATERIAL DE LAS PAREDES\")                  # TÍTULO DEL GRÁFICO\n",
    "plt.ylabel(\"CANTIDAD DE HOGARES\")                                   # ETIQUETA DEL EJE Y\n",
    "plt.xticks(rotation=0)                                              # MANTENER LAS ETIQUETAS HORIZONTALES\n",
    "plt.show()                                                          # MOSTRAR EL GRÁFICO\n",
    "\n",
    "# IMPRIMO VALORES\n",
    "print(\"CANTIDAD DE HOGARES POR MATERIAL DE LAS PAREDES (IV5):\")\n",
    "print(conteo_IV5)                          "
   ]
  },
  {
   "cell_type": "markdown",
   "id": "2c2e0301",
   "metadata": {},
   "source": [
    ">1=REVESTIDO, 2=NO REVESTIDO, 3=MADERA REV., 4=MADERA, 5=CHAPA, 6=OTRO\n"
   ]
  },
  {
   "cell_type": "markdown",
   "id": "0178b1a7",
   "metadata": {},
   "source": [
    ">.\n",
    ">\n",
    "> _LA VARIABLE IV5 MUESTRA QUE CASI TODOS LOS HOGARES DE LA MUESTRA CUENTAN CON PAREDES DE LADRILLO REVESTIDAS, UNA CONDICIÓN CONSTRUCTIVA SÓLIDA Y ESTABLE._\n",
    "> \n",
    ">_SÓLO UN PEQUEÑO GRUPO DE HOGARES PRESENTA PAREDES SIN REVESTIMIENTO, LO QUE PUEDE INDICAR UNA VIVIENDA EN CONSTRUCCIÓN O EN CONDICIONES MÁS BÁSICAS._ \n",
    "> \n",
    ">_NO SE REGISTRARON HOGARES CON PAREDES DE MADERA, CHAPA O MATERIALES IMPROVISADOS, LO CUAL CONFIRMA UNA BUENA CALIDAD HABITACIONAL EN TÉRMINOS ESTRUCTURALES, AUNQUE NO SE PUEDE DESCARTAR POSIBLE SUBREGISTRO DE HOGARES EN SITUACIONES MÁS VULNERABLES._\n",
    ">\n",
    ">."
   ]
  },
  {
   "cell_type": "markdown",
   "id": "a682c6c4",
   "metadata": {},
   "source": [
    "##### <span style=\"color: #3795E1\">*VARIABLE IV6: DISPONIBILIDAD DE AGUA*"
   ]
  },
  {
   "cell_type": "code",
   "execution_count": null,
   "id": "5ae15e73",
   "metadata": {},
   "outputs": [],
   "source": [
    "print(\"\")                                                \n",
    "conteo_IV6 = df['IV6'].value_counts().sort_index()                  # CONTAR CANTIDAD DE HOGARES SEGÚN DISPONIBILIDAD DE AGUA\n",
    "conteo_IV6.plot(kind='bar')                                         # GRAFICAR LAS BARRAS\n",
    "plt.title(\"VARIABLE IV6: DISPONIBILIDAD DE AGUA\")                   # TÍTULO DEL GRÁFICO\n",
    "plt.xlabel(\"1=Cañería interior, 2=En terreno, 3=Fuera del terreno\")              # CÓDIGOS SEGÚN EL DICCIONARIO\n",
    "plt.ylabel(\"CANTIDAD DE HOGARES\")                                   # EJE Y\n",
    "plt.xticks(rotation=0)                                              # ETIQUETAS HORIZONTALES\n",
    "plt.show()                                                          # MOSTRAR EL GRÁFICO\n",
    "\n",
    "# IMPRIMO VALORES\n",
    "print(\"CANTIDAD DE HOGARES POR DISPONIBILIDAD DE AGUA (IV6):\")\n",
    "print(conteo_IV6)\n"
   ]
  },
  {
   "cell_type": "markdown",
   "id": "806779cd",
   "metadata": {},
   "source": [
    ">.\n",
    ">\n",
    "> _LA VARIABLE IV6 REFLEJA LA DISPONIBILIDAD DE AGUA EN LOS HOGARES. LA GRAN MAYORÍA DE LOS HOGARES (MÁS DEL 99%) CUENTA CON CAÑERÍA DENTRO DE LA VIVIENDA, LO QUE INDICA UN BUEN NIVEL DE ACCESO A SERVICIOS BÁSICOS._\n",
    "> \n",
    ">_UN PEQUEÑO GRUPO DECLARÓ TENER LA CAÑERÍA FUERA DE LA VIVIENDA, Y SÓLO 6 HOGARES MANIFESTARON NO TENER CONEXIÓN DE AGUA, LO CUAL REPRESENTA UNA CONDICIÓN GRAVE DE EXCLUSIÓN SANITARIA._\n",
    ">\n",
    ">_ESTE RESULTADO SUGIERE UNA COBERTURA AMPLIAMENTE POSITIVA EN TÉRMINOS DE INFRAESTRUCTURA HÍDRICA EN LA PROVINCIA, AUNQUE LOS CASOS DE AUSENCIA TOTAL DE CAÑERÍA REQUIEREN ATENCIÓN ESPECIAL._\n",
    ">\n",
    ">."
   ]
  },
  {
   "cell_type": "markdown",
   "id": "0bcd2328",
   "metadata": {},
   "source": [
    "##### <span style=\"color: #3795E1\">*VARIABLE IV7: FUENTE DE AGUA*"
   ]
  },
  {
   "cell_type": "code",
   "execution_count": null,
   "id": "fd30c9a6",
   "metadata": {},
   "outputs": [],
   "source": [
    "print(\"\")                                               \n",
    "conteo_IV7 = df['IV7'].value_counts().sort_index()                          # CONTAR CUÁNTOS HOGARES HAY SEGÚN FUENTE DE AGUA\n",
    "conteo_IV7.plot(kind='bar')                                                 # GRAFICAR DISTRIBUCIÓN DE FUENTE DE AGUA\n",
    "plt.title(\"VARIABLE IV7: FUENTE DE AGUA\")                                   # TÍTULO DEL GRÁFICO\n",
    "plt.xlabel(\"1 = RED, 2 = BOMBA MOTOR, 3 = MANUAL, 4 = CISTERNA\")            # ETIQUETA DEL EJE X\n",
    "plt.ylabel(\"CANTIDAD DE HOGARES\")                                           # ETIQUETA DEL EJE Y\n",
    "plt.xticks(rotation=0)                                                      # MANTENER LAS ETIQUETAS HORIZONTALES\n",
    "plt.show()                                                                  # MOSTRAR EL GRÁFICO\n",
    "\n",
    "# IMPRIMO VALORES\n",
    "print(\"CANTIDAD DE HOGARES POR FUENTE DE AGUA (IV7):\")\n",
    "print(conteo_IV7)"
   ]
  },
  {
   "cell_type": "markdown",
   "id": "06742a7e",
   "metadata": {},
   "source": [
    ">.\n",
    ">\n",
    "> _LA VARIABLE IV7 MUESTRA QUE CASI TODOS LOS HOGARES DE LA MUESTRA SE ABASTECEN DE AGUA A TRAVÉS DE LA RED PÚBLICA, LO CUAL ES UN INDICADOR POSITIVO EN TÉRMINOS DE CALIDAD Y REGULARIDAD DEL SERVICIO._\n",
    "> \n",
    ">_UN PEQUEÑO PORCENTAJE UTILIZA CAMIONES CISTERNA U OTRAS FUENTES, LO QUE PODRÍA SUGERIR ZONAS CON CONECTIVIDAD LIMITADA O PROBLEMAS DE INFRAESTRUCTURA._\n",
    ">\n",
    ">_LOS CASOS QUE DEPENDEN DE BOMBAS MANUALES O A MOTOR SON MINORITARIOS, PERO REPRESENTAN SITUACIONES DE MAYOR VULNERABILIDAD SANITARIA, ESPECIALMENTE SI LA CALIDAD DEL AGUA NO ESTÁ GARANTIZADA._\n",
    ">\n",
    ">."
   ]
  },
  {
   "cell_type": "markdown",
   "id": "8aee6819",
   "metadata": {},
   "source": [
    "##### <span style=\"color: #3795E1\">*VARIABLE IV8: TIENE BAÑO*"
   ]
  },
  {
   "cell_type": "code",
   "execution_count": null,
   "id": "45e1e00a",
   "metadata": {},
   "outputs": [],
   "source": [
    "print(\"\")                                                                        \n",
    "conteo_IV8 = df['IV8'].value_counts().sort_index()              # CONTAR CUÁNTOS HOGARES TIENEN O NO TIENEN BAÑO\n",
    "conteo_IV8.plot(kind='bar')                                     # GRAFICAR DISTRIBUCIÓN DE LA VARIABLE IV8\n",
    "plt.title(\"VARIABLE IV8: ¿EL HOGAR TIENE BAÑO?\")                # TÍTULO DEL GRÁFICO\n",
    "plt.xlabel(\"1 = SÍ, 2 = NO\")                                    # ETIQUETA DEL EJE X\n",
    "plt.ylabel(\"CANTIDAD DE HOGARES\")                               # ETIQUETA DEL EJE Y\n",
    "plt.xticks(rotation=0)                                          # MANTENER LAS ETIQUETAS HORIZONTALES\n",
    "plt.grid(axis='y')                                              # AGREGAR REJILLA HORIZONTAL\n",
    "plt.show()                                                      # MOSTRAR EL GRÁFICO\n",
    "\n",
    "# IMPRIMO VALORES\n",
    "print(\"CANTIDAD DE HOGARES SEGÚN DISPONIBILIDAD DE BAÑO (IV8):\")\n",
    "print(conteo_IV8)\n"
   ]
  },
  {
   "cell_type": "markdown",
   "id": "745e03ec",
   "metadata": {},
   "source": [
    ">.\n",
    ">\n",
    ">SE COMENZÓ EL ANÁLISIS CON LA VARIABLE IV8 (DISPONIBILIDAD DE BAÑO EN EL HOGAR), POR SER UN INDICADOR FUNDAMENTAL DE SALUBRIDAD Y DIGNIDAD. SU AUSENCIA ES UN FUERTE PREDICTOR DE EXCLUSIÓN SOCIAL ESTRUCTURAL. EN LA BASE DE DATOS NO SE REGISTRARON HOGARES SIN BAÑO, LO QUE PUEDE INDICAR: (1) UNA COBERTURA CASI UNIVERSAL DE INFRAESTRUCTURA SANITARIA EN TIERRA DEL FUEGO, O (2) UNA OMISIÓN DE LOS HOGARES MÁS VULNERABLES, GENERANDO SESGO DE SUBREGISTRO.\n",
    ">\n",
    ">."
   ]
  },
  {
   "cell_type": "markdown",
   "id": "6767a002",
   "metadata": {},
   "source": [
    "##### <span style=\"color: #3795E1\">*VARIABLE II19: USO DEL BAÑO*"
   ]
  },
  {
   "cell_type": "code",
   "execution_count": null,
   "id": "06d357f2",
   "metadata": {},
   "outputs": [],
   "source": [
    "print(\"\")                                                                                \n",
    "conteo_II9 = df['II9'].value_counts().sort_index()                                  # CONTAR CANTIDAD DE HOGARES SEGÚN USO DEL BAÑO (II9)\n",
    "conteo_II9.plot(kind='bar')                                                         # GRAFICAR LA DISTRIBUCIÓN EN BARRAS\n",
    "plt.title(\"USO DEL BAÑO (II9)\")                                                     # TÍTULO DEL GRÁFICO\n",
    "plt.ylabel(\"CANTIDAD DE HOGARES\")                                                   # ETIQUETA DEL EJE Y\n",
    "plt.xticks(rotation=0)                                                              # ETIQUETAS HORIZONTALES\n",
    "plt.grid(axis='y')                                                                  # AGREGAR REJILLA EN EJE Y\n",
    "plt.show()                                                                           # MOSTRAR EL GRÁFICO\n",
    "\n",
    "# IMPRIMO VALORES\n",
    "print(\"CANTIDAD DE HOGARES SEGÚN USO DEL BAÑO (II9):\")\n",
    "print(conteo_II9)"
   ]
  },
  {
   "cell_type": "markdown",
   "id": "db9b53ba",
   "metadata": {},
   "source": [
    ">1=EXCLUSIVO, 2=COMPARTIDO CON OTROS HOGARES, 3=CON OTRAS VIVIENDAS, 4=NO TIENE"
   ]
  },
  {
   "cell_type": "markdown",
   "id": "ff5d90b2",
   "metadata": {},
   "source": [
    ">.\n",
    ">\n",
    ">_LA GRAN MAYORÍA DE LOS HOGARES (6911) DECLARARON CONTAR CON USO EXCLUSIVO DEL BAÑO (II9 = 1), LO QUE REFLEJA UN ALTO NIVEL DE PRIVACIDAD Y CONDICIONES ADECUADAS DE HIGIENE SANITARIA._\n",
    ">\n",
    ">_EN CONTRASTE, 25 HOGARES COMPARTEN EL BAÑO CON OTROS HOGARES (II9 = 2), 3 CON OTRAS VIVIENDAS (II9 = 3), Y 5 HOGARES DECLARARON NO TENER ACCESO A BAÑO (II9 = 4). ESTOS CASOS REPRESENTAN SITUACIONES DE MAYOR VULNERABILIDAD HABITACIONAL, RELACIONADAS CON CONDICIONES DE HACINAMIENTO, FALTA DE INFRAESTRUCTURA Y POSIBLE EXCLUSIÓN SOCIAL._\n",
    ">\n",
    ">_ESTA VARIABLE ES CLAVE PARA DETECTAR DÉFICITS SANITARIOS QUE PUEDEN AFECTAR LA SALUD Y LA DIGNIDAD DE LOS HOGARES MÁS PRECARIOS._\n",
    ">\n",
    ">."
   ]
  },
  {
   "cell_type": "markdown",
   "id": "2c8b5622",
   "metadata": {},
   "source": [
    "##### <span style=\"color: #3795E1\">*VARIABLE IV9: UBICACIÓN DEL BAÑO*"
   ]
  },
  {
   "cell_type": "code",
   "execution_count": null,
   "id": "97514a7e",
   "metadata": {},
   "outputs": [],
   "source": [
    "print(\"\")                                                                          \n",
    "conteo_IV9 = df['IV9'].value_counts().sort_index()                 # CONTAR CUÁNTOS HOGARES HAY SEGÚN UBICACIÓN DEL BAÑO\n",
    "conteo_IV9.plot(kind='bar')                                        # GRAFICAR DISTRIBUCIÓN DE LA VARIABLE IV9\n",
    "plt.title(\"VARIABLE IV9: UBICACIÓN DEL BAÑO\")                      # TÍTULO DEL GRÁFICO\n",
    "plt.xlabel(\"1 = DENTRO, 2 = EN EL TERRENO, 3 = FUERA\")             # ETIQUETAS DEL EJE X CON SIGNIFICADO DE CÓDIGOS\n",
    "plt.ylabel(\"CANTIDAD DE HOGARES\")                                  # ETIQUETA DEL EJE Y\n",
    "plt.xticks(rotation=0)                                             # MANTENER ETIQUETAS HORIZONTALES\n",
    "plt.grid(axis='y')                                                 # AGREGAR REJILLA HORIZONTAL\n",
    "plt.show()                                                         # MOSTRAR EL GRÁFICO\n",
    "\n",
    "# IMPRIMO VALORES\n",
    "print(\"CANTIDAD DE HOGARES POR UBICACIÓN DEL BAÑO (IV9):\")                  \n",
    "print(conteo_IV9)                                                  \n"
   ]
  },
  {
   "cell_type": "markdown",
   "id": "73add11f",
   "metadata": {},
   "source": [
    ">.\n",
    ">\n",
    ">_LA MAYORÍA DE LOS HOGARES DECLARÓ TENER EL BAÑO DENTRO DE LA VIVIENDA, LO QUE INDICA BUENAS CONDICIONES SANITARIAS GENERALES._\n",
    ">\n",
    ">_TENER EL BAÑO EN EL TERRENO PUEDE SER UNA SITUACIÓN ACEPTABLE, PERO REFLEJA UN NIVEL DE INFRAESTRUCTURA MÁS BÁSICO. NO SE REGISTRARON HOGARES CON EL BAÑO FUERA DEL TERRENO, LO CUAL ES POSITIVO, AUNQUE TAMBIÉN PUEDE SIGNIFICAR QUE ESOS HOGARES NO FUERON INCLUIDOS EN LA ENCUESTA._\n",
    ">\n",
    ">."
   ]
  },
  {
   "cell_type": "markdown",
   "id": "372dcdb6",
   "metadata": {},
   "source": [
    "##### <span style=\"color: #3795E1\">*VARIABLE IV10: TIPO DE INSTALACIÓN DEL BAÑO*"
   ]
  },
  {
   "cell_type": "code",
   "execution_count": null,
   "id": "918ec626",
   "metadata": {},
   "outputs": [],
   "source": [
    "print(\"\")                                                                                  \n",
    "conteo_IV10 = df['IV10'].value_counts().sort_index()                           # CONTAR CUÁNTOS HOGARES SEGÚN TIPO DE INSTALACIÓN DEL BAÑO\n",
    "conteo_IV10.plot(kind='bar')                                                   # GRAFICAR DISTRIBUCIÓN DE LA VARIABLE IV10\n",
    "plt.title(\"VARIABLE IV10: TIPO DE INSTALACIÓN DEL BAÑO\")                       # TÍTULO DEL GRÁFICO\n",
    "plt.xlabel(\"1 = INODORO CON MOCHILA, 2 = SIN MOCHILA, 3 = LETRINA\")            # ETIQUETAS DEL EJE X\n",
    "plt.ylabel(\"CANTIDAD DE HOGARES\")                                              # ETIQUETA DEL EJE Y\n",
    "plt.xticks(rotation=0)                                                         # ETIQUETAS HORIZONTALES\n",
    "plt.grid(axis='y')                                                             # AGREGAR REJILLA EN EJE Y\n",
    "plt.show()                                                                     # MOSTRAR EL GRÁFICO\n",
    "\n",
    "# IMPRIMO VALORES\n",
    "print(\"CANTIDAD DE HOGARES SEGÚN TIPO DE INSTALACIÓN DEL BAÑO (IV10):\")\n",
    "print(conteo_IV10)\n"
   ]
  },
  {
   "cell_type": "markdown",
   "id": "a89d5abf",
   "metadata": {},
   "source": [
    ">.\n",
    ">\n",
    ">_LA GRAN MAYORÍA DE LOS HOGARES (6909) CUENTA CON INODORO CON MOCHILA (IV10 = 1), LO QUE INDICA UN ALTO NIVEL DE ACCESO A INSTALACIONES SANITARIAS ADECUADAS. SOLO 35 HOGARES DECLARARON UTILIZAR UN INODORO SIN MOCHILA (IV10 = 2), Y NO SE REGISTRARON HOGARES CON LETRINA (IV10 = 3)._\n",
    ">\n",
    ">_ESTOS RESULTADOS REFUERZAN LA IDEA DE UNA INFRAESTRUCTURA SANITARIA FORMALIZADA EN LA MAYOR PARTE DE LOS HOGARES DE TIERRA DEL FUEGO, AUNQUE LA PEQUEÑA CANTIDAD DE HOGARES CON INSTALACIONES PRECARIAS DEBE SER TENIDA EN CUENTA EN EL ANÁLISIS DE EXCLUSIÓN SANITARIA._\n",
    ">\n",
    ">."
   ]
  },
  {
   "cell_type": "markdown",
   "id": "b80dfd43",
   "metadata": {},
   "source": [
    "##### <span style=\"color: #3795E1\">*VARIABLE IV11: TIPO DE DESAGÜE DEL BAÑO*"
   ]
  },
  {
   "cell_type": "code",
   "execution_count": null,
   "id": "ee3c854c",
   "metadata": {},
   "outputs": [],
   "source": [
    "print(\"\")                                                                         \n",
    "conteo_IV11 = df['IV11'].value_counts().sort_index()                              # CONTAR CUÁNTOS HOGARES SEGÚN TIPO DE DESAGÜE DEL BAÑO\n",
    "conteo_IV11.plot(kind='bar')                                                      # GRAFICAR DISTRIBUCIÓN DE LA VARIABLE IV11\n",
    "plt.title(\"VARIABLE IV11: TIPO DE DESAGÜE DEL BAÑO\")                              # TÍTULO DEL GRÁFICO\n",
    "plt.ylabel(\"CANTIDAD DE HOGARES\")                                                 # ETIQUETA DEL EJE Y\n",
    "plt.xticks(rotation=0)                                                            # MANTENER LAS ETIQUETAS HORIZONTALES\n",
    "plt.grid(axis='y')                                                                # AGREGAR REJILLA EN EL EJE Y\n",
    "plt.show()                                                                        # MOSTRAR EL GRÁFICO\n",
    "\n",
    "# IMPRIMO VALORES\n",
    "print(\"CANTIDAD DE HOGARES SEGÚN TIPO DE DESAGÜE DEL BAÑO (IV11):\")              \n",
    "print(conteo_IV11)                                                                 # MOSTRAR VALORES POR CATEGORÍA\n"
   ]
  },
  {
   "cell_type": "markdown",
   "id": "2e8243f6",
   "metadata": {},
   "source": [
    ">1 = CLOACA, 2 = CÁMARA SÉPTICA, 3 = POZO CIEGO, 4 = EXCAVACIÓN"
   ]
  },
  {
   "cell_type": "markdown",
   "id": "83e2b2a4",
   "metadata": {},
   "source": [
    ">.\n",
    ">\n",
    ">_LA GRAN MAYORÍA DE LOS HOGARES CUENTA CON CONEXIÓN A LA CLOACA (6621), LO QUE REFLEJA UN ALTO NIVEL DE INFRAESTRUCTURA SANITARIA FORMAL EN LA PROVINCIA._\n",
    ">\n",
    ">_SIN EMBARGO, UN CONJUNTO DE HOGARES AÚN UTILIZA CÁMARAS SÉPTICAS (269), POZOS CIEGOS (39) O EXCAVACIONES (15), LO QUE PODRÍA INDICAR CONDICIONES DE MAYOR VULNERABILIDAD Y FALTA DE ACCESO A SERVICIOS BÁSICOS DE SANEAMIENTO._\n",
    ">\n",
    ">.\n"
   ]
  },
  {
   "cell_type": "markdown",
   "id": "1610e190",
   "metadata": {},
   "source": [
    "##### <span style=\"color: #3795E1\">*VARIABLE IV12_1: LA VIVIENDA ESTA CERCA DE UN BASURAL*"
   ]
  },
  {
   "cell_type": "code",
   "execution_count": null,
   "id": "25bee24d",
   "metadata": {},
   "outputs": [],
   "source": [
    "print(\"\")                                                                                     \n",
    "conteo_basural = df['IV12_1'].value_counts().sort_index()                       # CONTAR CANTIDAD DE HOGARES SEGÚN SI ESTÁN CERCA DE UN BASURAL (IV12_1)\n",
    "conteo_basural.plot(kind='bar')                                                 # CREAR GRÁFICO DE BARRAS\n",
    "plt.title(\"¿LA VIVIENDA ESTÁ CERCA DE UN BASURAL? (IV12_1)\")                    # TÍTULO DEL GRÁFICO\n",
    "plt.xlabel(\"1 = SÍ, 2 = NO\")                                                    # ETIQUETA EJE X\n",
    "plt.ylabel(\"CANTIDAD DE HOGARES\")                                               # ETIQUETA EJE Y\n",
    "plt.xticks(rotation=0)                                                          # ROTAR ETIQUETAS DEL EJE X\n",
    "plt.grid(axis='y')                                                              # AGREGAR REJILLA HORIZONTAL EN EJE Y\n",
    "plt.show()                                                                      # MOSTRAR EL GRÁFICO\n",
    "\n",
    "# IMPRIMO VALORES\n",
    "print(\"CANTIDAD DE HOGARES SEGÚN PROXIMIDAD A BASURAL (IV12_1):\")               # IMPRIMIR TÍTULO DE RESULTADOS\n",
    "print(conteo_basural)                                                           # IMPRIMIR TABLA DE FRECUENCIAS"
   ]
  },
  {
   "cell_type": "markdown",
   "id": "e64e74f8",
   "metadata": {},
   "source": [
    ">.\n",
    ">\n",
    ">_UN TOTAL DE 71 HOGARES DECLARARON ESTAR UBICADOS CERCA DE UN BASURAL, MIENTRAS QUE 6873 HOGARES NO SE ENCUENTRAN EN ESA CONDICIÓN._\n",
    ">\n",
    ">_VIVIR CERCA DE UN BASURAL ES UN INDICADOR CLARO DE VULNERABILIDAD AMBIENTAL Y PUEDE AFECTAR DIRECTAMENTE LA CALIDAD DE VIDA, SALUD Y BIENESTAR DE LOS MIEMBROS DEL HOGAR. ESTA VARIABLE CONTRIBUYE A IDENTIFICAR CONTEXTOS DE EXCLUSIÓN SOCIAL ASOCIADOS A LA DEGRADACIÓN DEL ENTORNO HABITACIONAL._\n",
    ">\n",
    ">."
   ]
  },
  {
   "cell_type": "markdown",
   "id": "64fd08fe",
   "metadata": {},
   "source": [
    "##### <span style=\"color: #3795E1\">*VARIABLE IV12_2: LA VIVIENDA ESTÁ EN ZONA INUNDABLE*"
   ]
  },
  {
   "cell_type": "code",
   "execution_count": null,
   "id": "736442b9",
   "metadata": {},
   "outputs": [],
   "source": [
    "print(\"\")                                                                                \n",
    "conteo_IV12_2 = df[\"IV12_2\"].value_counts().sort_index()                                                    # CONTAR CANTIDAD DE HOGARES SEGÚN SI ESTÁN EN ZONA INUNDABLE (1=Sí, 2=No)\n",
    "conteo_IV12_2.plot(kind=\"bar\", color=\"#1f77b4\")                                                           # GRAFICAR BARRA SIMPLE\n",
    "plt.title(\"VARIABLE IV12_2: LA VIVIENDA ESTÁ EN ZONA INUNDABLE\")                                            # TÍTULO DEL GRÁFICO\n",
    "plt.xlabel(\"1 = SÍ, 2 = NO\")                                                                                # ETIQUETAS DEL EJE X\n",
    "plt.ylabel(\"CANTIDAD DE HOGARES\")                                                                           # ETIQUETA DEL EJE Y\n",
    "plt.xticks(rotation=0)                                                                                      # MANTENER ETIQUETAS HORIZONTALES\n",
    "plt.grid(axis='y')                                                                                          # AGREGAR LÍNEAS DE REJILLA EN EJE Y\n",
    "plt.gca().yaxis.set_major_formatter(mticker.FuncFormatter(lambda x, _: f'{int(x):,}'.replace(\",\", \".\")))    # FORMATO MILES\n",
    "plt.show()                                                                                                  # MOSTRAR GRÁFICO\n",
    "\n",
    "# IMPRIMO TABLA\n",
    "print(\"CANTIDAD DE HOGARES SEGÚN ZONA INUNDABLE (IV12_2):\")\n",
    "print(conteo_IV12_2)\n"
   ]
  },
  {
   "cell_type": "markdown",
   "id": "5029ad19",
   "metadata": {},
   "source": [
    ">.\n",
    ">\n",
    ">_UN TOTAL DE 46 HOGARES DECLARARON ESTAR UBICADOS EN UNA ZONA INUNDABLE, LO QUE REPRESENTA UNA MINORÍA EN RELACIÓN A LOS 6.898 HOGARES QUE NO LO ESTÁN._\n",
    ">\n",
    ">_ESTA VARIABLE CONSTITUYE UN INDICADOR AMBIENTAL DE VULNERABILIDAD HABITACIONAL. VIVIR EN ZONAS INUNDABLES EXPONE A LOS HOGARES A RIESGOS CLIMÁTICOS Y PÉRDIDAS MATERIALES, CONDICIONES QUE PUEDEN AGRAVAR LA EXCLUSIÓN SOCIAL._\n",
    ">\n",
    ">."
   ]
  },
  {
   "cell_type": "markdown",
   "id": "e7611d67",
   "metadata": {},
   "source": [
    "##### <span style=\"color: #3795E1\">*VARIABLE IV12_3: LA VIVIENDA ESTÁ EN VILLA DE EMERGENCIA*"
   ]
  },
  {
   "cell_type": "code",
   "execution_count": null,
   "id": "96f8b7b3",
   "metadata": {},
   "outputs": [],
   "source": [
    "print(\"\")                                                                                \n",
    "conteo_IV12_3 = df['IV12_3'].value_counts().sort_index()                            # CONTAR HOGARES SEGÚN SI ESTÁN EN VILLA DE EMERGENCIA\n",
    "conteo_IV12_3.plot(kind='bar')                                                      # GRAFICAR LA DISTRIBUCIÓN\n",
    "plt.title(\"VARIABLE IV12_3: ¿ESTÁ EN VILLA DE EMERGENCIA?\")                         # TÍTULO DEL GRÁFICO\n",
    "plt.xlabel(\"1 = SÍ, 2 = NO\")                                                        # ETIQUETAS EN EJE X\n",
    "plt.ylabel(\"CANTIDAD DE HOGARES\")                                                   # ETIQUETA EN EJE Y\n",
    "plt.xticks(rotation=0)                                                              # MANTENER ETIQUETAS HORIZONTALES\n",
    "plt.grid(axis='y')                                                                  # AGREGAR REJILLA EN EJE Y\n",
    "plt.show()                                                                          # MOSTRAR GRÁFICO\n",
    "\n",
    "# IMPRIMO VALORES\n",
    "print(\"CANTIDAD DE HOGARES SEGÚN SI ESTÁN EN VILLA DE EMERGENCIA (IV12_3):\")    \n",
    "print(conteo_IV12_3)                                                                # MOSTRAR DISTRIBUCIÓN EN CONSOLA\n"
   ]
  },
  {
   "cell_type": "markdown",
   "id": "cad2d76b",
   "metadata": {},
   "source": [
    ">.\n",
    ">\n",
    ">_SOLO 42 HOGARES DECLARARON VIVIR EN UNA VILLA DE EMERGENCIA (IV12_3 = 1), MIENTRAS QUE 6902 HOGARES INDICARON NO ESTAR EN ESTA SITUACIÓN (IV12_3 = 2)._\n",
    ">\n",
    ">_AUNQUE LA INCIDENCIA RELATIVA ES BAJA, LA PRESENCIA DE HOGARES EN VILLAS DE EMERGENCIA REPRESENTA UN INDICADOR CRÍTICO DE EXCLUSIÓN HABITACIONAL EXTREMA. ESTOS ENTORNOS SUELE ASOCIARSE A CONDICIONES DE ALTA VULNERABILIDAD SOCIAL Y FALTA DE ACCESO A SERVICIOS BÁSICOS._\n",
    ">\n",
    ">."
   ]
  },
  {
   "cell_type": "markdown",
   "id": "6212d181",
   "metadata": {},
   "source": [
    "##### <span style=\"color: #3795E1\">*VARIABLE II1: AMBIENTES DE USO EXCLUSIVO DEL HOGAR*"
   ]
  },
  {
   "cell_type": "code",
   "execution_count": null,
   "id": "c4c1ddd2",
   "metadata": {},
   "outputs": [],
   "source": [
    "print(\"\")                                                                         \n",
    "conteo_II1 = df['II1'].value_counts().sort_index()                              # CONTAR CUÁNTOS HOGARES HAY SEGÚN LA VARIABLE II1 (CANTIDAD DE AMBIENTES DE USO EXCLUSIVO)\n",
    "conteo_II1.plot(kind='bar')                                                     # GRAFICAR DISTRIBUCIÓN DE CANTIDAD DE AMBIENTES EXCLUSIVOS\n",
    "plt.title(\"VARIABLE II1: AMBIENTES DEL HOGAR\")                                  # TÍTULO DEL GRÁFICO\n",
    "plt.xlabel(\"CANTIDAD DE AMBIENTES\")                                             # ETIQUETA DEL EJE X\n",
    "plt.ylabel(\"CANTIDAD DE HOGARES\")                                               # ETIQUETA DEL EJE Y\n",
    "plt.xticks(rotation=0)                                                          # MANTENER LAS ETIQUETAS HORIZONTALES\n",
    "plt.grid(axis='y')                                                              # AGREGAR REJILLA AL EJE Y\n",
    "plt.show()                                                                      # MOSTRAR EL GRÁFICO\n",
    "\n",
    "# IMPRIMO VALORES\n",
    "print(\"CANTIDAD DE HOGARES POR CANTIDAD DE AMBIENTES (II1):\")\n",
    "print(conteo_II1)\n"
   ]
  },
  {
   "cell_type": "markdown",
   "id": "ad359c2f",
   "metadata": {},
   "source": [
    ">.\n",
    ">\n",
    "> _SE ANALIZÓ LA VARIABLE II1, QUE INDICA LA CANTIDAD DE AMBIENTES DE USO EXCLUSIVO EN EL HOGAR. ESTA VARIABLE ES FUNDAMENTAL PARA COMPRENDER EL GRADO DE COMODIDAD Y ESPACIO DISPONIBLE PARA CADA FAMILIA._\n",
    "> \n",
    "> _SE OBSERVA QUE LA MAYORÍA DE LOS HOGARES DISPONEN ENTRE 2 Y 4 AMBIENTES, LO CUAL SUGIERE UNA CONFIGURACIÓN HABITACIONAL PROMEDIO ACEPTABLE._ \n",
    "> \n",
    ">_NO OBSTANTE:_\n",
    ">\n",
    ">_- 5 HOGARES DECLARAN TENER CERO AMBIENTES EXCLUSIVOS, LO QUE DENOTA UNA SITUACIÓN DE VULNERABILIDAD HABITACIONAL EXTREMA._\n",
    ">\n",
    ">_- TAMBIÉN EXISTEN CASOS DE HOGARES CON MÁS DE 6 AMBIENTES, AUNQUE SON MINORITARIOS.._\n",
    ">\n",
    ">_ESTA VARIABLE PUEDE SER COMBINADA POSTERIORMENTE CON LA CANTIDAD DE PERSONAS PARA EVALUAR EL NIVEL DE HACINAMIENTO._\n",
    ">\n",
    ">."
   ]
  },
  {
   "cell_type": "markdown",
   "id": "17e8a134",
   "metadata": {},
   "source": [
    "##### <span style=\"color: #3795E1\">*VARIABLE II2: CANTIDAD DE HAMBIENTES USANDOS PARA DORMIR*"
   ]
  },
  {
   "cell_type": "code",
   "execution_count": null,
   "id": "d70638e5",
   "metadata": {},
   "outputs": [],
   "source": [
    "print(\"\")                                                                         \n",
    "conteo_II2 = df['II2'].value_counts().sort_index()                          # CONTAR CUÁNTOS HOGARES HAY SEGÚN LA SUPERFICIE TOTAL DECLARADA\n",
    "conteo_II2.plot(kind='bar')                                                 # GRAFICAR LA DISTRIBUCIÓN DE SUPERFICIE TOTAL DEL HOGAR\n",
    "plt.title(\"VARIABLE II2: CANTIDAD DE HAMBIENTES USANDOS PARA DORMIR\")       # TÍTULO DEL GRÁFICO+\n",
    "plt.xlabel(\"HAMBIENTES USADOS PARA DORMIR\")                                 # ETIQUETA DEL EJE X\n",
    "plt.ylabel(\"CANTIDAD DE HOGARES\")                                           # ETIQUETA DEL EJE Y\n",
    "plt.xticks(rotation=0)                                                      # MANTENER ETIQUETAS HORIZONTALES\n",
    "plt.grid(axis='y')                                                          # AGREGAR REJILLA AL EJE Y\n",
    "plt.show()                                                                  # MOSTRAR EL GRÁFICO\n",
    "\n",
    "# IMPRIMO VALORES\n",
    "print(\"CANTIDAD DE HOGARES POR HAMBIENTES USADOS PARA DORMIR (II2):\")    \n",
    "print(conteo_II2)"
   ]
  },
  {
   "cell_type": "markdown",
   "id": "a327c8a5",
   "metadata": {},
   "source": [
    ">.\n",
    ">\n",
    ">_LA VARIABLE II2 REFLEJA LA CANTIDAD DE AMBIENTES DESTINADOS AL DESCANSO. LA MAYORÍA DE LOS HOGARES DECLARA ENTRE 1 Y 3 AMBIENTES PARA DORMIR, LO QUE PODRÍA SUGERIR CONDICIONES ADECUADAS PARA GRUPOS FAMILIARES REDUCIDOS._\n",
    ">\n",
    ">_SIN EMBARGO, EN HOGARES NUMEROSOS, ESTA DISPONIBILIDAD PUEDE IMPLICAR HACINAMIENTO NOCTURNO, UN INDICADOR RELEVANTE DE VULNERABILIDAD HABITACIONAL. LOS VALORES EN “0” POSIBLEMENTE REFIERAN A ERRORES DE CARGA O A HOGARES CON CONDICIONES CRÍTICAS._\n",
    ">\n",
    ">."
   ]
  },
  {
   "cell_type": "markdown",
   "id": "ab9b41a9",
   "metadata": {},
   "source": [
    "##### <span style=\"color: #3795E1\">*VARIABLE II3: USA UN AMBIENTE EXCLUSIVO PARA TRABAJAR*"
   ]
  },
  {
   "cell_type": "code",
   "execution_count": null,
   "id": "a85fcf12",
   "metadata": {},
   "outputs": [],
   "source": [
    "print(\"\")\n",
    "conteo_II3 = df['II3'].value_counts().sort_index()                             # CONTAR CANTIDAD DE HOGARES SEGÚN USO DE AMBIENTE EXCLUSIVO PARA TRABAJAR\n",
    "conteo_II3.plot(kind='bar')                                                    # CREAR GRÁFICO DE BARRAS\n",
    "plt.title(\"VARIABLE II3: USA UN AMBIENTE EXCLUSIVO PARA TRABAJAR\")             # TÍTULO DEL GRÁFICO\n",
    "plt.xlabel(\"1 = SÍ, 2 = NO\")                                                   # ETIQUETA DEL EJE X\n",
    "plt.ylabel(\"CANTIDAD DE HOGARES\")                                              # ETIQUETA DEL EJE Y\n",
    "plt.xticks(rotation=0)                                                         # ROTACIÓN HORIZONTAL PARA ETIQUETAS\n",
    "plt.grid(axis='y')                                                             # AGREGAR REJILLA EN EJE Y\n",
    "plt.show()                                                                     # MOSTRAR EL GRÁFICO\n",
    "\n",
    "# IMPRIMO VALORES\n",
    "print(\"CANTIDAD DE HOGARES SEGÚN SI USAN UN AMBIENTE EXCLUSIVAMENTE PARA TRABAJAR (II3):\")\n",
    "print(conteo_II3)\n"
   ]
  },
  {
   "cell_type": "markdown",
   "id": "c876e46b",
   "metadata": {},
   "source": [
    ">.\n",
    ">\n",
    ">_SOLO 489 HOGARES DECLARARON DESTINAR UN AMBIENTE DE LA VIVIENDA EXCLUSIVAMENTE PARA TRABAJAR (II3 = 2), LO QUE REPRESENTA UNA MINORÍA RESPECTO DEL TOTAL._\n",
    ">\n",
    ">_ESTO PUEDE INDICAR UNA LIMITADA DISPONIBILIDAD DE ESPACIO PARA ACTIVIDADES PRODUCTIVAS EN EL HOGAR, O UNA ESCASA PREVALENCIA DE TRABAJO REMOTO O INFORMAL DOMICILIARIO EN LA MUESTRA._\n",
    ">\n",
    ">_EN CAMBIO, 6455 HOGARES NO TIENEN UN AMBIENTE RESERVADO PARA TRABAJAR (II3 = 1), LO QUE PUEDE REFLEJAR UNA ORGANIZACIÓN MÁS TRADICIONAL DEL ESPACIO DOMÉSTICO, O CONDICIONES HABITACIONALES QUE NO LO PERMITEN._\n",
    ">\n",
    ">\n",
    ">.\n"
   ]
  },
  {
   "cell_type": "markdown",
   "id": "5e7e6aec",
   "metadata": {},
   "source": [
    "##### <span style=\"color: #3795E1\">*VARIABLE II3_1: CANTIDAD DE AMBIENTES EXCLUSIVO PARA TRABAJAR*"
   ]
  },
  {
   "cell_type": "code",
   "execution_count": null,
   "id": "a8dbdb34",
   "metadata": {},
   "outputs": [],
   "source": [
    "print(\"\")\n",
    "conteo_II3_1 = df[\"II3_1\"].value_counts().sort_index()                                                      # CONTEO POR VALOR DE II3_1\n",
    "conteo_II3_1.plot(kind=\"bar\")                                                                               # GRAFICAR EN BARRAS\n",
    "plt.title(\"VARIABLE II3_1: CANTIDAD DE AMBIENTES EXCLUSIVO PARA TRABAJAR\")                                  # TÍTULO DEL GRÁFICO\n",
    "plt.xlabel(\"CANTIDAD DE AMBIENTES EXCLUSIVOS PARA TRABAJO\")                                                 # ETIQUETA EJE X\n",
    "plt.ylabel(\"CANTIDAD DE HOGARES\")                                                                           # ETIQUETA EJE Y\n",
    "plt.xticks(rotation=0)                                                                                      # ROTACIÓN DE ETIQUETAS\n",
    "plt.grid(axis=\"y\")                                                                                          # LÍNEAS DE REJILLA HORIZONTALES\n",
    "plt.gca().yaxis.set_major_formatter(mticker.FuncFormatter(lambda x, _: f'{int(x):,}'.replace(\",\", \".\")))    # SIN NOTACIÓN CIENCÍFICA\n",
    "plt.show()\n",
    "\n",
    "# IMPRIMO VALORES\n",
    "print(\"CANTIDAD DE HOGARES SEGÚN CANTIDAD DE AMBIENTES USADOS EXCLUSIVAMENTE PARA TRABAJAR (II3_1):\")\n",
    "print(conteo_II3_1)\n"
   ]
  },
  {
   "cell_type": "markdown",
   "id": "88e4d43c",
   "metadata": {},
   "source": [
    ">.\n",
    ">\n",
    ">_LA GRAN MAYORÍA DE LOS HOGARES (6455) NO DESTINAN NINGÚN AMBIENTE EXCLUSIVAMENTE PARA TRABAJAR (II3_1 = 0). SIN EMBARGO, 451 HOGARES CUENTAN CON 1 AMBIENTE DEDICADO AL TRABAJO, Y SOLO 38 TIENEN 2 AMBIENTES DESTINADOS A ESTE FIN._\n",
    ">\n",
    ">_ESTOS DATOS SUGIEREN QUE EL TRABAJO DESDE EL HOGAR, AL MENOS EN TÉRMINOS DE ESPACIO EXCLUSIVO, NO ESTÁ GENERALIZADO EN LA POBLACIÓN. LA PRESENCIA DE AMBIENTES DESTINADOS AL TRABAJO PODRÍA RELACIONARSE CON ACTIVIDADES INDEPENDIENTES, TELETRABAJO O NEGOCIOS FAMILIARES. SU AUSENCIA PUEDE REFLEJAR LIMITACIONES DE ESPACIO O LA NATURALEZA DEL EMPLEO FUERA DEL HOGAR._\n",
    ">\n",
    ">."
   ]
  },
  {
   "cell_type": "markdown",
   "id": "a1aff888",
   "metadata": {},
   "source": [
    "##### <span style=\"color: #3795E1\">*VARIABLE II4_1: TIENE CUARTO DE COCINA*"
   ]
  },
  {
   "cell_type": "code",
   "execution_count": null,
   "id": "e5717714",
   "metadata": {},
   "outputs": [],
   "source": [
    "print(\"\")                                                                              \n",
    "conteo_II4_1 = df['II4_1'].value_counts().sort_index()                                  # CONTAR CUÁNTOS HOGARES TIENEN CUARTO DE COCINA (1=SÍ, 2=NO)\n",
    "conteo_II4_1.plot(kind='bar')                                                           # GRAFICAR DISTRIBUCIÓN EN BARRAS\n",
    "plt.title(\"VARIABLE II4_1: TIENE CUARTO DE COCINA\")                                     # TÍTULO DEL GRÁFICO\n",
    "plt.xlabel(\"1 = SÍ, 2 = NO\")                                                            # ETIQUETAS DEL EJE X\n",
    "plt.ylabel(\"CANTIDAD DE HOGARES\")                                                       # ETIQUETA DEL EJE Y\n",
    "plt.xticks(rotation=0)                                                                  # ETIQUETAS HORIZONTALES\n",
    "plt.grid(axis='y')                                                                      # AGREGAR REJILLA EN EJE Y\n",
    "plt.show()                                                                              # MOSTRAR EL GRÁFICO\n",
    "\n",
    "# IMPRIMO VALORES\n",
    "print(\"CANTIDAD DE HOGARES SEGÚN SI TIENEN CUARTO DE COCINA (II4_1):\")\n",
    "print(conteo_II4_1)\n"
   ]
  },
  {
   "cell_type": "markdown",
   "id": "cc91c709",
   "metadata": {},
   "source": [
    ">.\n",
    ">\n",
    ">_UN TOTAL DE 5.641 HOGARES DECLARARON DISPONER DE UN CUARTO DE COCINA, MIENTRAS QUE 1.303 HOGARES INFORMARON NO CONTAR CON ESTE ESPACIO._\n",
    ">\n",
    ">_LA PRESENCIA DE UN CUARTO DE COCINA PUEDE CONSIDERARSE UN INDICADOR DE CALIDAD HABITACIONAL Y AUTONOMÍA EN LA PREPARACIÓN DE ALIMENTOS. LA AUSENCIA DE ESTE ESPACIO PODRÍA REFLEJAR DÉFICIT EN LAS CONDICIONES DE VIVIENDA O SITUACIONES DE HACINAMIENTO FUNCIONAL._\n",
    ">\n",
    ">.\n"
   ]
  },
  {
   "cell_type": "markdown",
   "id": "bb92e0e3",
   "metadata": {},
   "source": [
    "##### <span style=\"color: #3795E1\">*VARIABLE II7: TENENCIA DE LA VIVIENDA*"
   ]
  },
  {
   "cell_type": "code",
   "execution_count": null,
   "id": "97353991",
   "metadata": {},
   "outputs": [],
   "source": [
    "print(\"\")\n",
    "df['II7'] = df['II7'].replace({0: 9, 4: 9, 5: 9, 6: 9, 7: 9, 8: 9})     \n",
    "conteo_II7 = df['II7'].value_counts().sort_index()                      # CONTAR CUÁNTOS HOGARES HAY SEGÚN TIPO DE TENENCIA DE LA VIVIENDA\n",
    "conteo_II7.plot(kind='bar')                                             # GRAFICAR LA DISTRIBUCIÓN DE TENENCIA\n",
    "plt.title(\"VARIABLE II7: TENENCIA DE LA VIVIENDA\")                      # TÍTULO DEL GRÁFICO\n",
    "plt.ylabel(\"CANTIDAD DE HOGARES\")                                       # ETIQUETA DEL EJE Y\n",
    "plt.xticks(rotation=0)                                                  # MANTENER ETIQUETAS HORIZONTALES\n",
    "plt.grid(axis='y')                                                      # AGREGAR REJILLA AL EJE Y\n",
    "plt.show()                                                              # MOSTRAR EL GRÁFICO\n",
    "\n",
    "# IMPRIMO VALORES\n",
    "print(\"CANTIDAD DE HOGARES SEGÚN TENENCIA DE LA VIVIENDA (II7):\")\n",
    "print(conteo_II7)"
   ]
  },
  {
   "cell_type": "markdown",
   "id": "a3c24d66",
   "metadata": {},
   "source": [
    ">1- PROPIETARIO TOTAL, 2=PROPIETARIO CASILLA, 3=INQUILINO, 9=OTRO\n"
   ]
  },
  {
   "cell_type": "markdown",
   "id": "6f27d7b8",
   "metadata": {},
   "source": [
    ">.\n",
    ">\n",
    ">_LA MAYOR PARTE DE LOS HOGARES DECLARA VIVIR EN VIVIENDA PROPIA CÓDIGO 1, LO QUE INDICA UNA BUENA CONDICIÓN HABITACIONAL EN TÉRMINOS DE ESTABILIDAD RESIDENCIAL. SIN EMBARGO, UN GRUPO IMPORTANTE DECLARA VIVIR EN CONDICIÓN DE ALQUILER (CÓDIGO 3), LO CUAL PUEDE INVOLUCRAR MAYOR VULNERABILIDAD ECONÓMICA. LOS CÓDIGOS AGRUPADOS COMO \"OTROS\" QUE INCLUYEN OCUPACIONES DE HECHO, PRÉSTAMOS, CESIONES, ETC.— SUGIEREN UNA SITUACIÓN MÁS INESTABLE Y PODRÍAN REPRESENTAR RIESGO DE EXCLUSIÓN HABITACIONAL._\n",
    ">\n",
    ">."
   ]
  },
  {
   "cell_type": "markdown",
   "id": "e0b32f51",
   "metadata": {},
   "source": [
    "##### <span style=\"color: #3795E1\">*VARIABLE II8: COMBUSTIBLE PRINCIPAL PARA COCINAR*"
   ]
  },
  {
   "cell_type": "code",
   "execution_count": null,
   "id": "da3bb566",
   "metadata": {},
   "outputs": [],
   "source": [
    "print(\"\")                                                                  \n",
    "df['II8'] = df['II8'].replace({0: 5})     \n",
    "conteo_II8 = df['II8'].value_counts().sort_index()                    # CONTAR CUÁNTOS HOGARES USAN CADA TIPO DE COMBUSTIBLE\n",
    "conteo_II8.plot(kind='bar')                                           # GRAFICAR LA DISTRIBUCIÓN DE COMBUSTIBLE PARA COCINAR\n",
    "plt.title(\"VARIABLE II8: COMBUSTIBLE PRINCIPAL PARA COCINAR\")         # TÍTULO DEL GRÁFICO\n",
    "plt.ylabel(\"CANTIDAD DE HOGARES\")                                     # ETIQUETA DEL EJE Y\n",
    "plt.xticks(rotation=0)                                                # MANTENER ETIQUETAS HORIZONTALES\n",
    "plt.grid(axis='y')                                                    # AGREGAR REJILLA AL EJE Y\n",
    "plt.show()                                                            # MOSTRAR EL GRÁFICO\n",
    "\n",
    "# IMPRIMO VALORES\n",
    "print(\"CANTIDAD DE HOGARES POR COMBUSTIBLE PRINCIPAL PARA COCINAR (II8):\")\n",
    "print(conteo_II8)"
   ]
  },
  {
   "cell_type": "markdown",
   "id": "4cee87ba",
   "metadata": {},
   "source": [
    ">_1 = GAS DE RED, 2 = GAS ENVASADO, 3 = LEÑA O CARBÓN, 4 = ELECTRICIDAD, 5=OTRO_"
   ]
  },
  {
   "cell_type": "markdown",
   "id": "e32f8e62",
   "metadata": {},
   "source": [
    ">.\n",
    ">\n",
    ">LA GRAN MAYORÍA DE LOS HOGARES EN TIERRA DEL FUEGO COCINA CON GAS DE RED (1), LO QUE REFLEJA UNA BUENA INFRAESTRUCTURA DOMICILIARIA Y ACCESO ENERGÉTICO EN LA PROVINCIA.\n",
    ">\n",
    ">SIN EMBARGO, POR EL OBJETIVO DE ESTE TRABAJO –IDENTIFICAR SITUACIONES DE EXCLUSIÓN SOCIAL PARA BRINDAR ASISTENCIA– RESULTA FUNDAMENTAL ENFOCARSE EN LOS HOGARES QUE NO UTILIZAN GAS DE RED.\n",
    ">\n",
    ">ESTOS CASOS (USO DE GAS ENVASADO, LEÑA, ELECTRICIDAD U OTROS) PODRÍAN INDICAR LIMITACIONES EN EL ACCESO A SERVICIOS BÁSICOS, Y POR LO TANTO, MAYOR VULNERABILIDAD SOCIAL.\n",
    ">\n",
    ">."
   ]
  },
  {
   "cell_type": "markdown",
   "id": "de149b47",
   "metadata": {},
   "source": [
    "##### <span style=\"color: #3795E1\">*VARIABLE IX_TOT: TOTAL DE MIEMBROS DEL HOGAR*"
   ]
  },
  {
   "cell_type": "code",
   "execution_count": null,
   "id": "d8a5c2c7",
   "metadata": {},
   "outputs": [],
   "source": [
    "print(\"\")                                                                             \n",
    "conteo_IX_TOT = df['IX_TOT'].value_counts().sort_index()                              # CONTAR CUÁNTOS HOGARES HAY SEGÚN CANTIDAD TOTAL DE MIEMBROS\n",
    "conteo_IX_TOT.plot(kind='bar')                                                        # GRAFICAR LA DISTRIBUCIÓN\n",
    "plt.title(\"VARIABLE IX_TOT: TOTAL DE MIEMBROS DEL HOGAR\")                             # TÍTULO DEL GRÁFICO\n",
    "plt.xlabel(\"CANTIDAD TOTAL DE MIEMBROS\")                                              # ETIQUETA EJE X\n",
    "plt.ylabel(\"CANTIDAD DE HOGARES\")                                                     # ETIQUETA EJE Y\n",
    "plt.xticks(rotation=0)                                                                # MANTENER ETIQUETAS HORIZONTALES\n",
    "plt.grid(axis='y')                                                                    # AGREGAR REJILLA HORIZONTAL\n",
    "plt.show()                                                                            # MOSTRAR GRÁFICO\n",
    "\n",
    "# IMPRIMIR LOS VALORES\n",
    "print(\"CANTIDAD DE HOGARES POR TOTAL DE MIEMBROS DEL HOGAR (IX_TOT):\")\n",
    "print(conteo_IX_TOT)"
   ]
  },
  {
   "cell_type": "markdown",
   "id": "276e62c2",
   "metadata": {},
   "source": [
    ">.\n",
    ">\n",
    ">_SE OBSERVA QUE 1.772 HOGARES ESTÁN COMPUESTOS POR UNA SOLA PERSONA, Y 1.871 POR DOS. EN CONJUNTO, LOS HOGARES DE HASTA CUATRO PERSONAS CONCENTRAN LA MAYOR PARTE DE LOS CASOS. SÓLO UNA FRACCIÓN MINORITARIA TIENE MÁS DE CINCO INTEGRANTES._\n",
    ">\n",
    ">_ESTA VARIABLE ES FUNDAMENTAL PARA COMPRENDER LA CARGA FAMILIAR Y EL NIVEL DE HACINAMIENTO POTENCIAL EN EL HOGAR, ESPECIALMENTE AL CRUZARSE CON INDICADORES COMO LA CANTIDAD DE AMBIENTES O EL INGRESO PER CÁPITA FAMILIAR (IPCF). HOGARES CON MUCHOS MIEMBROS Y BAJOS INGRESOS SON UN FOCO DE ATENCIÓN CLAVE EN ESTUDIOS DE EXCLUSIÓN SOCIAL._\n",
    ">\n",
    ">."
   ]
  },
  {
   "cell_type": "markdown",
   "id": "bed81b25",
   "metadata": {},
   "source": [
    "##### <span style=\"color: #3795E1\">*VARIABLE IX_MEN10: MIEMBROS DEL HOGAR MENORES DE 10 AÑOS*"
   ]
  },
  {
   "cell_type": "code",
   "execution_count": null,
   "id": "970b92c4",
   "metadata": {},
   "outputs": [],
   "source": [
    "print(\"\")                                                                             \n",
    "conteo_IX_MEN10 = df['IX_MEN10'].value_counts().sort_index()                          # CONTAR CUÁNTOS HOGARES HAY SEGÚN CANTIDAD DE MENORES DE 10 AÑOS\n",
    "conteo_IX_MEN10.plot(kind='bar')                                                      # GRAFICAR LA DISTRIBUCIÓN\n",
    "plt.title(\"VARIABLE IX_MEN10: MIEMBROS DEL HOGAR MENORES DE 10 AÑOS\")                 # TÍTULO DEL GRÁFICO\n",
    "plt.xlabel(\"CANTIDAD DE MIEMBROS < 10 AÑOS\")                                          # ETIQUETA EJE X\n",
    "plt.ylabel(\"CANTIDAD DE HOGARES\")                                                     # ETIQUETA EJE Y\n",
    "plt.xticks(rotation=0)                                                                # MANTENER ETIQUETAS HORIZONTALES\n",
    "plt.grid(axis='y')                                                                    # AGREGAR REJILLA HORIZONTAL\n",
    "plt.show()                                                                            # MOSTRAR GRÁFICO\n",
    "\n",
    "# IMPRIMIR LOS VALORES\n",
    "print(\"CANTIDAD DE HOGARES POR MIEMBROS DEL HOGAR MENORES DE 10 AÑOS (IX_MEN10):\")\n",
    "print(conteo_IX_MEN10)"
   ]
  },
  {
   "cell_type": "markdown",
   "id": "d1dfa9c5",
   "metadata": {},
   "source": [
    ">.\n",
    ">\n",
    ">_LA MAYORÍA DE LOS HOGARES (5.118) NO TIENEN NINGÚN NIÑO O NIÑA MENOR DE 10 AÑOS. SIN EMBARGO, 1.262 HOGARES TIENEN UNO, Y 464 HOGARES TIENEN DOS NIÑOS PEQUEÑOS. SÓLO UN NÚMERO MUY REDUCIDO SUPERA LOS TRES MENORES._\n",
    ">\n",
    ">_ESTA VARIABLE PERMITE IDENTIFICAR HOGARES CON PRESENCIA DE INFANCIA TEMPRANA, LO CUAL ES RELEVANTE DESDE EL PUNTO DE VISTA DEL ACCESO A SERVICIOS DE SALUD, CUIDADO Y EDUCACIÓN. HOGARES CON VARIOS NIÑOS MENORES PUEDEN IMPLICAR MAYORES NECESIDADES DE ASISTENCIA SOCIAL O PROTECCIÓN, ESPECIALMENTE SI LOS ADULTOS A CARGO SE ENCUENTRAN EN SITUACIÓN DE DESEMPLEO O INFORMALIDAD._\n",
    ">\n",
    ">."
   ]
  },
  {
   "cell_type": "markdown",
   "id": "6420d493",
   "metadata": {},
   "source": [
    "##### <span style=\"color: #3795E1\">*VARIABLE IX_MAYEQ10: MIEMBROS DEL HOGAR DE 10 AÑOS O MÁS*"
   ]
  },
  {
   "cell_type": "code",
   "execution_count": null,
   "id": "b646918b",
   "metadata": {},
   "outputs": [],
   "source": [
    "print(\"\")                                                                             \n",
    "conteo_IX_MAYEQ10 = df['IX_MAYEQ10'].value_counts().sort_index()                      # CONTAR CUÁNTOS HOGARES HAY SEGÚN CANTIDAD DE MIEMBROS MAYORES O IGUALES A 10 AÑOS\n",
    "conteo_IX_MAYEQ10.plot(kind='bar')                                                    # GRAFICAR LA DISTRIBUCIÓN\n",
    "plt.title(\"VARIABLE IX_MAYEQ10: MIEMBROS DEL HOGAR DE 10 AÑOS O MÁS\")                 # TÍTULO DEL GRÁFICO\n",
    "plt.xlabel(\"CANTIDAD DE MIEMBROS >= 10 AÑOS\")                                          # ETIQUETA EJE X\n",
    "plt.ylabel(\"CANTIDAD DE HOGARES\")                                                     # ETIQUETA EJE Y\n",
    "plt.xticks(rotation=0)                                                                # MANTENER ETIQUETAS HORIZONTALES\n",
    "plt.grid(axis='y')                                                                    # AGREGAR REJILLA HORIZONTAL\n",
    "plt.show()                                                                            # MOSTRAR GRÁFICO\n",
    "\n",
    "# IMPRIMIR LOS VALORES\n",
    "print(\"CANTIDAD DE HOGARES POR MIEMBROS DEL HOGAR DE 10 AÑOS O MÁS (IX_MAYEQ10):\")\n",
    "print(conteo_IX_MAYEQ10)"
   ]
  },
  {
   "cell_type": "markdown",
   "id": "e077b6dd",
   "metadata": {},
   "source": [
    ">.\n",
    ">\n",
    ">_UN TOTAL DE 1.950 HOGARES TIENEN UN ÚNICO MIEMBRO DE 10 AÑOS O MÁS, Y 2.563 HOGARES CUENTAN CON DOS PERSONAS EN ESE RANGO ETARIO, LO QUE REPRESENTA LA MAYOR FRECUENCIA. A MEDIDA QUE AUMENTA EL NÚMERO DE INTEGRANTES MAYORES DE 10 AÑOS, LA CANTIDAD DE HOGARES DISMINUYE DE FORMA PROGRESIVA._\n",
    ">\n",
    ">_ESTA VARIABLE APORTA INFORMACIÓN CLAVE SOBRE LA ESTRUCTURA ETARIA DEL HOGAR. UNA MAYOR CANTIDAD DE MIEMBROS MAYORES DE 10 AÑOS PUEDE ASOCIARSE A UN MAYOR POTENCIAL DE GENERACIÓN DE INGRESOS O RESPONSABILIDADES COMPARTIDAS. POR EL CONTRARIO, HOGARES CON UNA SOLA PERSONA ADULTA PODRÍAN ENFRENTAR MAYORES NIVELES DE VULNERABILIDAD, ESPECIALMENTE EN CONTEXTOS DE DESEMPLEO O ENFERMEDAD._\n",
    ">\n",
    ">."
   ]
  },
  {
   "cell_type": "markdown",
   "id": "5dfb8574",
   "metadata": {},
   "source": [
    "### **VARIABLES ECONOMICAS Y LABORALES** "
   ]
  },
  {
   "cell_type": "markdown",
   "id": "c360c96d",
   "metadata": {},
   "source": [
    ">.\n",
    ">\n",
    "> _SE ANTICIPÓ EL PROCESAMIENTO DE LA VARIABLE IPCF (INGRESO PER CAPITA FAMILIAR) PARA EVITAR DISTORSIONES DERIVADAS DE LA INFLACIÓN Y GARANTIZAR LA COMPARABILIDAD INTERTEMPORAL DEL INGRESO. EN LUGAR DE UTILIZAR ÍNDICES DE PRECIOS INTERNOS COMO EL IPC, SE OPTÓ POR EL AJUSTE EN DÓLARES, YA QUE REFLEJA DE MANERA MÁS ESTABLE Y COMPARABLE LA PÉRDIDA DEL PODER ADQUISITIVO EN CONTEXTOS DE ALTA VOLATILIDAD MONETARIA. LOS MONTOS SE CONVERTIRÁN A DÓLARES SEGÚN LA COTIZACIÓN CORRESPONDIENTE A CADA AÑO Y TRIMESTRE, Y LUEGO SERÁN TRANSFORMADOS A PESOS ARGENTINOS CONSTANTES DEL SEGUNDO TRIMESTRE DE 2025, UTILIZANDO UNA COTIZACIÓN DE REFERENCIA DE $1200 POR DÓLAR._\n",
    ">\n",
    ">ADEMÁS, SE DECIDE NO ANALIZAR LA VARIABLE ITF (INGRESO TOTAL FAMILIAR), YA QUE NO PERMITE COMPARACIONES HOMOGÉNEAS ENTRE HOGARES DE DIFERENTE TAMAÑO. EN SU LUGAR, SE UTILIZA IPCF (INGRESO PER CÁPITA FAMILIAR), QUE AJUSTA EL INGRESO POR LA CANTIDAD DE INTEGRANTES DEL HOGAR, OFRECIENDO UN INDICADOR MÁS ROBUSTO DE BIENESTAR ECONÓMICO INDIVIDUAL.\n",
    ">\n",
    ">."
   ]
  },
  {
   "cell_type": "markdown",
   "id": "470a2a9d",
   "metadata": {},
   "source": [
    "#### <span style=\"color: #3795E1\">**AJUSTE DE IPCF - INGRESO PER CAPITA FAMILIAR**"
   ]
  },
  {
   "cell_type": "markdown",
   "id": "2a8f2d01",
   "metadata": {},
   "source": [
    "##### <span style=\"color: #FF8C00\">**IPCF A VALOR DOLAR**"
   ]
  },
  {
   "cell_type": "code",
   "execution_count": null,
   "id": "54a4355e",
   "metadata": {},
   "outputs": [],
   "source": [
    "print(\"\")\n",
    "df_dolar_ajuste = df_USD.copy()                                                                 # COPIA Y LIMPIEZA DE COLUMNAS\n",
    "df = df.merge(df_dolar_ajuste, on=['ANO4', 'TRIMESTRE'], how='left')                            # MERGE POR AÑO Y TRIMESTRE\n",
    "df = df[df['USD'].notnull()]                                                                    # ELIMINAMOS FILAS DONDE FALTA EL DÓLAR PARA EVITAR ERRORES\n",
    "\n",
    "# CALCULAMOS INGRESOS EN USD \n",
    "df['IPCF_USD'] = df['IPCF'] / df['USD']\n",
    "print(df[['ANO4', 'TRIMESTRE', 'IPCF', 'USD', 'IPCF_USD']].head())                              # MOSTRAR ALGUNOS RESULTADOS"
   ]
  },
  {
   "cell_type": "markdown",
   "id": "2fb5fa4a",
   "metadata": {},
   "source": [
    "##### <span style=\"color: #FF8C00\">**IPCF_USD A COTIZACIÓN DE DOLAR ACTUAL $ 1.200**"
   ]
  },
  {
   "cell_type": "code",
   "execution_count": null,
   "id": "a116cad0",
   "metadata": {},
   "outputs": [],
   "source": [
    "print(\"\")                                                                          \n",
    "df['IPCF_OK'] = df['IPCF_USD'] * 1200                                                     # CONVERTIMOS INGRESO PER CÁPITA A PESOS 2025                          \n",
    "print(df[['ANO4', 'TRIMESTRE', 'IPCF_USD', 'IPCF_OK']].head())                            # MOSTRAMOS ALGUNOS RESULTADOS PARA VERIFICAR"
   ]
  },
  {
   "cell_type": "markdown",
   "id": "555bd8f4",
   "metadata": {},
   "source": [
    "#### <span style=\"color: #3795E1\">**DISTRIBUCIÓN IPCF**"
   ]
  },
  {
   "cell_type": "code",
   "execution_count": null,
   "id": "363163b9",
   "metadata": {},
   "outputs": [],
   "source": [
    "print(\"\")\n",
    "limite_95_ars = df['IPCF_OK'].quantile(0.95)                                                                # CALCULAMOS EL PERCENTIL 95 PARA EL GRÁFICO\n",
    "plt.figure(figsize=(10, 6))                                                                                 # AGRANDAR GRÁFICO EN HORIZONTAL\n",
    "df['IPCF_OK'].plot(kind='hist', bins=50, edgecolor='black')                                                 # GRÁFICO ORIGINAL\n",
    "plt.title(\"DISTRIBUCIÓN DEL IPCF AJUSTADO A PESOS 2025\")\n",
    "plt.xlabel(\"IPCF EN PESOS ARGENTINOS (AÑO 2025)\")\n",
    "plt.ylabel(\"CANTIDAD DE HOGARES\")\n",
    "plt.xlim(0, limite_95_ars)\n",
    "plt.grid(True)\n",
    "plt.gca().xaxis.set_major_formatter(mticker.FuncFormatter(lambda x, _: f'{int(x):,}'.replace(\",\", \".\")))    # SACAR NOTACION CIENTIFICA\n",
    "plt.show()\n",
    "\n",
    "# IMPRIMO VALORES\n",
    "bins_impresion = np.arange(0, 1_200_000, 100_000)                                                           # IMPRIME DISTRIBUCION DE HOGARES EN EL RANGO DE 0 A 1.000.000 EN PASOS DE 100.000\n",
    "conteo_impresion, _ = np.histogram(df['IPCF_OK'], bins=bins_impresion)                                      # CONTADOR DE IMPRESION\n",
    "print(\"CANTIDAD DE HOGARES POR RANGO DE IPCF (PESOS 2025):\\n\")\n",
    "for i in range(len(conteo_impresion)):                                                                      # IMPRIME EN FORMATO CLARO\n",
    "    rango_min = f\"{bins_impresion[i]:,}\".replace(\",\", \".\")\n",
    "    rango_max = f\"{bins_impresion[i+1] - 1:,}\".replace(\",\", \".\")\n",
    "    print(f\"De {rango_min} a {rango_max} pesos: {conteo_impresion[i]} hogares\")\n",
    "\n",
    "                                "
   ]
  },
  {
   "cell_type": "markdown",
   "id": "b3e54c1b",
   "metadata": {},
   "source": [
    ">.\n",
    ">\n",
    "> _LA MAYOR PARTE DE LOS HOGARES SE CONCENTRA ENTRE LOS 100.000 Y 399.999 PESOS PER CÁPITA MENSUALES, LO QUE SUGIERE UNA CLASE MEDIA BAJA O VULNERABLE EN EL CONTEXTO ECONÓMICO ACTUAL DE ARGENTINA._\n",
    "> \n",
    ">_SE OBSERVA QUE 1.762 HOGARES (867 + 895) TIENEN INGRESOS POR DEBAJO DE LOS 200.000 PESOS, LO QUE PODRÍA USARSE COMO UN POSIBLE UMBRAL PARA IDENTIFICAR HOGARES EN RIESGO DE EXCLUSIÓN ECONÓMICA._ \n",
    "> \n",
    ">_A MEDIDA QUE AUMENTA EL INGRESO, LA CANTIDAD DE HOGARES DISMINUYE DE FORMA ACELERADA. LOS TRAMOS DE INGRESO SUPERIORES A 1.000.000 DE PESOS SON MUY ESCASOS, LO QUE REFLEJA UNA ALTA CONCENTRACIÓN DE LA RIQUEZA EN POCOS HOGARES._\n",
    "> \n",
    ">_ESTE PATRÓN EVIDENCIA UNA DISTRIBUCIÓN DESIGUAL DEL INGRESO EN LA PROVINCIA, AUNQUE EN EL CONTEXTO PATAGÓNICO, LOS VALORES PROMEDIOS SON MÁS ALTOS QUE EN OTRAS REGIONES DEL PAÍS._\n",
    ">\n",
    ">."
   ]
  },
  {
   "cell_type": "markdown",
   "id": "fba3643c",
   "metadata": {},
   "source": [
    "#### <span style=\"color: #3795E1\">_VARIABLE V1: VIVEN DE LO QUE GANAN EN EL TRABAJO_"
   ]
  },
  {
   "cell_type": "code",
   "execution_count": null,
   "id": "d575b997",
   "metadata": {},
   "outputs": [],
   "source": [
    "print(\"\")                                                                                  \n",
    "conteo_V1 = df['V1'].value_counts().sort_index()                                           # CONTAR CUÁNTOS HOGARES VIVEN DE LO QUE GANAN EN EL TRABAJO\n",
    "conteo_V1.plot(kind='bar', color=\"skyblue\")                                                # GRAFICAR LA DISTRIBUCIÓN EN BARRAS\n",
    "plt.title(\"VARIABLE V1: ¿VIVEN DE LO QUE GANAN EN EL TRABAJO?\")                            # TÍTULO DEL GRÁFICO\n",
    "plt.xlabel(\"1 = SÍ, 2 = NO\")                                                               # ETIQUETAS DEL EJE X\n",
    "plt.ylabel(\"CANTIDAD DE HOGARES\")                                                          # ETIQUETA DEL EJE Y\n",
    "plt.xticks(rotation=0)                                                                     # MANTENER ETIQUETAS HORIZONTALES\n",
    "plt.grid(axis='y')                                                                         # AGREGAR LÍNEAS DE GUÍA EN EJE Y\n",
    "plt.show()                                                                                 # MOSTRAR EL GRÁFICO\n",
    "\n",
    "# IMPRIMIO VALORES\n",
    "print(\"CANTIDAD DE HOGARES SEGÚN SI VIVEN DE LO QUE GANAN EN EL TRABAJO (V1):\")\n",
    "print(conteo_V1)                                                                           # MOSTRAR TABLA DE FRECUENCIAS"
   ]
  },
  {
   "cell_type": "markdown",
   "id": "ece8b66d",
   "metadata": {},
   "source": [
    ">.\n",
    ">\n",
    ">_UN TOTAL DE 5.700 HOGARES DECLARÓ VIVIR DE LO QUE GANAN EN EL TRABAJO (V1 = 1), LO QUE REPRESENTA LA GRAN MAYORÍA DE LOS CASOS. EN CAMBIO, 1.244 HOGARES RESPONDIERON QUE NO (V1 = 2), INDICANDO QUE SUS INGRESOS PROVIENEN DE OTRAS FUENTES COMO JUBILACIONES, PLANES, AYUDAS SOCIALES O SUBSIDIOS._\n",
    ">\n",
    ">_ESTE DATO REFLEJA QUE, SI BIEN EL EMPLEO REMUNERADO SIGUE SIENDO LA PRINCIPAL FUENTE DE INGRESOS, EXISTE UN SEGMENTO NO MENOR QUE DEPENDE DE MECANISMOS ALTERNATIVOS DE SUBSISTENCIA, LO CUAL PUEDE IMPLICAR UNA MAYOR VULNERABILIDAD ECONÓMICA ANTE CONTINGENCIAS DEL MERCADO LABORAL._\n",
    ">\n",
    ">."
   ]
  },
  {
   "cell_type": "markdown",
   "id": "a451aa50",
   "metadata": {},
   "source": [
    "#### <span style=\"color: #3795E1\">_VARIABLE V2: RECIBE JUBILACIÓN O PENSIÓN_"
   ]
  },
  {
   "cell_type": "code",
   "execution_count": null,
   "id": "143a6110",
   "metadata": {},
   "outputs": [],
   "source": [
    "print(\"\")                                                                    \n",
    "conteo_V2 = df['V2'].value_counts().sort_index()                        # CONTAR CUÁNTOS HOGARES RECIBEN JUBILACIÓN O PENSIÓN\n",
    "conteo_V2.plot(kind='bar')                                              # GRAFICAR LA DISTRIBUCIÓN\n",
    "plt.title(\"VARIABLE V2: ¿RECIBIÓ JUBILACIÓN O PENSIÓN?\")                # TÍTULO DEL GRÁFICO\n",
    "plt.xlabel(\"1 = SÍ, 2 = NO\")                                            # ETIQUETAS EN EL EJE X\n",
    "plt.ylabel(\"CANTIDAD DE PERSONAS\")                                      # ETIQUETA DEL EJE Y\n",
    "plt.xticks(rotation=0)                                                  # ETIQUETAS HORIZONTALES\n",
    "plt.grid(axis='y')                                                      # AGREGAR REJILLA AL EJE Y\n",
    "plt.show()                                                              # MOSTRAR EL GRÁFICO\n",
    "\n",
    "# IMPRIMO VALORES\n",
    "print(\"CANTIDAD DE PERSONAS QUE RECIBEN JUBILACIÓN O PENSIÓN (V2):\")\n",
    "print(conteo_V2)"
   ]
  },
  {
   "cell_type": "markdown",
   "id": "ef3853d1",
   "metadata": {},
   "source": [
    ">.\n",
    ">\n",
    ">_UN TOTAL DE 1913 PERSONAS DECLARARON RECIBIR JUBILACIÓN O PENSIÓN (V2 = 1), MIENTRAS QUE 5031 PERSONAS NO RECIBEN ESTE TIPO DE INGRESO (V2 = 2)._\n",
    ">\n",
    ">_ESTOS RESULTADOS SUGIEREN QUE UNA MINORÍA DE LA POBLACIÓN DECLARANTE ACCEDE A INGRESOS PREVISIONALES, LO QUE PUEDE INDICAR UNA MAYOR PARTICIPACIÓN DE PERSONAS EN EDAD ACTIVA EN LA MUESTRA O UNA COBERTURA PREVISIONAL LIMITADA EN ALGUNOS CASOS._\n",
    ">\n",
    ">_ESTE DATO CONTRIBUYE A LA COMPRENSIÓN DEL ROL DE LOS INGRESOS JUBILATORIOS COMO COMPONENTE DE SUSTENTO ECONÓMICO EN LOS HOGARES._\n",
    ">\n",
    ">."
   ]
  },
  {
   "cell_type": "markdown",
   "id": "ae004b93",
   "metadata": {},
   "source": [
    "#### <span style=\"color: #3795E1\">*VARIABLE V3: RECIBE INDEMNIZACIÓN POR DESPIDO*"
   ]
  },
  {
   "cell_type": "code",
   "execution_count": null,
   "id": "a4bfbb44",
   "metadata": {},
   "outputs": [],
   "source": [
    "print(\"\") \n",
    "df['V3'] = df['V3'].replace({9: 2})                                                                        \n",
    "conteo_V3 = df['V3'].value_counts().sort_index()                            # CONTAR CUÁNTOS HOGARES RECIBIERON O NO INDEMNIZACIÓN\n",
    "conteo_V3.plot(kind='bar')                                                  # GRAFICAR LA DISTRIBUCIÓN\n",
    "plt.title(\"VARIABLE V3: ¿RECIBIÓ INDEMNIZACIÓN POR DESPIDO?\")               # TÍTULO DEL GRÁFICO\n",
    "plt.xlabel(\"1 = SÍ, 2 = NO\")                                                # ETIQUETAS DE LOS CÓDIGOS\n",
    "plt.ylabel(\"CANTIDAD DE PERSONAS\")                                          # EJE Y\n",
    "plt.xticks(rotation=0)                                                      # MANTENER LAS ETIQUETAS HORIZONTALES\n",
    "plt.grid(axis='y')                                                          # REJILLA EN EL EJE Y\n",
    "plt.show()                                                                  # MOSTRAR EL GRÁFICO\n",
    "\n",
    "# MOSTRAR VALORES CONTADOS\n",
    "print(\"CANTIDAD DE PERSONAS QUE RECIBIERON INDEMNIZACIÓN (V3):\")\n",
    "print(conteo_V3)"
   ]
  },
  {
   "cell_type": "markdown",
   "id": "ca90e48c",
   "metadata": {},
   "source": [
    ">.\n",
    ">\n",
    ">_LA GRAN MAYORÍA DE LOS HOGARES DECLARAN NO HABER RECIBIDO INDEMNIZACIÓN POR DESPIDO (V3), LO QUE INDICA QUE NO SE ENCUENTRAN EN UNA SITUACIÓN DE DESVINCULACIÓN FORMAL RECIENTE. ESTO PUEDE REFLEJAR ESTABILIDAD LABORAL EN EL MOMENTO DEL RELEVAMIENTO, PERO TAMBIÉN LIMITA EL ALCANCE PREDICTIVO DE LA VARIABLE PARA CASOS ACTUALES._\n",
    ">\n",
    ">_AL IGUAL QUE CON OTRAS VARIABLES LABORALES, SU VALOR DEBE SER TOMADO CON CAUTELA, YA QUE REPRESENTA UNA FOTOGRAFÍA PASADA QUE PUEDE HABER CAMBIADO EN EL PRESENTE._\n",
    ">\n",
    ">."
   ]
  },
  {
   "cell_type": "markdown",
   "id": "c4c8a315",
   "metadata": {},
   "source": [
    "#### <span style=\"color: #3795E1\">*VARIABLE V4: RECIBE SEGURO DE DESEMPLEO*"
   ]
  },
  {
   "cell_type": "code",
   "execution_count": null,
   "id": "968a1753",
   "metadata": {},
   "outputs": [],
   "source": [
    "print(\"\")                                                                    \n",
    "conteo_V4 = df['V4'].value_counts().sort_index()                                # CONTAR CUÁNTOS HOGARES RECIBEN SEGURO DE DESEMPLEO (V4)\n",
    "conteo_V4.plot(kind='bar')                                                      # GRAFICAR LA DISTRIBUCIÓN DE LA VARIABLE\n",
    "plt.title(\"VARIABLE V4: RECIBE SEGURO DE DESEMPLEO\")                            # TÍTULO DEL GRÁFICO\n",
    "plt.xlabel(\"1 = SÍ, 2 = NO\")                                                    # ETIQUETAS DEL EJE X\n",
    "plt.ylabel(\"CANTIDAD DE PERSONAS\")                                              # ETIQUETA DEL EJE Y\n",
    "plt.xticks(rotation=0)                                                          # MANTENER LAS ETIQUETAS HORIZONTALES\n",
    "plt.grid(axis='y')                                                              # AGREGAR REJILLA EN EJE Y\n",
    "plt.show()                                                                      # MOSTRAR EL GRÁFICO\n",
    "\n",
    "# IMPRIMIR VALORES\n",
    "print(\"CANTIDAD DE PERSONAS QUE RECIBEN SEGURO DE DESEMPLEO (V4):\")\n",
    "print(conteo_V4)\n"
   ]
  },
  {
   "cell_type": "markdown",
   "id": "9ce4caeb",
   "metadata": {},
   "source": [
    ">.\n",
    ">\n",
    ">_SOLO 23 PERSONAS DECLARARON RECIBIR UN SEGURO DE DESEMPLEO (V4 = 1), MIENTRAS QUE 6921 INDICARON QUE NO (V4 = 2)._\n",
    ">\n",
    ">_ESTA DIFERENCIA MARCADA PODRÍA REFLEJAR UNA COBERTURA LIMITADA DE ESTA POLÍTICA SOCIAL EN LA POBLACIÓN, YA SEA POR FALTA DE ACCESO, DESCONOCIMIENTO O PORQUE EL DESEMPLEO NO ES COMPENSADO FORMALMENTE EN ESTOS CASOS._\n",
    ">\n",
    ">_LA VARIABLE PERMITE DETECTAR UNA POSIBLE FRANJA DE HOGARES SIN INGRESOS LABORALES NI APOYO ECONÓMICO DEL ESTADO EN SITUACIONES DE DESOCUPACIÓN._\n",
    ">\n",
    ">.\n"
   ]
  },
  {
   "cell_type": "markdown",
   "id": "bf5bef90",
   "metadata": {},
   "source": [
    "#### <span style=\"color: #3795E1\">*VARIABLE V5: RECIBE PLAN SOCIAL O AUH?*"
   ]
  },
  {
   "cell_type": "code",
   "execution_count": null,
   "id": "9506bfab",
   "metadata": {},
   "outputs": [],
   "source": [
    "print(\"\")                                 \n",
    "conteo_V5 = df['V5'].value_counts().sort_index()                                    # CONTAR CUÁNTOS HOGARES RECIBEN ASIGNACIÓN FAMILIAR (V5)\n",
    "conteo_V5.plot(kind='bar')                                                          # GRAFICAR DISTRIBUCIÓN DE LA VARIABLE V5\n",
    "plt.title(\"VARIABLE V5: ¿ALGUNA PERSONA DEL HOGAR RECIBIÓ PLAN SOCIAL O AUH?\")      # TÍTULO DEL GRÁFICO\n",
    "plt.xlabel(\"1 = SÍ, 2 = NO\")                                                        # ETIQUETAS DE LOS CÓDIGOS\n",
    "plt.ylabel(\"CANTIDAD DE HOGARES\")                                                   # EJE Y\n",
    "plt.xticks(rotation=0)                                                              # MANTENER LAS ETIQUETAS HORIZONTALES\n",
    "plt.grid(axis='y')                                                                  # AGREGAR LÍNEAS DE GUÍA EN EJE Y\n",
    "plt.show()                                                                          # MOSTRAR EL GRÁFICO\n",
    "\n",
    "# IMPRIMIR VALORES DE LA VARIABLE\n",
    "print(\"CANTIDAD DE HOGARES QUE RECIBIERON PLAN SOCIAL O AUH (V5):\")\n",
    "print(conteo_V5)\n"
   ]
  },
  {
   "cell_type": "markdown",
   "id": "f0fa8495",
   "metadata": {},
   "source": [
    ">.\n",
    ">\n",
    ">_LA MAYORÍA DE LOS HOGARES NO DECLARA HABER RECIBIDO ASIGNACIÓN FAMILIAR, LO QUE PUEDE INDICAR QUE NO NECESITAN ESTE TIPO DE ASISTENCIA POR CONTAR CON INGRESOS SUFICIENTES O NO TENER HIJOS A CARGO._\n",
    ">\n",
    ">_EN CAMBIO, LOS HOGARES QUE SÍ RECIBEN ASIGNACIONES PODRÍAN ESTAR EN SITUACIÓN DE MAYOR VULNERABILIDAD ECONÓMICA, POR ESO SON DE ESPECIAL INTERÉS PARA ESTE ESTUDIO, ENFOCADO EN DETECTAR EXCLUSIÓN SOCIAL._\n",
    ">\n",
    ">."
   ]
  },
  {
   "cell_type": "markdown",
   "id": "b11ea98f",
   "metadata": {},
   "source": [
    "#### <span style=\"color: #3795E1\">*VARIABLE V6: RECIBE MERCADERÍA DEL GOBIERNO O LA IGLESIA?*"
   ]
  },
  {
   "cell_type": "code",
   "execution_count": null,
   "id": "7169e5c6",
   "metadata": {},
   "outputs": [],
   "source": [
    "print(\"\")                 \n",
    "df['V6'] = df['V6'].replace({9: 2})                                                    \n",
    "conteo_V6 = df['V6'].value_counts().sort_index()                                    # CONTAR CUÁNTOS HOGARES RECIBIERON MERCADERÍA DE GOBIERNO O IGLESIA\n",
    "conteo_V6.plot(kind='bar')                                                          # GRAFICAR DISTRIBUCIÓN DE RESPUESTAS\n",
    "plt.title(\"VARIABLE V6: ¿EL HOGAR RECIBIÓ MERCADERÍA DEL GOBIERNO O LA IGLESIA?\")   # TÍTULO DEL GRÁFICO\n",
    "plt.xlabel(\"1 = SÍ, 2 = NO\")                                                        # ETIQUETAS DE LOS CÓDIGOS\n",
    "plt.ylabel(\"CANTIDAD DE HOGARES\")                                                   # ETIQUETA DEL EJE Y\n",
    "plt.xticks(rotation=0)                                                              # MANTENER LAS ETIQUETAS HORIZONTALES\n",
    "plt.grid(axis='y')                                                                  # AGREGAR REJILLA AL EJE Y\n",
    "plt.show()                                                                          # MOSTRAR EL GRÁFICO\n",
    "\n",
    "# IMPRIMO VALORES\n",
    "print(\"CANTIDAD DE HOGARES QUE RECIBIERON MERCADERÍA DE AYUDA (V6):\")\n",
    "print(conteo_V6)\n"
   ]
  },
  {
   "cell_type": "markdown",
   "id": "a0a9ae54",
   "metadata": {},
   "source": [
    ">.\n",
    ">\n",
    ">_SE OBSERVA QUE SÓLO 267 HOGARES RECIBIERON MERCADERÍA DE AYUDA POR PARTE DEL ESTADO, IGLESIAS U OTRAS INSTITUCIONES, MIENTRAS QUE 6678 HOGARES NO._\n",
    ">\n",
    ">_ESTO PODRÍA REFLEJAR QUE LA MAYORÍA DE LOS HOGARES NO REQUIERE ASISTENCIA ALIMENTARIA DIRECTA O QUE LOS MECANISMOS DE AYUDA NO LOGRAN ALCANZAR A TODOS LOS HOGARES NECESITADOS._\n",
    ">\n",
    ">_DADO QUE EL OBJETIVO DEL ESTUDIO ES DETECTAR SITUACIONES DE EXCLUSIÓN, ESTA VARIABLE SE TORNA MUY ÚTIL PARA IDENTIFICAR HOGARES EN CONTEXTOS DE ALTA VULNERABILIDAD SOCIAL._\n",
    ">\n",
    ">."
   ]
  },
  {
   "cell_type": "markdown",
   "id": "237f74cb",
   "metadata": {},
   "source": [
    "#### <span style=\"color: #3795E1\">*VARIABLE V7: RECIBE MERCADERÍA DE PERSONAS QUE NO VIVEN EN EL HOGAR*"
   ]
  },
  {
   "cell_type": "code",
   "execution_count": null,
   "id": "ee97a7ce",
   "metadata": {},
   "outputs": [],
   "source": [
    "print(\"\")                                                                         \n",
    "conteo_V7 = df['V7'].value_counts().sort_index()                                    # CONTAR CUÁNTOS HOGARES RECIBIERON MERCADERÍA DE PERSONAS EXTERNAS\n",
    "conteo_V7.plot(kind='bar')                                                          # GRAFICAR DISTRIBUCIÓN DE RESPUESTAS\n",
    "plt.title(\"VARIABLE V7: RECIBIÓ MERCADERÍA DE PERSONAS QUE NO VIVEN EN EL HOGAR\")   # TÍTULO DEL GRÁFICO\n",
    "plt.xlabel(\"1 = SÍ, 2 = NO\")                                                        # ETIQUETAS DE LOS CÓDIGOS\n",
    "plt.ylabel(\"CANTIDAD DE HOGARES\")                                                   # ETIQUETA DEL EJE Y\n",
    "plt.xticks(rotation=0)                                                              # MANTENER LAS ETIQUETAS HORIZONTALES\n",
    "plt.grid(axis='y')                                                                  # AGREGAR LÍNEAS DE GUÍA EN EL EJE Y\n",
    "plt.show()                                                                          # MOSTRAR EL GRÁFICO\n",
    "\n",
    "# IMPRIMO VALORES\n",
    "print(\"CANTIDAD DE HOGARES QUE RECIBIERON MERCADERÍA DE PERSONAS EXTERNAS (V7):\")\n",
    "print(conteo_V7)\n"
   ]
  },
  {
   "cell_type": "markdown",
   "id": "71b7ba1c",
   "metadata": {},
   "source": [
    ">.\n",
    ">\n",
    ">_LA VARIABLE V7 PERMITE DETECTAR REDES DE ASISTENCIA INFORMALES O VÍNCULOS DE SOLIDARIDAD SOCIAL._\n",
    ">\n",
    ">_207 HOGARES RECIBIERON MERCADERÍA DE PERSONAS QUE NO VIVEN EN EL HOGAR, LO QUE PUEDE INDICAR UNA NECESIDAD ECONÓMICA NO CUBIERTA POR CANALES FORMALES.\n",
    "ESTO SUGIERE LA PRESENCIA DE SITUACIONES DE VULNERABILIDAD QUE SE AFRONTAN A TRAVÉS DE APOYO SOCIAL PRIVADO O COMUNITARIO._\n",
    ">\n",
    ">."
   ]
  },
  {
   "cell_type": "markdown",
   "id": "ddecca82",
   "metadata": {},
   "source": [
    "#### <span style=\"color: #3795E1\">*VARIABLE V8: COBRA ALQUILER DE UNA PROPIEDAD*"
   ]
  },
  {
   "cell_type": "code",
   "execution_count": null,
   "id": "f9cc6981",
   "metadata": {},
   "outputs": [],
   "source": [
    "print(\"\")                                                                        \n",
    "conteo_V8 = df['V8'].value_counts().sort_index()                                # CONTAR CUÁNTAS PERSONAS COBRAN ALQUILER DE UNA PROPIEDAD\n",
    "conteo_V8.plot(kind='bar')                                                      # GRAFICAR LA DISTRIBUCIÓN DE LA VARIABLE V8\n",
    "plt.title(\"VARIABLE V8: COBRA ALQUILER DE UNA PROPIEDAD\")                     # TÍTULO DEL GRÁFICO\n",
    "plt.xlabel(\"1 = SÍ, 2 = NO\")                                                    # ETIQUETAS DEL EJE X\n",
    "plt.ylabel(\"CANTIDAD DE PERSONAS\")                                              # ETIQUETAS DEL EJE Y\n",
    "plt.xticks(rotation=0)                                                          # MANTENER ETIQUETAS HORIZONTALES\n",
    "plt.grid(axis='y')                                                              # AGREGAR REJILLA EN EJE Y\n",
    "plt.show()                                                                      # MOSTRAR EL GRÁFICO\n",
    "\n",
    "# IMPRIMIR VALORES\n",
    "print(\"CANTIDAD DE PERSONAS QUE COBRAN ALQUILER DE UNA PROPIEDAD (V8):\")\n",
    "print(conteo_V8)"
   ]
  },
  {
   "cell_type": "markdown",
   "id": "2bf5172c",
   "metadata": {},
   "source": [
    ">.\n",
    ">\n",
    ">_UN TOTAL DE 322 PERSONAS DECLARARON COBRAR ALQUILER DE UNA PROPIEDAD (V8 = 1), MIENTRAS QUE 6622 NO LO HACEN (V8 = 2)._\n",
    ">\n",
    ">_ESTO INDICA QUE EL INGRESO PASIVO A TRAVÉS DE RENTAS INMOBILIARIAS ES UNA FUENTE RELATIVAMENTE POCO FRECUENTE EN LA MUESTRA, LO QUE PUEDE ESTAR RELACIONADO CON UNA BAJA PROPIEDAD DE INMUEBLES EXTRAS O CONCENTRACIÓN DE ACTIVOS EN UN SEGMENTO REDUCIDO DE LA POBLACIÓN._\n",
    ">\n",
    ">_ESTE TIPO DE INGRESO REPRESENTA UNA VENTAJA ECONÓMICA PARA QUIENES LO TIENEN, YA QUE GENERA FLUJOS SIN NECESIDAD DE TRABAJO DIRECTO, PERO SU BAJA INCIDENCIA REFUERZA LA IDEA DE UN CONTEXTO ECONÓMICO CON LIMITADAS OPORTUNIDADES DE INVERSIÓN INMOBILIARIA._\n",
    ">\n",
    ">."
   ]
  },
  {
   "cell_type": "markdown",
   "id": "7f4a3210",
   "metadata": {},
   "source": [
    "#### <span style=\"color: #3795E1\">*VARIABLE V9: RECIBE DINERO DE UN NEGOCIO DONDE NO TRABAJA*"
   ]
  },
  {
   "cell_type": "code",
   "execution_count": null,
   "id": "17876c23",
   "metadata": {},
   "outputs": [],
   "source": [
    "print(\"\")                                                                               \n",
    "conteo_V9 = df['V9'].value_counts().sort_index()                                # CONTAR CUÁNTOS HOGARES RECIBEN INGRESOS DE UN NEGOCIO QUE NO TRABAJAN\n",
    "conteo_V9.plot(kind='bar')                                                      # GRAFICAR DISTRIBUCIÓN DE LA VARIABLE V9\n",
    "plt.title(\"VARIABLE V9: RECIBE DINERO DE UN NEGOCIO DONDE NO TRABAJA\")          # TÍTULO DEL GRÁFICO\n",
    "plt.xlabel(\"1 = SÍ, 2 = NO\")                                                    # ETIQUETA DEL EJE X\n",
    "plt.ylabel(\"CANTIDAD DE HOGARES\")                                               # ETIQUETA DEL EJE Y\n",
    "plt.xticks(rotation=0)                                                          # MANTENER LAS ETIQUETAS HORIZONTALES\n",
    "plt.grid(axis='y')                                                              # AGREGAR REJILLA EN EJE Y\n",
    "plt.show()                                                                      # MOSTRAR EL GRÁFICO\n",
    "\n",
    "# IMPRIMO VALORES\n",
    "print(\"CANTIDAD DE HOGARES QUE RECIBEN INGRESOS DE UN NEGOCIO DONDE NO TRABAJAN (V9):\")\n",
    "print(conteo_V9)\n"
   ]
  },
  {
   "cell_type": "markdown",
   "id": "91935c0d",
   "metadata": {},
   "source": [
    ">.\n",
    ">\n",
    ">_LA VARIABLE V9 INDICA SI ALGÚN MIEMBRO DEL HOGAR RECIBE INGRESOS DE UN NEGOCIO DONDE NO TRABAJA. SOLO 9 HOGARES REPORTARON ESTA FUENTE DE INGRESO, LO QUE SUGIERE QUE ES UN MECANISMO MUY POCO FRECUENTE EN LA MUESTRA._\n",
    ">\n",
    ">_ESTE TIPO DE INGRESOS PODRÍA REPRESENTAR INVERSIÓN, HERENCIA O ALGUNA RELACIÓN COMERCIAL INDIRECTA. SIN EMBARGO, SU BAJA PRESENCIA LIMITA SU UTILIDAD PARA PREDECIR EXCLUSIÓN SOCIAL EN EL CONTEXTO DE TIERRA DEL FUEGO._\n",
    ">\n",
    ">."
   ]
  },
  {
   "cell_type": "markdown",
   "id": "78c855f0",
   "metadata": {},
   "source": []
  },
  {
   "cell_type": "markdown",
   "id": "46dbbe68",
   "metadata": {},
   "source": [
    "#### <span style=\"color: #3795E1\">*VARIABLE V10: OBTIENE INTERESES POR ALQUILERES O INVERSIONES / PLAZO FIJO*"
   ]
  },
  {
   "cell_type": "code",
   "execution_count": null,
   "id": "6e46d31d",
   "metadata": {},
   "outputs": [],
   "source": [
    "print(\"\")                                                             \n",
    "conteo_V10 = df['V10'].value_counts().sort_index()                                      # CONTAR CUÁNTOS HOGARES VIVEN DE INTERESES POR ALQUILERES O INVERSIONES\n",
    "conteo_V10.plot(kind='bar')                                                             # GRAFICAR DISTRIBUCIÓN DE LA VARIABLE V10\n",
    "plt.title(\"VARIABLE V10: INTERESES POR ALQUILERES O INVERSIONES / PLAZOS FIJOS\")        # TÍTULO DEL GRÁFICO\n",
    "plt.xlabel(\"1 = SÍ, 2 = NO\")                                                            # ETIQUETA DEL EJE X\n",
    "plt.ylabel(\"CANTIDAD DE HOGARES\")                                                       # ETIQUETA DEL EJE Y\n",
    "plt.xticks(rotation=0)                                                                  # MANTENER LAS ETIQUETAS HORIZONTALES\n",
    "plt.grid(axis='y')                                                                      # AGREGAR REJILLA EN EJE Y\n",
    "plt.show()                                                                              # MOSTRAR EL GRÁFICO\n",
    "\n",
    "# IMPRIMO VALORES\n",
    "print(\"CANTIDAD DE HOGARES QUE VIVEN DE INTERESES POR ALQUILER O INVERSIONES / PLAZOS FIJOS (V10):\")\n",
    "print(conteo_V10)"
   ]
  },
  {
   "cell_type": "markdown",
   "id": "f0171ab8",
   "metadata": {},
   "source": [
    ">.\n",
    ">\n",
    ">_LA MAYORÍA DE LOS HOGARES NO CUENTAN CON INGRESOS PROVENIENTES DE INTERESES POR ALQUILERES O INVERSIONES, LO QUE SUGIERE UNA DEPENDENCIA CASI TOTAL DE INGRESOS ACTIVOS (TRABAJO, AYUDA O TRANSFERENCIAS). SOLO UNA MINORÍA DECLARA VIVIR DE ESTE TIPO DE INGRESOS PASIVOS, LO QUE PUEDE VINCULARSE CON UNA MEJOR POSICIÓN ECONÓMICA Y MAYOR CAPITAL ACUMULADO._\n",
    ">\n",
    ">."
   ]
  },
  {
   "cell_type": "markdown",
   "id": "726c9c01",
   "metadata": {},
   "source": [
    "#### <span style=\"color: #3795E1\">*VARIABLE V11: RECIBE UNA BECA*"
   ]
  },
  {
   "cell_type": "code",
   "execution_count": null,
   "id": "09fcdb61",
   "metadata": {},
   "outputs": [],
   "source": [
    "print(\"\")                                                                         \n",
    "conteo_V11 = df['V11'].value_counts().sort_index()                                # CONTAR HOGARES SEGÚN SI RECIBEN BECA\n",
    "conteo_V11.plot(kind='bar')                                                       # GRAFICAR BARRAS\n",
    "plt.title(\"VARIABLE V11: ALGÚN MIEMBRO DEL HOGAR RECIBE DE UNA BECA\")               # TÍTULO\n",
    "plt.xlabel(\"1 = SÍ, 2 = NO\")                                                      # ETIQUETAS\n",
    "plt.ylabel(\"CANTIDAD DE HOGARES\")                                                 # EJE Y\n",
    "plt.xticks(rotation=0)                                                            # ETIQUETAS HORIZONTALES\n",
    "plt.grid(axis='y')                                                                # LÍNEAS DE GUÍA\n",
    "plt.show()                                                                        # MOSTRAR GRÁFICO\n",
    "\n",
    "# IMPRIMO VALORES\n",
    "print(\"CANTIDAD DE HOGARES QUE RECIBEN UNA BECA (V11):\")\n",
    "print(conteo_V11)"
   ]
  },
  {
   "cell_type": "markdown",
   "id": "dc8505f4",
   "metadata": {},
   "source": [
    ">.\n",
    ">\n",
    ">_LA GRAN MAYORÍA DE LOS HOGARES DECLARAN NO VIVIR DE UNA BECA, LO QUE INDICA QUE ESTA FUENTE DE INGRESO ES MUY POCO FRECUENTE EN TIERRA DEL FUEGO. SIN EMBARGO, LOS 116 HOGARES QUE SÍ DECLARAN RECIBIRLA REPRESENTAN UN GRUPO POTENCIALMENTE VULNERABLE, DEPENDIENTE DE AYUDAS ESTATALES O INSTITUCIONALES PARA SOSTENERSE ECONÓMICAMENTE._\n",
    ">\n",
    ">_ESTE TIPO DE INGRESO SUELE SER TEMPORAL Y CON MONTOS LIMITADOS, POR LO QUE PODRÍA INDICAR SITUACIONES DE EXCLUSIÓN O TRANSICIÓN._\n",
    ">\n",
    ">."
   ]
  },
  {
   "cell_type": "markdown",
   "id": "451327fd",
   "metadata": {},
   "source": [
    "#### <span style=\"color: #3795E1\">*VARIABLE V12: RECIBEN AYUDA MONETARIA DE PERSONAS QUE NO VIVEN EN EL HOGAR*"
   ]
  },
  {
   "cell_type": "code",
   "execution_count": null,
   "id": "0a12a041",
   "metadata": {},
   "outputs": [],
   "source": [
    "print(\"\")                                                                            \n",
    "conteo_V12 = df['V12'].value_counts().sort_index()                                              # CONTAR CUÁNTOS HOGARES RECIBEN AYUDA EN DINERO DE PERSONAS EXTERNAS\n",
    "conteo_V12.plot(kind='bar')                                                                     # GRAFICAR LA DISTRIBUCIÓN\n",
    "plt.title(\"VARIABLE V12: ¿RECIBEN AYUDA MONETARIA DE PERSONAS QUE NO VIVEN EN EL HOGAR?\") \n",
    "plt.xlabel(\"1 = SÍ, 2 = NO\")                                                                    # ETIQUETAS DEL EJE X\n",
    "plt.ylabel(\"CANTIDAD DE HOGARES\")                                                               # ETIQUETAS DEL EJE Y\n",
    "plt.xticks(rotation=0)                                                                          # MANTENER ETIQUETAS HORIZONTALES\n",
    "plt.grid(axis='y')                                                                              # AGREGAR REJILLA EN EJE Y\n",
    "plt.show()                                                                                      # MOSTRAR EL GRÁFICO\n",
    "\n",
    "# IMPRIMO VALORES\n",
    "print(\"CANTIDAD DE HOGARES SEGÚN SI RECIBEN AYUDA MONETARIA DE PERSONAS EXTERNAS (V12):\")\n",
    "print(conteo_V12)\n"
   ]
  },
  {
   "cell_type": "markdown",
   "id": "04306fe0",
   "metadata": {},
   "source": [
    ">.\n",
    ">\n",
    ">_UN TOTAL DE 397 HOGARES DECLARARON RECIBIR AYUDA MONETARIA DE PERSONAS QUE NO VIVEN EN EL HOGAR (V12 = 1), LO QUE REPRESENTA UNA MINORÍA RESPECTO A LOS 6547 HOGARES QUE NO DECLARARON RECIBIR DICHO APOYO (V12 = 2)._\n",
    ">\n",
    ">_ESTE TIPO DE ASISTENCIA INDICA UNA RED DE CONTENCIÓN INFORMAL ANTE LA FALTA DE INGRESOS SUFICIENTES. PUEDE FUNCIONAR COMO MECANISMO DE SOBREVIVENCIA, AUNQUE NO SUELE SER SOSTENIBLE A LARGO PLAZO. SU PRESENCIA REVELA VULNERABILIDAD ECONÓMICA Y DEPENDENCIA DE VÍNCULOS EXTERNOS._\n",
    ">\n",
    ">."
   ]
  },
  {
   "cell_type": "markdown",
   "id": "ecaeeb4c",
   "metadata": {},
   "source": [
    "#### <span style=\"color: #3795E1\">*VARIABLE V13: GASTARON LO QUE TENÍAN AHORRADO*"
   ]
  },
  {
   "cell_type": "code",
   "execution_count": null,
   "id": "33c545d9",
   "metadata": {},
   "outputs": [],
   "source": [
    "print(\"\")                                                                      \n",
    "conteo_V13 = df['V13'].value_counts().sort_index()                            # CONTAR CUÁNTOS HOGARES GASTARON SUS AHORROS\n",
    "conteo_V13.plot(kind='bar')                                                   # GRAFICAR LA DISTRIBUCIÓN\n",
    "plt.title(\"VARIABLE V13: GASTARON LO QUE TENÍAN AHORRADO\")                    # TÍTULO DEL GRÁFICO\n",
    "plt.xlabel(\"1 = SÍ, 2 = NO\")                                                  # ETIQUETA EJE X\n",
    "plt.ylabel(\"CANTIDAD DE HOGARES\")                                             # ETIQUETA EJE Y\n",
    "plt.xticks(rotation=0)                                                        # ETIQUETAS HORIZONTALES\n",
    "plt.grid(axis='y')                                                            # AGREGAR REJILLA EJE Y\n",
    "plt.show()                                                                    # MOSTRAR EL GRÁFICO\n",
    "\n",
    "# IMPRIMIR LOS VALORES\n",
    "print(\"CANTIDAD DE HOGARES QUE GASTARON LO QUE TENÍAN AHORRADO (V13):\")\n",
    "print(conteo_V13)"
   ]
  },
  {
   "cell_type": "markdown",
   "id": "98c46012",
   "metadata": {},
   "source": [
    ">.\n",
    ">\n",
    ">_UNA PORCIÓN IMPORTANTE DE LOS HOGARES DECLARÓ HABER TENIDO QUE RECURRIR A SUS AHORROS PARA CUBRIR GASTOS, LO QUE REFLEJA UNA VULNERABILIDAD ECONÓMICA LATENTE._\n",
    ">\n",
    ">_SI BIEN ESTE INDICADOR NO IMPLICA NECESARIAMENTE EXCLUSIÓN SOCIAL ACTUAL, FUNCIONA COMO UNA SEÑAL DE ALERTA SOBRE LA FRAGILIDAD FINANCIERA ANTE EVENTOS ADVERSOS._\n",
    ">\n",
    ">_EN EL CONTEXTO DE ESTE TRABAJO, PERMITE IDENTIFICAR HOGARES QUE, AUN NO EXCLUIDOS, PUEDEN ESTAR EN RIESGO DE CAER EN SITUACIÓN DE EXCLUSIÓN SI SE REPLICA UN ESCENARIO DE CRISIS O DESOCUPACIÓN._\n",
    ">\n",
    ">."
   ]
  },
  {
   "cell_type": "markdown",
   "id": "c6b49b8f",
   "metadata": {},
   "source": [
    "#### <span style=\"color: #3795E1\">*VARIABLE V14: PIDIERON PRÉSTAMOS A FAMILIARES O AMIGOS*"
   ]
  },
  {
   "cell_type": "code",
   "execution_count": null,
   "id": "583672c2",
   "metadata": {},
   "outputs": [],
   "source": [
    "print(\"\")                                                                      \n",
    "conteo_V14 = df['V14'].value_counts().sort_index()                             # CONTAR CUÁNTOS HOGARES PIDIERON PRÉSTAMOS A FAMILIARES O AMIGOS\n",
    "conteo_V14.plot(kind='bar')                                                    # GRAFICAR DISTRIBUCIÓN DE LA VARIABLE V14\n",
    "plt.title(\"VARIABLE V14: PIDIERON PRÉSTAMOS A FAMILIARES O AMIGOS\")            # TÍTULO DEL GRÁFICO\n",
    "plt.xlabel(\"1 = SÍ, 2 = NO\")                                                   # ETIQUETA DEL EJE X\n",
    "plt.ylabel(\"CANTIDAD DE HOGARES\")                                              # ETIQUETA DEL EJE Y\n",
    "plt.xticks(rotation=0)                                                         # MANTENER LAS ETIQUETAS HORIZONTALES\n",
    "plt.grid(axis='y')                                                             # AGREGAR REJILLA EN EJE Y\n",
    "plt.show()                                                                     # MOSTRAR EL GRÁFICO\n",
    "\n",
    "# IMPRIMO VALORES\n",
    "print(\"CANTIDAD DE HOGARES QUE PIDIERON PRÉSTAMOS A FAMILIARES O AMIGOS (V14):\")\n",
    "print(conteo_V14)"
   ]
  },
  {
   "cell_type": "markdown",
   "id": "c9ed2b5e",
   "metadata": {},
   "source": [
    ">.\n",
    ">\n",
    ">_UN TOTAL DE 591 HOGARES DECLARARON HABER PEDIDO PRÉSTAMOS A FAMILIARES O AMIGOS. ESTO PUEDE SER UN INDICADOR DE FRAGILIDAD FINANCIERA Y DE LIMITADO ACCESO A CRÉDITOS FORMALES._\n",
    ">\n",
    ">_AUNQUE LA MAYORÍA (6.353 HOGARES) NO RECURRIÓ A ESTE MECANISMO, EL HECHO DE QUE UNA PORCIÓN IMPORTANTE SÍ LO HAYA HECHO SUGIERE QUE EXISTEN ESTRATEGIAS DE SOSTÉN BASADAS EN AYUDA PRIVADA, LO QUE PUEDE RELACIONARSE CON SITUACIONES DE EXCLUSIÓN O VULNERABILIDAD ECONÓMICA._\n",
    ">\n",
    ">."
   ]
  },
  {
   "cell_type": "markdown",
   "id": "3abbd364",
   "metadata": {},
   "source": [
    "#### <span style=\"color: #3795E1\">*VARIABLE V15: PRÉSTAMOS A BANCOS O FINANCIERAS*"
   ]
  },
  {
   "cell_type": "code",
   "execution_count": null,
   "id": "bcf88135",
   "metadata": {},
   "outputs": [],
   "source": [
    "print(\"\")                                                                         \n",
    "conteo_V15 = df['V15'].value_counts().sort_index()                                # CONTAR CUÁNTOS HOGARES PIDIERON PRÉSTAMOS A BANCOS O FINANCIERAS\n",
    "conteo_V15.plot(kind='bar')                                                       # GRAFICAR DISTRIBUCIÓN DE LA VARIABLE V15\n",
    "plt.title(\"VARIABLE V15: PRÉSTAMOS A BANCOS O FINANCIERAS\")                        # TÍTULO DEL GRÁFICO\n",
    "plt.xlabel(\"1 = SÍ, 2 = NO\")                                                       # ETIQUETA DEL EJE X\n",
    "plt.ylabel(\"CANTIDAD DE HOGARES\")                                                 # ETIQUETA DEL EJE Y\n",
    "plt.xticks(rotation=0)                                                            # MANTENER LAS ETIQUETAS HORIZONTALES\n",
    "plt.grid(axis='y')                                                                # AGREGAR REJILLA EN EJE Y\n",
    "plt.show()                                                                        # MOSTRAR EL GRÁFICO\n",
    "\n",
    "# IMPRIMO VALORES\n",
    "print(\"CANTIDAD DE HOGARES QUE PIDIERON PRÉSTAMOS A BANCOS O FINANCIERAS (V15):\")\n",
    "print(conteo_V15)\n"
   ]
  },
  {
   "cell_type": "markdown",
   "id": "88b0e322",
   "metadata": {},
   "source": [
    ">.\n",
    ">\n",
    ">_UNA PEQUEÑA PROPORCIÓN DE LOS HOGARES DECLARÓ HABER RECURRIDO A PRÉSTAMOS DE BANCOS O FINANCIERAS, LO QUE PODRÍA REFLEJAR DOS ESCENARIOS POSIBLES: POR UN LADO, ACCESO AL CRÉDITO FORMAL COMO ESTRATEGIA DE SOSTÉN; POR OTRO, UNA POSIBLE SEÑAL DE ENDEUDAMIENTO QUE PODRÍA INDICAR VULNERABILIDAD ECONÓMICA._\n",
    ">\n",
    ">_ESTA VARIABLE ES CLAVE PARA DETECTAR MECANISMOS DE SOBREVIVENCIA ANTE LA FALTA DE INGRESOS SUFICIENTES._\n",
    ">\n",
    ">\n",
    ">."
   ]
  },
  {
   "cell_type": "markdown",
   "id": "b8d06216",
   "metadata": {},
   "source": [
    "#### <span style=\"color: #3795E1\">*VARIABLE V16: COMPRAN CON TARJETA DE CRÉDITO EN CUOTAS*"
   ]
  },
  {
   "cell_type": "code",
   "execution_count": null,
   "id": "177253c9",
   "metadata": {},
   "outputs": [],
   "source": [
    "print(\"\")                                                                        \n",
    "conteo_V16 = df['V16'].value_counts().sort_index()                               # CONTAR CUÁNTOS HOGARES COMPRAN EN CUOTAS CON TARJETA DE CRÉDITO\n",
    "conteo_V16.plot(kind='bar')                                                      # GRAFICAR DISTRIBUCIÓN DE LA VARIABLE V16\n",
    "plt.title(\"VARIABLE V16: COMPRAN CON TARJETA DE CRÉDITO EN CUOTAS\")              # TÍTULO DEL GRÁFICO\n",
    "plt.xlabel(\"1 = SÍ, 2 = NO\")                                                     # ETIQUETA DEL EJE X\n",
    "plt.ylabel(\"CANTIDAD DE HOGARES\")                                                # ETIQUETA DEL EJE Y\n",
    "plt.xticks(rotation=0)                                                           # MANTENER LAS ETIQUETAS HORIZONTALES\n",
    "plt.grid(axis='y')                                                               # AGREGAR REJILLA EN EJE Y\n",
    "plt.show()                                                                       # MOSTRAR EL GRÁFICO\n",
    "\n",
    "# IMPRIMO VALORES\n",
    "print(\"CANTIDAD DE HOGARES QUE CON TARJETA DE CRÉDITO EN CUOTAS (V16):\")\n",
    "print(conteo_V16)"
   ]
  },
  {
   "cell_type": "markdown",
   "id": "02509aa5",
   "metadata": {},
   "source": [
    ">.\n",
    ">\n",
    ">_UNA CANTIDAD IMPORTANTE DE HOGARES DECLARA COMPRAR EN CUOTAS CON TARJETA DE CRÉDITO, LO QUE PUEDE INDICAR TANTO UN ACCESO AL SISTEMA FINANCIERO FORMAL COMO UNA ESTRATEGIA DE ENDEUDAMIENTO PARA PODER ADQUIRIR BIENES O SERVICIOS._\n",
    ">\n",
    ">_ESTE COMPORTAMIENTO ES RELEVANTE PARA LA DETECCIÓN DE VULNERABILIDAD ECONÓMICA, YA QUE EL USO DE CRÉDITO PARA CONSUMO PODRÍA REFLEJAR UNA CAPACIDAD LIMITADA DE HACER FRENTE A GASTOS SIN FINANCIACIÓN._\n",
    ">\n",
    ">."
   ]
  },
  {
   "cell_type": "markdown",
   "id": "a6349a00",
   "metadata": {},
   "source": [
    "#### <span style=\"color: #3795E1\">*VARIABLE V17: TUVIERON QUE VENDER ALGUNA DE SUS PERTENENCIAS*"
   ]
  },
  {
   "cell_type": "code",
   "execution_count": null,
   "id": "44dd49ba",
   "metadata": {},
   "outputs": [],
   "source": [
    "print(\"\")                                                                     \n",
    "conteo_V17 = df['V17'].value_counts().sort_index()                             # CONTAR CUÁNTOS HOGARES VENDIERON ALGUNA PERTENENCIA\n",
    "conteo_V17.plot(kind='bar')                                                    # GRAFICAR DISTRIBUCIÓN DE LA VARIABLE V17\n",
    "plt.title(\"VARIABLE V17: TUVIERON QUE VENDER ALGUNA DE SUS PERTENENCIAS\")      # TÍTULO DEL GRÁFICO\n",
    "plt.xlabel(\"1 = SÍ, 2 = NO\")                                                   # ETIQUETA DEL EJE X\n",
    "plt.ylabel(\"CANTIDAD DE HOGARES\")                                              # ETIQUETA DEL EJE Y\n",
    "plt.xticks(rotation=0)                                                         # MANTENER LAS ETIQUETAS HORIZONTALES\n",
    "plt.grid(axis='y')                                                             # AGREGAR REJILLA EN EJE Y\n",
    "plt.show()                                                                     # MOSTRAR EL GRÁFICO\n",
    "\n",
    "# IMPRIMIR VALORES\n",
    "print(\"CANTIDAD DE HOGARES QUE VENDIERON ALGUNA PERTENENCIA (V17):\")\n",
    "print(conteo_V17)"
   ]
  },
  {
   "cell_type": "markdown",
   "id": "7870e111",
   "metadata": {},
   "source": [
    ">.\n",
    ">\n",
    ">_UN TOTAL DE 437 HOGARES DECLARARON HABER TENIDO QUE VENDER ALGUNA DE SUS PERTENENCIAS, LO CUAL PUEDE CONSIDERARSE UN INDICADOR DE VULNERABILIDAD ECONÓMICA. ESTA ACCIÓN SUELE RESPONDER A SITUACIONES DE EMERGENCIA O FALTA DE INGRESOS SUFICIENTES PARA CUBRIR GASTOS BÁSICOS. POR CONTRA, 6507 HOGARES RESPONDIERON QUE NO, LO QUE SUGIERE UNA MAYOR ESTABILIDAD O RESILIENCIA ECONÓMICA EN ESE SEGMENTO._\n",
    ">\n",
    ">_ESTA VARIABLE CONTRIBUYE A DETECTAR NIVELES DE EXCLUSIÓN SOCIAL RELACIONADOS CON LA NECESIDAD DE DESHACERSE DE ACTIVOS COMO ESTRATEGIA DE SOBREVIVENCIA._\n",
    ">\n",
    ">."
   ]
  },
  {
   "cell_type": "markdown",
   "id": "a4c8e61e",
   "metadata": {},
   "source": [
    "#### <span style=\"color: #3795E1\">*VARIABLE V18: TUVIERON OTROS INGRESOS EN EFECTIVO*"
   ]
  },
  {
   "cell_type": "code",
   "execution_count": null,
   "id": "58b5e58c",
   "metadata": {},
   "outputs": [],
   "source": [
    "print(\"\")                                                                         \n",
    "conteo_V18 = df['V18'].value_counts().sort_index()                                # CONTAR CUÁNTOS HOGARES DECLARARON OTROS INGRESOS EN EFECTIVO\n",
    "conteo_V18.plot(kind='bar')                                                       # GRAFICAR DISTRIBUCIÓN DE LA VARIABLE V18\n",
    "plt.title(\"VARIABLE V18: TUVIERON OTROS INGRESOS EN EFECTIVO\")                    # TÍTULO DEL GRÁFICO\n",
    "plt.xlabel(\"1 = SÍ, 2 = NO\")                                                      # ETIQUETA DEL EJE X\n",
    "plt.ylabel(\"CANTIDAD DE HOGARES\")                                                 # ETIQUETA DEL EJE Y\n",
    "plt.xticks(rotation=0)                                                            # MANTENER LAS ETIQUETAS HORIZONTALES\n",
    "plt.grid(axis='y')                                                                # AGREGAR REJILLA EN EJE Y\n",
    "plt.show()                                                                        # MOSTRAR EL GRÁFICO\n",
    "\n",
    "# IMPRIMO VALORES\n",
    "print(\"CANTIDAD DE HOGARES QUE TUVIERON OTROS INGRESOS EN EFECTIVO (V18):\")\n",
    "print(conteo_V18)\n"
   ]
  },
  {
   "cell_type": "markdown",
   "id": "95120be6",
   "metadata": {},
   "source": [
    ">.\n",
    ">\n",
    ">_UN TOTAL DE 14 HOGARES DECLARARON HABER TENIDO OTROS INGRESOS EN EFECTIVO, COMO LIMOSNAS, JUEGOS DE AZAR U OTROS MEDIOS INFORMALES. ESTA SITUACIÓN PUEDE INTERPRETARSE COMO UN INDICADOR DE MÁXIMA VULNERABILIDAD ECONÓMICA, YA QUE IMPLICA DEPENDER DE FUENTES NO REGULARES NI ESTABLES PARA SOBREVIVIR._\n",
    ">\n",
    ">_POR CONTRA, 6930 HOGARES RESPONDIERON QUE NO, LO QUE REFLEJA UNA MAYOR INTEGRACIÓN ECONÓMICA Y MENOR RIESGO DE EXCLUSIÓN EN ESTE ASPECTO._\n",
    ">\n",
    ">_ESTA VARIABLE CONTRIBUYE A DETECTAR SITUACIONES EXTREMAS DE EXCLUSIÓN SOCIAL, DONDE EL HOGAR SE VE FORZADO A ACEPTAR O BUSCAR INGRESOS POR VÍAS NO CONVENCIONALES._\n",
    ">\n",
    ">."
   ]
  },
  {
   "cell_type": "markdown",
   "id": "bcdd4cac",
   "metadata": {},
   "source": [
    "#### <span style=\"color: #3795E1\">*VARIABLE V19_A: NIÑO/A <10 AÑOS REALIZA TRABAJO REMUNERADO*"
   ]
  },
  {
   "cell_type": "code",
   "execution_count": null,
   "id": "29e9e676",
   "metadata": {},
   "outputs": [],
   "source": [
    "print(\"\")                                                                     \n",
    "conteo_V19_A = df['V19_A'].value_counts().sort_index()                       # CONTAR CUÁNTOS HOGARES DECLARAN QUE UN NIÑO <10 AÑOS AYUDA CON TRABAJO REMUNERADO\n",
    "conteo_V19_A.plot(kind='bar')                                                # GRAFICAR DISTRIBUCIÓN DE LA VARIABLE V19_B\n",
    "plt.title(\"VARIABLE V19_A: NIÑO/A <10 AÑOS REALIZA TRABAJO REMUNERADO\")     # TÍTULO DEL GRÁFICO\n",
    "plt.xlabel(\"1 = SÍ, 2 = NO\")                                                 # ETIQUETA DEL EJE X\n",
    "plt.ylabel(\"CANTIDAD DE HOGARES\")                                            # ETIQUETA DEL EJE Y\n",
    "plt.xticks(rotation=0)                                                       # MANTENER LAS ETIQUETAS HORIZONTALES\n",
    "plt.grid(axis='y')                                                           # AGREGAR REJILLA EN EJE Y\n",
    "plt.show()                                                                   # MOSTRAR EL GRÁFICO\n",
    "\n",
    "# IMPRIMO VALORES\n",
    "print(\"CANTIDAD DE HOGARES DONDE UN NIÑO/A <10 AÑOS REALIZA TRABAJO REMUNERADO (V19_A):\")\n",
    "print(conteo_V19_A)\n"
   ]
  },
  {
   "cell_type": "markdown",
   "id": "75419180",
   "metadata": {},
   "source": [
    ">.\n",
    ">\n",
    ">_UN TOTAL DE 6944 HOGARES INFORMARON QUE NINGÚN NIÑO O NIÑA MENOR DE 10 AÑOS REALIZA TRABAJO REMUNERADO O ACTIVIDADES QUE CONTRIBUYAN AL INGRESO DEL HOGAR. NO SE REGISTRARON CASOS POSITIVOS (1 = SÍ) EN ESTA VARIABLE, LO QUE PUEDE INDICAR UNA BAJA OCURRENCIA DE ESTE TIPO DE DINÁMICAS EN LA MUESTRA RELEVADA EN TIERRA DEL FUEGO._\n",
    ">\n",
    ">_ESTA VARIABLE ES CRÍTICA PARA DETECTAR SITUACIONES DE TRABAJO INFANTIL EN EDADES TEMPRANAS, LAS CUALES REPRESENTAN UNA FORMA GRAVE DE EXCLUSIÓN SOCIAL. AUNQUE EN ESTE CASO NO SE OBSERVAN HOGARES CON ESTA PROBLEMÁTICA, SU INCLUSIÓN EN EL MODELO PERMITE CAPTURAR ESCENARIOS EXTREMOS Y FUNCIONA COMO UN INDICADOR DE ALERTA CUANDO APARECE._\n",
    ">\n",
    ">."
   ]
  },
  {
   "cell_type": "markdown",
   "id": "f9dbe064",
   "metadata": {},
   "source": [
    "#### <span style=\"color: #3795E1\">*VARIABLE V19_B: NIÑO/A <10 AÑOS AYUDA EN EL HOGAR PIDIENDO DINERO*"
   ]
  },
  {
   "cell_type": "code",
   "execution_count": null,
   "id": "353a8930",
   "metadata": {},
   "outputs": [],
   "source": [
    "print(\"\")                                                                          \n",
    "conteo_V19_B = df['V19_B'].value_counts().sort_index()                             # CONTAR CUÁNTOS HOGARES DECLARARON QUE NIÑOS MENORES DE 10 AÑOS PIDEN DINERO\n",
    "conteo_V19_B.plot(kind='bar')                                                      # GRAFICAR DISTRIBUCIÓN DE LA VARIABLE V19_A\n",
    "plt.title(\"VARIABLE V19_B: NIÑO/A <10 AÑOS AYUDA EN EL HOGAR PIDIENDO DINERO\")     # TÍTULO DEL GRÁFICO\n",
    "plt.xlabel(\"1 = SÍ, 2 = NO\")                                                       # ETIQUETA DEL EJE X\n",
    "plt.ylabel(\"CANTIDAD DE HOGARES\")                                                  # ETIQUETA DEL EJE Y\n",
    "plt.xticks(rotation=0)                                                             # MANTENER LAS ETIQUETAS HORIZONTALES\n",
    "plt.grid(axis='y')                                                                 # AGREGAR REJILLA EN EJE Y\n",
    "plt.show()                                                                         # MOSTRAR EL GRÁFICO\n",
    "\n",
    "# IMPRIMO VALORES\n",
    "print(\"CANTIDAD DE HOGARES DONDE UN NIÑO/A <10 AÑOS PIDE DINERO (V19_B):\")\n",
    "print(conteo_V19_B)"
   ]
  },
  {
   "cell_type": "markdown",
   "id": "e9882024",
   "metadata": {},
   "source": [
    ">.\n",
    ">\n",
    ">_UN TOTAL DE 6944 HOGARES DECLARARON QUE NINGÚN NIÑO O NIÑA MENOR DE 10 AÑOS PIDE DINERO EN LA VÍA PÚBLICA U OTROS ESPACIOS PARA CONTRIBUIR A LA ECONOMÍA DEL HOGAR._\n",
    ">\n",
    ">_ESTE DATO REFLEJA UNA SITUACIÓN POSITIVA EN TÉRMINOS DE PROTECCIÓN DE LOS DERECHOS INFANTILES Y SUGIERE UNA BAJA INCIDENCIA DEL TRABAJO INFANTIL EXTREMO EN LA PROVINCIA, EN ESTE CASO RELACIONADO CON LA MENDICIDAD O SOLICITUD DE DINERO._\n",
    ">\n",
    ">SI BIEN NO SE REGISTRARON CASOS EN ESTA VARIABLE, SU RELEVANCIA RADICA EN LA POSIBILIDAD DE MONITOREAR FORMAS GRAVES DE EXCLUSIÓN SOCIAL QUE INVOLUCRAN A LA NIÑEZ.\n",
    ">\n",
    ">."
   ]
  },
  {
   "cell_type": "markdown",
   "id": "4debceb7",
   "metadata": {},
   "source": [
    "### **CRUCE DE VARIABLES** "
   ]
  },
  {
   "cell_type": "markdown",
   "id": "ce5d3647",
   "metadata": {},
   "source": [
    "##### <span style=\"color: #3795E1\">*CANTIDAD DE AMBIENTES vs. MIEMBROS DEL HOGAR (II1 vs. IX_TOT)*"
   ]
  },
  {
   "cell_type": "code",
   "execution_count": null,
   "id": "e26d9a65",
   "metadata": {},
   "outputs": [],
   "source": [
    "# GRAFICAR DISPERSIÓN ENTRE CANTIDAD DE AMBIENTES Y MIEMBROS DEL HOGAR\n",
    "print(\"\")\n",
    "plt.figure(figsize=(10, 6))                                                                             # DEFINIR TAMAÑO DE FIGURA\n",
    "sns.stripplot(data=df, x='II1', y='IX_TOT', jitter=True, alpha=0.5)                                     # AGREGAR JITTER PARA VISIBILIDAD\n",
    "plt.title(\"CANTIDAD DE AMBIENTES VS. MIEMBROS DEL HOGAR\")                                               # TÍTULO DEL GRÁFICO\n",
    "plt.xlabel(\"CANTIDAD DE AMBIENTES EXCLUSIVOS (II1)\")                                                    # EJE X\n",
    "plt.ylabel(\"CANTIDAD DE MIEMBROS EN EL HOGAR (IX_TOT)\")                                                 # EJE Y\n",
    "plt.grid(True, axis='y')                                                                                # LÍNEAS DE REJILLA EN EJE Y\n",
    "plt.show()                                                                                              # MOSTRAR GRÁFICO\n",
    "\n",
    "print(\"\") \n",
    "tabla_ambientes_miembros = df.groupby(['II1', 'IX_TOT']).size().unstack(fill_value=0)                   # AGRUPAR Y CREAR LA TABLA\n",
    "print(\"CANTIDAD DE HOGARES SEGÚN CANTIDAD DE AMBIENTES (II1) Y MIEMBROS DEL HOGAR (IX_TOT):\")           # IMPRIMIR TITULO\n",
    "display(tabla_ambientes_miembros)"
   ]
  },
  {
   "cell_type": "markdown",
   "id": "4ad3e3fd",
   "metadata": {},
   "source": [
    ">.\n",
    ">\n",
    ">_LA TABLA MUESTRA UNA CONCENTRACIÓN DE HOGARES CON 3 A 4 AMBIENTES Y 2 A 4 MIEMBROS, LO QUE INDICA UNA CONFIGURACIÓN HABITACIONAL COMÚN Y RELATIVAMENTE EQUILIBRADA EN LA PROVINCIA._\n",
    ">\n",
    ">_SE OBSERVAN SITUACIONES POTENCIALMENTE VULNERABLES ENTRE HOGARES CON:_\n",
    ">\n",
    ">_- 1 O 2 AMBIENTES Y 5 O MÁS PERSONAS, COMO LOS 8 HOGARES CON 1 AMBIENTE Y 5 O MÁS MIEMBROS._\n",
    ">\n",
    ">_- CASOS DE HACINAMIENTO SEVERO, COMO LOS 5 HOGARES DE 1 SOLO AMBIENTE Y 1 MIEMBRO, Y LOS 672 HOGARES CON 3 AMBIENTES Y 1 MIEMBRO, POSIBLEMENTE INDICANDO SUBUTILIZACIÓN O ENVEJECIMIENTO DE HOGARES._\n",
    ">\n",
    ">_TAMBIÉN SE REGISTRAN CONFIGURACIONES EXTREMAS, COMO HOGARES CON 10 O MÁS MIEMBROS, QUE SE ENCUENTRAN PRINCIPALMENTE EN VIVIENDAS DE 4 O 5 AMBIENTES, AUNQUE EN ALGUNOS CASOS CON MENOR CANTIDAD DE ESPACIOS, LO QUE PODRÍA COMPROMETER LAS CONDICIONES DE HABITABILIDAD._\n",
    ">\n",
    ">_ESTE CRUCE ES FUNDAMENTAL PARA IDENTIFICAR HOGARES CON HACINAMIENTO POR DÉFICIT DE ESPACIO, UN FACTOR CLAVE DE EXCLUSIÓN HABITACIONAL QUE REQUIERE ATENCIÓN EN POLÍTICAS PÚBLICAS._\n",
    ">\n",
    ">\n",
    ">\n",
    ">\n",
    ">\n",
    ">\n",
    ">\n",
    ">\n",
    ">\n",
    ">."
   ]
  },
  {
   "cell_type": "markdown",
   "id": "c3901515",
   "metadata": {},
   "source": [
    "##### <span style=\"color: #3795E1\">*CANTIDAD DE AMBIENTES USADOS PARA DORMIR vs. CANTIDAD TOTAL DE MIEMBROS (II2 vs. IX_TOT)*"
   ]
  },
  {
   "cell_type": "code",
   "execution_count": null,
   "id": "b140abaa",
   "metadata": {},
   "outputs": [],
   "source": [
    "# TABLA CRUZADA ENTRE AMBIENTES PARA DORMIR (II2) Y TOTAL DE MIEMBROS DEL HOGAR (IX_TOT)\n",
    "print(\"\")                                                                         \n",
    "cruce_II2_IXTOT = pd.crosstab(df['II2'], df['IX_TOT'])                                                                   # GENERAR TABLA DE FRECUENCIAS\n",
    "\n",
    "# GRÁFICO DE DISPERSIÓN PARA VISUALIZAR RELACIÓN DIRECTA\n",
    "print(\"\")                                                                         \n",
    "plt.figure(figsize=(8, 6))                                                                                               # DEFINIR TAMAÑO DEL GRÁFICO\n",
    "sns.stripplot(data=df, x='II2', y='IX_TOT', jitter=True, alpha=0.5)                                                      # GRÁFICO DE PUNTOS CON DISPERSIÓN\n",
    "plt.title(\"DISPERSIÓN: AMBIENTES PARA DORMIR (II2) VS. TOTAL DE MIEMBROS DEL HOGAR (IX_TOT)\")                            # TÍTULO\n",
    "plt.xlabel(\"CANTIDAD DE AMBIENTES DESTINADOS A DORMIR (II2)\")                                                            # EJE X\n",
    "plt.ylabel(\"CANTIDAD TOTAL DE MIEMBROS DEL HOGAR (IX_TOT)\")                                                              # EJE Y\n",
    "plt.grid(True, axis='y')                                                                                                 # REJILLA EN EJE Y\n",
    "plt.show()                                                                                                               # MOSTRAR EL GRÁFICO\n",
    "\n",
    "# MAPA DE CALOR PARA VISUALIZAR DENSIDAD DE HOGARES\n",
    "print(\"\")                                                                         \n",
    "plt.figure(figsize=(12, 6))                                                                                              # DEFINIR TAMAÑO DEL MAPA DE CALOR\n",
    "sns.heatmap(cruce_II2_IXTOT, cmap=\"Blues\", linewidths=0.5, linecolor='gray', cbar_kws={'label': 'Cantidad de hogares'})  # MAPA DE CALOR CON CONTORNOS\n",
    "plt.title(\"AMBIENTES PARA DORMIR (II2) VS. MIEMBROS TOTALES DEL HOGAR (IX_TOT)\")                                         # TÍTULO\n",
    "plt.xlabel(\"CANTIDAD TOTAL DE MIEMBROS DEL HOGAR (IX_TOT)\")                                                              # EJE X\n",
    "plt.ylabel(\"CANTIDAD DE AMBIENTES DESTINADOS A DORMIR (II2)\")                                                            # EJE Y\n",
    "plt.show()                                                                                                               # MOSTRAR EL MAPA DE CALOR\n",
    "\n",
    "# MOSTRAR LA TABLA DE CRUCE EN CONSOLA\n",
    "print(\"\\nCANTIDAD DE HOGARES SEGÚN AMBIENTES PARA DORMIR (II2) Y CANTIDAD TOTAL DE MIEMBROS DEL HOGAR (IX_TOT):\")\n",
    "from IPython.display import display                                                                                      # IMPORTAR MÉTODO DISPLAY\n",
    "display(cruce_II2_IXTOT)                                                                                                 # MOSTRAR LA TABLA \n",
    "\n"
   ]
  },
  {
   "cell_type": "markdown",
   "id": "0d71278e",
   "metadata": {},
   "source": [
    ">.\n",
    ">\n",
    ">_LA MAYORÍA DE LOS HOGARES TIENE ENTRE 1 Y 3 AMBIENTES PARA DORMIR, Y ENTRE 2 Y 4 MIEMBROS, LO QUE REFLEJA UNA CONFIGURACIÓN HABITACIONAL MODERADA Y ESPACIO RELATIVO ADECUADO._\n",
    ">\n",
    ">_SE OBSERVAN CASOS DE POSIBLE HACINAMIENTO, COMO LOS 865 HOGARES CON 2 AMBIENTES PARA DORMIR Y 3 MIEMBROS, O LOS 512 HOGARES CON 3 AMBIENTES PARA DORMIR Y 4 PERSONAS. ESTOS CASOS PUEDEN SER ACEPTABLES, PERO CUANDO HAY MÁS DE 5 MIEMBROS EN POCOS AMBIENTES, EL RIESGO DE HACINAMIENTO AUMENTA._\n",
    ">\n",
    ">_ES ESPECIALMENTE NOTABLE LA PRESENCIA DE HOGARES DE 6 O MÁS MIEMBROS CON SÓLO 1 O 2 AMBIENTES PARA DORMIR, LO QUE INDICA UNA CONDICIÓN DE VULNERABILIDAD HABITACIONAL GRAVE. ADEMÁS, SE IDENTIFICAN CASOS EXTREMOS COMO HOGARES CON 12 O 13 MIEMBROS Y SOLO 3 O 4 AMBIENTES PARA DORMIR._\n",
    ">\n",
    ">_ESTE CRUCE PERMITE DETECTAR SITUACIONES DE HACINAMIENTO NO SÓLO A NIVEL GENERAL DE LA VIVIENDA, SINO EN EL ESPACIO DESTINADO AL DESCANSO, LO QUE AFECTA DIRECTAMENTE LA CALIDAD DE VIDA Y LA SALUD DE LOS INTEGRANTES DEL HOGAR._\n",
    ">\n",
    ">."
   ]
  },
  {
   "cell_type": "markdown",
   "id": "b33b1602",
   "metadata": {},
   "source": [
    "##### <span style=\"color: #3795E1\">*CANTIDAD DE AMBIENTES vs. INGRESO PER CAPITA FAMILIAR (II1 vs. IPCF)*"
   ]
  },
  {
   "cell_type": "code",
   "execution_count": null,
   "id": "ae060caf",
   "metadata": {},
   "outputs": [],
   "source": [
    "# GRÁFICO DE CAJA PARA VISUALIZAR DISTRIBUCIÓN DE INGRESO POR CANTIDAD DE AMBIENTES\n",
    "print(\"\")\n",
    "plt.figure(figsize=(10, 6))                                                                                     # DEFINIR TAMAÑO DEL GRÁFICO\n",
    "sns.boxplot(data=df, x='II1', y='IPCF_OK')                                                                      # GRÁFICO DE CAJA POR CANTIDAD DE AMBIENTES\n",
    "plt.title(\"IPCF SEGÚN CANTIDAD DE AMBIENTES\")                                                                   # TÍTULO DEL GRÁFICO\n",
    "plt.xlabel(\"CANTIDAD DE AMBIENTES\")                                                                             # EJE X\n",
    "plt.ylabel(\"INGRESO PER CAPITA\")                                                                                # EJE Y\n",
    "plt.grid(True, axis='y')                                                                                        # REJILLA EN EJE Y\n",
    "plt.ylim(0, df['IPCF_OK'].quantile(0.95))                                                                       # LIMITAR PARA EVITAR OUTLIERS EXTREMOS\n",
    "plt.gca().yaxis.set_major_formatter(mticker.FuncFormatter(lambda x, _: f'{int(x):,}'.replace(\",\", \".\")))        # FORMATEAR EJE Y EN FORMATO ARGENTINO\n",
    "plt.show()                                                                                                      # MOSTRAR EL GRÁFICO\n"
   ]
  },
  {
   "cell_type": "markdown",
   "id": "d546347d",
   "metadata": {},
   "source": [
    ">.\n",
    ">\n",
    ">_EL GRÁFICO DE CAJAS MUESTRA UNA RELACIÓN CLARA ENTRE EL INGRESO PER CÁPITA DEL HOGAR Y LA CANTIDAD DE AMBIENTES EXCLUSIVOS. EN GENERAL, A MAYOR CANTIDAD DE AMBIENTES, MAYOR ES EL NIVEL MEDIO DE INGRESO PER CÁPITA AJUSTADO._\n",
    ">\n",
    ">_LOS HOGARES MONOAMBIENTES A 2 AMBIENTES TIENDEN A TENER LOS NIVELES MÁS BAJOS DE INGRESO, CON MEDIANAS POR DEBAJO DE LOS $500.000. POR CONTRA, LOS HOGARES CON 6 O MÁS AMBIENTES PRESENTAN INGRESOS NOTORIAMENTE MÁS ALTOS, ALCANZANDO MEDIANAS CERCANAS O SUPERIORES AL MILLÓN DE PESOS._\n",
    ">\n",
    ">_ESTA CORRELACIÓN REFUERZA LA IDEA DE QUE LAS CONDICIONES MATERIALES DE LA VIVIENDA, COMO LA DISPONIBILIDAD DE ESPACIOS EXCLUSIVOS, FUNCIONAN COMO UN INDICADOR FIABLE DEL NIVEL SOCIOECONÓMICO DEL HOGAR._\n",
    ">\n",
    ">_SE OBSERVAN TAMBIÉN OUTLIERS, PARTICULARMENTE EN GRUPOS DE 1 A 3 AMBIENTES, LO QUE PUEDE REFLEJAR CASOS DE HOGARES PEQUEÑOS CON INGRESOS ALTOS (POSIBLEMENTE UNIPERSONALES O DE DOS ADULTOS ACTIVOS)._\n",
    ">\n",
    ">_ESTE CRUCE APORTA VALOR A LA DETECCIÓN DE HOGARES EN SITUACIÓN DE EXCLUSIÓN ECONÓMICA A PARTIR DE SU ENTORNO HABITACIONAL._\n",
    ">\n",
    ">\n",
    ">\n",
    ">\n",
    ">\n",
    ">\n",
    ">\n",
    ">\n",
    ">\n",
    ">."
   ]
  },
  {
   "cell_type": "markdown",
   "id": "871304a6",
   "metadata": {},
   "source": [
    "##### <span style=\"color: #3795E1\">*CANTIDAD TOTAL DE MIEMBROS EN EL HOGAR vs. INGRESO PER CAPITA FAMILIAR (IXTOT vs. IPCF)*"
   ]
  },
  {
   "cell_type": "code",
   "execution_count": null,
   "id": "03f9cb4f",
   "metadata": {},
   "outputs": [],
   "source": [
    "print(\"\")                                                                         \n",
    "plt.figure(figsize=(10, 6))                                                                                     # DEFINIR TAMAÑO DEL GRÁFICO\n",
    "sns.boxplot(data=df, x='IX_TOT', y='IPCF_OK')                                                                   # GRÁFICO DE CAJA POR CANTIDAD DE MIEMBROS\n",
    "plt.title(\"IPCF SEGÚN TAMAÑO DEL HOGAR (IX_TOT)\")                                                               # TÍTULO\n",
    "plt.xlabel(\"CANTIDAD TOTAL DE MIEMBROS EN EL HOGAR (IX_TOT)\")                                                   # EJE X\n",
    "plt.ylabel(\"INGRESO PER CAPITA FAMILIAR (IPCF)\")                                                                # EJE Y\n",
    "plt.grid(True, axis='y')                                                                                        # REJILLA EN EJE Y\n",
    "plt.ylim(0, df['IPCF_OK'].quantile(0.95))                                                                       # LIMITAR OUTLIERS\n",
    "plt.gca().yaxis.set_major_formatter(mticker.FuncFormatter(lambda x, _: f'{int(x):,}'.replace(\",\", \".\")))        # FORMATEAR EJE Y CON PUNTOS MILES\n",
    "plt.show()                                                                                                      # MOSTRAR EL GRÁFICO\n"
   ]
  },
  {
   "cell_type": "markdown",
   "id": "1aa5a048",
   "metadata": {},
   "source": [
    ">.\n",
    ">\n",
    ">_EL GRÁFICO DE CAJA MUESTRA UNA RELACIÓN INVERSA ENTRE EL TAMAÑO DEL HOGAR Y EL INGRESO PER CÁPITA FAMILIAR. A MEDIDA QUE AUMENTA LA CANTIDAD DE MIEMBROS EN EL HOGAR, TIENDE A DISMINUIR EL IPCF, ESPECIALMENTE EN HOGARES CON MÁS DE 4 PERSONAS._\n",
    ">\n",
    ">_LOS HOGARES UNIPERSONALES Y DE DOS PERSONAS TIENEN LOS VALORES MÁS ALTOS DE INGRESO PER CÁPITA, CON MEDIANAS QUE SUPERO LOS $600.000. EN CAMBIO, LOS HOGARES CON 6 O MÁS INTEGRANTES PRESENTAN UNA MEDIANA DE IPCF SUSTANCIALMENTE INFERIOR, POR DEBAJO DE LOS $300.000 EN MUCHOS CASOS._\n",
    ">\n",
    ">_ESTA TENDENCIA REVELA UNA POSIBLE SITUACIÓN DE VULNERABILIDAD ECONÓMICA EN HOGARES NUMEROSOS, DONDE LOS INGRESOS FAMILIARES DEBEN REPARTIRSE ENTRE MÁS PERSONAS, AFECTANDO EL BIENESTAR INDIVIDUAL._\n",
    ">\n",
    ">_EL GRÁFICO TAMBIÉN DESTACA ALGUNOS OUTLIERS, PRINCIPALMENTE EN HOGARES DE TAMAÑO MEDIO, QUE MUESTRAN INGRESOS PER CÁPITA ALTOS AUN CON MUCHOS INTEGRANTES, LO QUE PODRÍA REFLEJAR CASOS DE ALTA ACTIVIDAD ECONÓMICA O APOYO EXTERNO._\n",
    ">\n",
    ">_ESTA RELACIÓN RESULTA ÚTIL PARA IDENTIFICAR HOGARES EN RIESGO SOCIAL POR SOBRECARGA ECONÓMICA, Y ES ESENCIAL PARA SEGMENTAR POLÍTICAS SOCIALES EN FUNCIÓN DE LA COMPOSICIÓN FAMILIAR._\n",
    ">\n",
    ">\n",
    ">\n",
    ">\n",
    ">\n",
    ">\n",
    ">\n",
    ">\n",
    ">\n",
    ">."
   ]
  },
  {
   "cell_type": "markdown",
   "id": "9aa78db6",
   "metadata": {},
   "source": [
    "##### <span style=\"color: #3795E1\">*IPCF PROMEDIO vs. TENENCIA DE LA VIVIENDA (IPCF PROMEDIO vs. II7)*"
   ]
  },
  {
   "cell_type": "code",
   "execution_count": null,
   "id": "eee95868",
   "metadata": {},
   "outputs": [],
   "source": [
    "print(\"\")                                                                    \n",
    "ipcf_por_tenencia = df.groupby(\"II7\")[\"IPCF_OK\"].mean()                                        # CALCULAR IPCF PROMEDIO POR CADA CATEGORÍA DE TENENCIA DE LA VIVIENDA\n",
    "ipcf_por_tenencia.plot(kind=\"bar\")                                                          # GRAFICAR BARRAS CON LOS VALORES PROMEDIO\n",
    "plt.title(\"IPCF PROMEDIO SEGÚN TENENCIA DE LA VIVIENDA (II7)\")                              # TÍTULO DEL GRÁFICO\n",
    "plt.xlabel(\"TIPO DE TENENCIA (II7)\")                                                        # ETIQUETA DEL EJE X\n",
    "plt.ylabel(\"IPCF PROMEDIO\")                                                                 # ETIQUETA DEL EJE Y\n",
    "plt.xticks(rotation=0)                                                                      # MANTENER ETIQUETAS HORIZONTALES EN EJE X\n",
    "plt.grid(axis=\"y\")                                                                          # AGREGAR LÍNEAS DE GUÍA EN EJE Y\n",
    "plt.gca().yaxis.set_major_formatter(                                        \n",
    "    mticker.FuncFormatter(lambda x, _: f'{int(x):,}'.replace(\",\", \".\")))                    # FORMATEAR NÚMEROS CON PUNTOS COMO SEPARADOR DE MILES    \n",
    "plt.show()                                                                                  # MOSTRAR EL GRÁFICO\n",
    "\n",
    "# IMPRIMO VALORES\n",
    "print(\"IPCF PROMEDIO SEGÚN TIPO DE TENENCIA DE LA VIVIENDA (II7):\")                         # MOSTRAR ENCABEZADO DE RESULTADOS EN CONSOLA\n",
    "print(ipcf_por_tenencia)                                                                    # MOSTRAR VALORES CALCULADOS\n"
   ]
  },
  {
   "cell_type": "markdown",
   "id": "d99eb880",
   "metadata": {},
   "source": [
    ">1- PROPIETARIO TOTAL, 2=PROPIETARIO CASILLA, 3=INQUILINO, 9=OTRO"
   ]
  },
  {
   "cell_type": "markdown",
   "id": "44c8db3a",
   "metadata": {},
   "source": [
    ">.\n",
    ">\n",
    ">_LOS HOGARES PROPIETARIOS TOTALES (II7 = 1) ALCANZAN UN PROMEDIO DE INGRESO PER CÁPITA FAMILIAR AJUSTADO DE $505.506, LOS PROPIETARIOS DE CASILLA O VIVIENDA PRECARIA (II7 = 2) UN PROMEDIO DE $551.834, Y LOS INQUILINOS (II7 = 3) UN PROMEDIO MÁS ALTO DE $588.071. AQUELLOS CLASIFICADOS COMO “OTRO” (II7 = 9) PRESENTAN UN PROMEDIO DE $496.406._\n",
    ">\n",
    ">_ESTOS DATOS SUGIEREN QUE LOS INQUILINOS TIENDEN A TENER UN MAYOR PODER ADQUISITIVO EN COMPARACIÓN CON LOS PROPIETARIOS, LO QUE PUEDE RESPONDER A DIFERENCIAS DE COMPOSICIÓN SOCIOECONÓMICA, EDAD, O MOVILIDAD LABORAL. TAMBIÉN PODRÍA INDICAR QUE LOS HOGARES PROPIETARIOS, ESPECIALMENTE EN CASAS PRECARIAS, SE ENCUENTRAN EN SITUACIONES MÁS VULNERABLES A PESAR DE POSEER UNA VIVIENDA._\n",
    ">\n",
    ">."
   ]
  },
  {
   "cell_type": "markdown",
   "id": "631f47f5",
   "metadata": {},
   "source": [
    "##### <span style=\"color: #3795E1\">*IPCF PROMEDIO vs. COMBUSTIBLE PARA COCINAR (IPCF PROMEDIO vs. II8)*"
   ]
  },
  {
   "cell_type": "code",
   "execution_count": null,
   "id": "a9f71415",
   "metadata": {},
   "outputs": [],
   "source": [
    "print(\"\")  \n",
    "ipcf_por_combustible = df.groupby(\"II8\")[\"IPCF_OK\"].mean()                                                             # AGRUPAR POR TIPO DE COMBUSTIBLE (II8) Y CALCULAR IPCF PROMEDIO\n",
    "ipcf_por_combustible.plot(kind=\"bar\")                                                                               # GRAFICAR IPCF PROMEDIO SEGÚN COMBUSTIBLE\n",
    "plt.title(\"IPCF PROMEDIO SEGÚN COMBUSTIBLE PARA COCINAR (II8)\")                                                     # TÍTULO DEL GRÁFICO\n",
    "plt.xlabel(\"TIPO DE COMBUSTIBLE (II8)\")                                                                             # ETIQUETA EJE X\n",
    "plt.ylabel(\"IPCF PROMEDIO\")                                                                                         # ETIQUETA EJE Y\n",
    "plt.xticks(rotation=0)                                                                                              # MANTENER ETIQUETAS HORIZONTALES\n",
    "plt.grid(axis=\"y\")                                                                                                  # AGREGAR REJILLA EN EJE Y\n",
    "plt.gca().yaxis.set_major_formatter(mticker.FuncFormatter(lambda x, _: f'{int(x):,}'.replace(\",\", \".\")))            # SIN NOTACIÓN CIENTÍFICA\n",
    "plt.show()                                                                                                          # MOSTRAR EL GRÁFICO\n",
    "\n",
    "# IMPRIMO VALORES\n",
    "print(\"IPCF PROMEDIO SEGÚN TIPO DE COMBUSTIBLE PARA COCINAR (II8):\")\n",
    "print(ipcf_por_combustible)\n"
   ]
  },
  {
   "cell_type": "markdown",
   "id": "55c985f7",
   "metadata": {},
   "source": [
    ">_1 = GAS DE RED, 2 = GAS ENVASADO, 3 = LEÑA O CARBÓN, 4 = ELECTRICIDAD, 5=OTRO_"
   ]
  },
  {
   "cell_type": "markdown",
   "id": "ccf63735",
   "metadata": {},
   "source": [
    ">.\n",
    ">\n",
    ">_LOS HOGARES QUE UTILIZAN GAS DE RED (II8 = 1) PRESENTAN EL MAYOR PROMEDIO DE INGRESO PER CÁPITA FAMILIAR AJUSTADO ($541.781), LO QUE INDICA UNA MEJOR SITUACIÓN ECONÓMICA. LOS QUE USAN GARRAFA (II8 = 2) PROMEDIAN $438.799, MIENTRAS QUE QUIENES UTILIZAN LEÑA O CARBÓN (II8 = 3) TIENEN EL PROMEDIO MÁS BAJO CON $286.571._\n",
    ">\n",
    ">_EL ACCESO A COMBUSTIBLES MÁS COSTOSOS O MENOS EFICIENTES ESTÁ ASOCIADO A INGRESOS MÁS BAJOS, LO QUE REFUERZA LA IDEA DE QUE EL TIPO DE COMBUSTIBLE ES UN INDICADOR DE EXCLUSIÓN ENERGÉTICA. ESTA RELACIÓN PUEDE USARSE COMO VARIABLE PREDICTORA DE VULNERABILIDAD._\n",
    ">\n",
    ">."
   ]
  },
  {
   "cell_type": "markdown",
   "id": "2d7a7d41",
   "metadata": {},
   "source": [
    "##### <span style=\"color: #3795E1\">*IPCF PROMEDIO vs. RECIBE JUBILACIÓN O PENSIÓN (IPCF PROMEDIO vs. V2)*"
   ]
  },
  {
   "cell_type": "code",
   "execution_count": null,
   "id": "f6aeb447",
   "metadata": {},
   "outputs": [],
   "source": [
    "print(\"\")                                                                         \n",
    "ipcf_por_jubilacion = df.groupby(\"V2\")[\"IPCF_OK\"].mean()                                                               # CALCULAR PROMEDIO DE IPCF SEGÚN SI RECIBE JUBILACIÓN O PENSIÓN (V2)\n",
    "ipcf_por_jubilacion.plot(kind=\"bar\")                                                                                # GRAFICAR BARRAS\n",
    "plt.title(\"IPCF PROMEDIO SEGÚN SI RECIBE JUBILACIÓN O PENSIÓN (V2)\")                                                # TÍTULO\n",
    "plt.xlabel(\"1 = SÍ, 2 = NO\")                                                                                        # ETIQUETAS DEL EJE X\n",
    "plt.ylabel(\"IPCF PROMEDIO\")                                                                                         # ETIQUETAS DEL EJE Y\n",
    "plt.xticks(rotation=0)                                                                                              # MANTENER ETIQUETAS HORIZONTALES\n",
    "plt.grid(axis=\"y\")                                                                                                  # AGREGAR REJILLA EN EJE Y                                            \n",
    "plt.gca().yaxis.set_major_formatter(mticker.FuncFormatter(lambda x, _: f'{int(x):,}'.replace(\",\", \".\")))            # SIN NOTACION CIENTIFICA\n",
    "plt.show()                                                                        \n",
    "\n",
    "# IMPRIMO VALORES\n",
    "print(\"IPCF PROMEDIO SEGÚN SI RECIBE JUBILACIÓN O PENSIÓN (V2):\")                 \n",
    "print(ipcf_por_jubilacion)                                                        \n"
   ]
  },
  {
   "cell_type": "markdown",
   "id": "b0f0bdd2",
   "metadata": {},
   "source": [
    ">.\n",
    ">\n",
    ">_LOS HOGARES QUE RECIBEN JUBILACIÓN O PENSIÓN (V2 = 1) PRESENTAN UN IPCF PROMEDIO DE $496.076, MIENTRAS QUE AQUELLOS QUE NO PERCIBEN ESTE TIPO DE INGRESO (V2 = 2) ALCANZAN UN PROMEDIO MÁS ALTO DE $551.122._\n",
    ">\n",
    ">_ESTO SUGIERE QUE, AUNQUE LA JUBILACIÓN O PENSIÓN PROPORCIONA UN INGRESO ESTABLE, NO ES SUFICIENTE PARA IGUALAR LOS INGRESOS DE OTROS HOGARES, POSIBLEMENTE DEBIDO A SU MONTO RELATIVAMENTE BAJO. INDICA UN POSIBLE FACTOR DE VULNERABILIDAD ECONÓMICA EN HOGARES SOSTENIDOS POR ADULTOS MAYORES._\n",
    ">\n",
    ">."
   ]
  },
  {
   "cell_type": "markdown",
   "id": "3098650c",
   "metadata": {},
   "source": [
    "##### <span style=\"color: #3795E1\">*IPCF PROMEDIO vs. RECIBE PLAN O ASIGNACIÓN FAMILIAR (IPCF PROMEDIO vs. V5)*"
   ]
  },
  {
   "cell_type": "code",
   "execution_count": null,
   "id": "6d184fbe",
   "metadata": {},
   "outputs": [],
   "source": [
    "print(\"\")                                                                          \n",
    "ipcf_por_plan = df.groupby(\"V5\")[\"IPCF_OK\"].mean()                                                                     # CALCULAR PROMEDIO DE IPCF SEGÚN SI RECIBE PLAN / ASIGNACIÓN FAMILIAR (V5)\n",
    "ipcf_por_plan.plot(kind=\"bar\")                                                                                      # GRAFICAR BARRAS\n",
    "plt.title(\"IPCF PROMEDIO SEGÚN SI RECIBE PLAN O ASIGNACIÓN FAMILIAR (V5)\")                                          # TÍTULO DEL GRÁFICO\n",
    "plt.xlabel(\"1 = SÍ, 2 = NO\")                                                                                        # ETIQUETAS DEL EJE X\n",
    "plt.ylabel(\"IPCF PROMEDIO\")                                                                                         # ETIQUETAS DEL EJE Y\n",
    "plt.xticks(rotation=0)                                                                                              # MANTENER ETIQUETAS HORIZONTALES\n",
    "plt.grid(axis=\"y\")                                                                                                  # AGREGAR REJILLA EN EJE Y\n",
    "plt.gca().yaxis.set_major_formatter(mticker.FuncFormatter(lambda x, _: f'{int(x):,}'.replace(\",\", \".\")))            # SIN NOTACIÓN CIENTÍFICA Y CON FORMATO DE MILES\n",
    "plt.show()                                                                      \n",
    "\n",
    "# IMPRIMO VALORES\n",
    "print(\"IPCF PROMEDIO SEGÚN SI RECIBE PLAN O ASIGNACIÓN FAMILIAR (V5):\")                  \n",
    "print(ipcf_por_plan)  \n"
   ]
  },
  {
   "cell_type": "markdown",
   "id": "a232f9b6",
   "metadata": {},
   "source": [
    ">.\n",
    ">\n",
    ">_LOS HOGARES QUE RECIBEN PLANES O ASIGNACIONES FAMILIARES (V5 = 1) REGISTRAN UN IPCF PROMEDIO DE $179.827, MIENTRAS QUE AQUELLOS QUE NO LOS RECIBEN (V5 = 2) ALCANZAN UN PROMEDIO SIGNIFICATIVAMENTE SUPERIOR DE $552.616._\n",
    ">\n",
    ">_ESTE MARCADO CONTRASTE SUGIERE QUE LA RECEPCIÓN DE PLANES ESTÁ ALTAMENTE ASOCIADA A NIVELES DE INGRESO BAJO, FUNCIONANDO COMO UN INDICADOR DIRECTO DE SITUACIONES DE VULNERABILIDAD SOCIOECONÓMICA._\n",
    ">\n",
    ">."
   ]
  },
  {
   "cell_type": "markdown",
   "id": "79254bbe",
   "metadata": {},
   "source": [
    "##### <span style=\"color: #3795E1\">*IPCF PROMEDIO vs. RECIBE AYUDA EN MERCADERÍA DE GOBIERNO O IGLESIA (IPCF vs. V6)*"
   ]
  },
  {
   "cell_type": "code",
   "execution_count": null,
   "id": "35189b7d",
   "metadata": {},
   "outputs": [],
   "source": [
    "print(\"\")                                                                             \n",
    "ipcf_V6 = df.groupby(\"V6\")[\"IPCF_OK\"].mean()                                                                # CALCULAR IPCF PROMEDIO SEGÚN SI RECIBE AYUDA EN MERCADERÍA (V6)\n",
    "ipcf_V6.plot(kind=\"bar\")                                                                                    # GRAFICAR BARRAS\n",
    "plt.title(\"IPCF PROMEDIO SEGÚN SI RECIBE AYUDA EN MERCADERÍA (V6)\")                                         # TÍTULO\n",
    "plt.xlabel(\"1 = SÍ, 2 = NO\")                                                                                # ETIQUETAS DEL EJE X\n",
    "plt.ylabel(\"IPCF PROMEDIO\")                                                                                 # ETIQUETAS DEL EJE Y\n",
    "plt.xticks(rotation=0)                                                                                      # MANTENER ETIQUETAS HORIZONTALES\n",
    "plt.grid(axis=\"y\")                                                                                          # AGREGAR REJILLA EN EJE Y\n",
    "plt.gca().yaxis.set_major_formatter(mticker.FuncFormatter(lambda x, _: f'{int(x):,}'.replace(\",\", \".\")))    # FORMATO DE MILES\n",
    "plt.show()                                                                                                  # MOSTRAR GRÁFICO\n",
    "\n",
    "# IMPRIMO VALORES\n",
    "print(\"IPCF PROMEDIO SEGÚN SI RECIBE AYUDA EN MERCADERÍA (V6):\")\n",
    "print(ipcf_V6)"
   ]
  },
  {
   "cell_type": "markdown",
   "id": "afd2be48",
   "metadata": {},
   "source": [
    ">.\n",
    ">\n",
    ">_LOS HOGARES QUE DECLARARON HABER RECIBIDO AYUDA EN MERCADERÍA (V6 = 1) TIENEN UN IPCF PROMEDIO DE $149.594, MUY INFERIOR AL PROMEDIO DE $551.407 REGISTRADO POR LOS HOGARES QUE NO RECIBEN ESTE TIPO DE ASISTENCIA (V6 = 2)._\n",
    ">\n",
    ">_ESTA DIFERENCIA EVIDENCIA QUE LA RECEPCIÓN DE AYUDA EN MERCADERÍA ESTÁ ALTAMENTE VINCULADA A SITUACIONES DE INGRESOS BAJOS Y NECESIDADES BÁSICAS INSATISFECHAS, FUNCIONANDO COMO UN FUERTE INDICADOR DE EXCLUSIÓN ECONÓMICA._\n",
    ">\n",
    ">."
   ]
  },
  {
   "cell_type": "markdown",
   "id": "d33ab9b5",
   "metadata": {},
   "source": [
    "##### <span style=\"color: #3795E1\">*IPCF PROMEDIO vs. RECIBE MERCADERÍA DE PERSONAS QUE NO VIVEN EN EL HOGAR(IPCF vs. V7)*"
   ]
  },
  {
   "cell_type": "code",
   "execution_count": null,
   "id": "713a51ef",
   "metadata": {},
   "outputs": [],
   "source": [
    "print(\"\")                                                                             \n",
    "ipcf_V7 = df.groupby(\"V7\")[\"IPCF_OK\"].mean()                                                                   # CALCULAR IPCF PROMEDIO SEGÚN SI RECIBE MERCADERÍA DE OTROS HOGARES (V7)\n",
    "ipcf_V7.plot(kind=\"bar\")                                                                                    # GRAFICAR BARRAS\n",
    "plt.title(\"IPCF PROMEDIO SEGÚN SI RECIBE AYUDA DE PERSONAS EXTERNAS (V7)\")                                  # TÍTULO\n",
    "plt.xlabel(\"1 = SÍ, 2 = NO\")                                                                                # ETIQUETAS DEL EJE X\n",
    "plt.ylabel(\"IPCF PROMEDIO\")                                                                                 # ETIQUETAS DEL EJE Y\n",
    "plt.xticks(rotation=0)                                                                                      # MANTENER ETIQUETAS HORIZONTALES\n",
    "plt.grid(axis=\"y\")                                                                                          # AGREGAR REJILLA EN EJE Y\n",
    "plt.gca().yaxis.set_major_formatter(mticker.FuncFormatter(lambda x, _: f'{int(x):,}'.replace(\",\", \".\")))    # FORMATO DE MILES\n",
    "plt.show()                                                                                                  # MOSTRAR GRÁFICO\n",
    "\n",
    "# IMPRIMO VALORES\n",
    "print(\"IPCF PROMEDIO SEGÚN SI RECIBE AYUDA DE PERSONAS EXTERNAS (V7):\")\n",
    "print(ipcf_V7)"
   ]
  },
  {
   "cell_type": "markdown",
   "id": "e5d635d9",
   "metadata": {},
   "source": [
    ">.\n",
    ">\n",
    ">_LOS HOGARES QUE RECIBEN AYUDA EN MERCADERÍA DE PERSONAS EXTERNAS (V7 = 1) ALCANZAN UN IPCF PROMEDIO DE $233.756, MIENTRAS QUE AQUELLOS QUE NO RECIBEN ESTA ASISTENCIA (V7 = 2) PRESENTAN UN PROMEDIO DE $545.242._\n",
    ">\n",
    ">_ESTA DIFERENCIA REFLEJA UNA VINCULACIÓN CLARA ENTRE LA RECEPCIÓN DE AYUDA EXTERNA Y LA SITUACIÓN DE VULNERABILIDAD ECONÓMICA, INDICANDO QUE QUIENES DEPENDEN DE REDES DE APOYO NO INSTITUCIONALES TIENEN INGRESOS SIGNIFICATIVAMENTE MENORES._\n",
    ">\n",
    ">."
   ]
  },
  {
   "cell_type": "markdown",
   "id": "d01e0d48",
   "metadata": {},
   "source": [
    "##### <span style=\"color: #3795E1\">*IPCF PROMEDIO vs. COBRA ALQUILER DE UNA PROPIEDAD (IPCF vs. V8)*"
   ]
  },
  {
   "cell_type": "code",
   "execution_count": null,
   "id": "de1af4bb",
   "metadata": {},
   "outputs": [],
   "source": [
    "print(\"\")                                                                                     \n",
    "ipcf_por_V8 = df.groupby(\"V8\")[\"IPCF_OK\"].mean()                                                            # CALCULAR PROMEDIO DE IPCF_OK SEGÚN SI COBRA ALQUILER DE UNA PROPIEDAD (V8)\n",
    "ipcf_por_V8.plot(kind=\"bar\")                                                                                # GRAFICAR BARRA\n",
    "plt.title(\"IPCF PROMEDIO SEGÚN SI COBRA ALQUILER DE UNA PROPIEDAD (V8)\")                                    # TÍTULO DEL GRÁFICO\n",
    "plt.xlabel(\"1 = SÍ, 2 = NO\")                                                                                # ETIQUETA DEL EJE X\n",
    "plt.ylabel(\"IPCF PROMEDIO\")                                                                                 # ETIQUETA DEL EJE Y\n",
    "plt.xticks(rotation=0)                                                                                      # MANTENER ETIQUETAS HORIZONTALES\n",
    "plt.grid(axis=\"y\")                                                                                          # AGREGAR REJILLA EN EJE Y\n",
    "plt.gca().yaxis.set_major_formatter(mticker.FuncFormatter(lambda x, _: f'{int(x):,}'.replace(\",\", \".\")))    # SIN NOTACIÓN CIENTIFICA\n",
    "plt.show()                                                                                                  # MOSTRAR GRÁFICO\n",
    "\n",
    "# MOSTRAR VALORES\n",
    "print(\"IPCF_OK PROMEDIO SEGÚN SI COBRA ALQUILER DE UNA PROPIEDAD (V8):\")                      \n",
    "print(ipcf_por_V8)"
   ]
  },
  {
   "cell_type": "markdown",
   "id": "8b55187d",
   "metadata": {},
   "source": [
    ">.\n",
    ">\n",
    ">_LOS HOGARES QUE DECLARAN PERCIBIR INGRESOS POR ALQUILER DE UNA PROPIEDAD (V8 = 1) ALCANZAN UN IPCF PROMEDIO DE $868.209, MIENTRAS QUE AQUELLOS QUE NO LOS RECIBEN (V8 = 2) REGISTRAN UN PROMEDIO DE $519.801._\n",
    ">\n",
    ">_ESTA DIFERENCIA INDICA QUE LA PERCEPCIÓN DE INGRESOS PASIVOS POR ALQUILER ESTÁ FUERTEMENTE ASOCIADA A UN MAYOR INGRESO PER CÁPITA, LO QUE PODRÍA SER UN INDICADOR DE MAYOR PATRIMONIO O CAPITAL ACUMULADO EN LOS HOGARES BENEFICIARIOS._\n",
    ">\n",
    ">."
   ]
  },
  {
   "cell_type": "markdown",
   "id": "209efdfc",
   "metadata": {},
   "source": [
    "##### <span style=\"color: #3795E1\">*IPCF PROMEDIO vs. PIDIO PRÉSTAMOS A FAMILIARES O AMIGOS (IPCF vs. V14)*"
   ]
  },
  {
   "cell_type": "code",
   "execution_count": null,
   "id": "7d81b4a5",
   "metadata": {},
   "outputs": [],
   "source": [
    "print(\"\")                                                                        \n",
    "ipcf_por_V14 = df.groupby(\"V14\")[\"IPCF_OK\"].mean()                                # CALCULAR PROMEDIO DE IPCF_OK SEGÚN SI PIDIERON PRÉSTAMOS A FAMILIARES O AMIGOS (V14)\n",
    "ipcf_por_V14.plot(kind=\"bar\", color=\"skyblue\")                                    # GRAFICAR BARRAS PARA V14\n",
    "plt.title(\"IPCF_OK PROMEDIO SEGÚN PRÉSTAMOS A FAMILIARES O AMIGOS (V14)\")         # TÍTULO DEL GRÁFICO\n",
    "plt.xlabel(\"1 = SÍ, 2 = NO\")                                                      # ETIQUETA DEL EJE X\n",
    "plt.ylabel(\"IPCF_OK PROMEDIO\")                                                    # ETIQUETA DEL EJE Y\n",
    "plt.xticks(rotation=0)                                                            # ETIQUETAS HORIZONTALES\n",
    "plt.grid(axis=\"y\")                                                                # LÍNEAS DE REJILLA EN EJE Y\n",
    "plt.gca().yaxis.set_major_formatter(mticker.FuncFormatter(                        # SIN NOTACION CIENTIFICA\n",
    "    lambda x, _: f'{int(x):,}'.replace(\",\", \".\")\n",
    "))\n",
    "plt.show()\n",
    "\n",
    "# IMPRIMIR VALORES V14\n",
    "print(\"IPCF_OK PROMEDIO SEGÚN PRÉSTAMOS A FAMILIARES O AMIGOS (V14):\")\n",
    "print(ipcf_por_V14)"
   ]
  },
  {
   "cell_type": "markdown",
   "id": "278d3ae3",
   "metadata": {},
   "source": [
    ">.\n",
    ">\n",
    ">_LOS HOGARES QUE DECLARARON HABER PEDIDO PRÉSTAMOS A FAMILIARES O AMIGOS (V14 = 1) PRESENTAN UN IPCF_OK PROMEDIO DE $444.284, MIENTRAS QUE AQUELLOS QUE NO RECIBIERON ESTE TIPO DE AYUDA (V14 = 2) REGISTRAN UN PROMEDIO SUPERIOR DE $544.485._\n",
    ">\n",
    ">_ESTA DIFERENCIA SUGIERE QUE LOS HOGARES QUE ACUDEN A REDES DE APOYO INFORMAL PARA ENDEUDARSE LO HACEN COMO UNA ESTRATEGIA ANTE LA FALTA DE INGRESOS SUFICIENTES. EL ENDEUDAMIENTO FAMILIAR APARECE ASOCIADO A UNA MAYOR VULNERABILIDAD ECONÓMICA._\n",
    ">\n",
    ">."
   ]
  },
  {
   "cell_type": "markdown",
   "id": "02488c4d",
   "metadata": {},
   "source": [
    "##### <span style=\"color: #3795E1\">*IPCF PROMEDIO vs. PIDIO PRÉSTAMOS A BANCOS O FINANCIERAS (IPCF vs. V15)*"
   ]
  },
  {
   "cell_type": "code",
   "execution_count": null,
   "id": "3d4a9f4c",
   "metadata": {},
   "outputs": [],
   "source": [
    "print(\"\")                                                                        \n",
    "ipcf_por_V15 = df.groupby(\"V15\")[\"IPCF_OK\"].mean()                                  # CALCULAR PROMEDIO DE IPCF_OK SEGÚN SI PIDIERON PRÉSTAMOS A BANCOS O FINANCIERAS (V15)\n",
    "ipcf_por_V15.plot(kind=\"bar\", color=\"skyblue\")                                      # GRAFICAR BARRAS PARA V15\n",
    "plt.title(\"IPCF PROMEDIO SEGÚN PRÉSTAMOS A BANCOS O FINANCIERAS (V15)\")             # TÍTULO DEL GRÁFICO\n",
    "plt.xlabel(\"1 = SÍ, 2 = NO\")                                                        # ETIQUETA DEL EJE X\n",
    "plt.ylabel(\"IPCF_OK PROMEDIO\")                                                      # ETIQUETA DEL EJE Y\n",
    "plt.xticks(rotation=0)                                                              # ETIQUETAS HORIZONTALES\n",
    "plt.grid(axis=\"y\")                                                                  # LÍNEAS DE REJILLA EN EJE Y\n",
    "plt.gca().yaxis.set_major_formatter(mticker.FuncFormatter(                          # FORMATO DE MILES\n",
    "    lambda x, _: f'{int(x):,}'.replace(\",\", \".\")\n",
    "))\n",
    "plt.show()\n",
    "\n",
    "# IMPRIMO VALORES\n",
    "print(\"IPCF PROMEDIO SEGÚN PRÉSTAMOS A BANCOS O FINANCIERAS (V15):\")\n",
    "print(ipcf_por_V15)\n"
   ]
  },
  {
   "cell_type": "markdown",
   "id": "81d4ed53",
   "metadata": {},
   "source": [
    ">.\n",
    ">\n",
    ">_LOS HOGARES QUE DECLARARON HABER PEDIDO PRÉSTAMOS A BANCOS O FINANCIERAS (V15 = 1) PRESENTAN UN IPCF_OK PROMEDIO DE $642.688, MIENTRAS QUE AQUELLOS QUE NO LO HICIERON (V15 = 2) ALCANZAN UN PROMEDIO MENOR DE $527.783._\n",
    ">\n",
    ">_ESTA DIFERENCIA INDICA QUE QUIENES ACCEDEN A FINANCIAMIENTO FORMAL TIENEN, EN PROMEDIO, MAYORES INGRESOS PER CÁPITA. EL ACCESO AL CRÉDITO BANCARIO PUEDE REFLEJAR UN MEJOR PERFIL SOCIOECONÓMICO O UNA MAYOR ESTABILIDAD FINANCIERA._\n",
    ">\n",
    ">."
   ]
  },
  {
   "cell_type": "markdown",
   "id": "066003b4",
   "metadata": {},
   "source": [
    "##### <span style=\"color: #3795E1\">*USO DE AHORROS vs. PRÉSTAMOS A FAMILIARES O AMIGOS (V13 vs. V14)*"
   ]
  },
  {
   "cell_type": "code",
   "execution_count": null,
   "id": "b83cc282",
   "metadata": {},
   "outputs": [],
   "source": [
    "print(\"\")                                                                              \n",
    "cruce_V13_V14 = pd.crosstab(df['V13'], df['V14'])                                   # GENERAR TABLA CRUZADA ENTRE V13 Y V14\n",
    "plt.figure(figsize=(6, 4))                                                          # DEFINIR TAMAÑO DE LA FIGURA\n",
    "sns.heatmap(cruce_V13_V14, annot=True, cmap=\"YlGnBu\", fmt=\"d\")                      # CREAR MAPA DE CALOR CON VALORES ANOTADOS\n",
    "plt.title(\"USO DE AHORROS (V13) VS PRÉSTAMOS A FAMILIARES (V14)\")                   # TÍTULO DEL GRÁFICO\n",
    "plt.xlabel(\"V14: PRÉSTAMOS A FAMILIARES O AMIGOS\")                                  # ETIQUETA EJE X\n",
    "plt.ylabel(\"V13: USO DE AHORROS\")                                                   # ETIQUETA EJE Y\n",
    "plt.show()                                                                          # MOSTRAR GRÁFICO\n",
    "\n",
    "# IMPRIMO VALORES\n",
    "print(\"\\nTABLA CRUZADA: V13 (USO DE AHORROS) VS. V14 (PRÉSTAMOS A FAMILIARES):\")\n",
    "display(cruce_V13_V14)                                                              # MOSTRAR TABLA EN FORMATO TIPO DATAFRAME\n"
   ]
  },
  {
   "cell_type": "markdown",
   "id": "3ffa03ff",
   "metadata": {},
   "source": [
    ">.\n",
    ">\n",
    ">_ENTRE LOS HOGARES QUE GASTARON SUS AHORROS (V13 = 1), 468 TAMBIÉN ACUDIERON A PRÉSTAMOS DE FAMILIARES O AMIGOS (V14 = 1), MIENTRAS QUE 1606 NO LO HICIERON (V14 = 2)._\n",
    ">\n",
    ">_EN CONTRASTE, ENTRE LOS QUE NO USARON SUS AHORROS (V13 = 2), SOLO 123 RECIBIERON PRÉSTAMOS DE FAMILIARES Y 4747 NO._\n",
    ">\n",
    ">_ESTO SUGIERE QUE EL USO DE AHORROS ESTÁ VINCULADO A UNA MAYOR PROBABILIDAD DE RECURRIR A PRESTAMOS DE FAMILIARES O AMIGOS PARA CUBRIR NECESIDADES ECONÓMICAS_\n",
    ">\n",
    ">."
   ]
  },
  {
   "cell_type": "markdown",
   "id": "507e8a40",
   "metadata": {},
   "source": [
    "##### <span style=\"color: #3795E1\">*USO DE AHORROS VS PRÉSTAMOS A BANCOS O FINANCIERAS (V13 vs. V15)*"
   ]
  },
  {
   "cell_type": "code",
   "execution_count": null,
   "id": "15db382f",
   "metadata": {},
   "outputs": [],
   "source": [
    "print(\"\")                                                                              \n",
    "cruce_V13_V15 = pd.crosstab(df['V13'], df['V15'])                               # GENERAR TABLA CRUZADA ENTRE V13 Y V15\n",
    "plt.figure(figsize=(6, 4))                                                      # DEFINIR TAMAÑO DE LA FIGURA\n",
    "sns.heatmap(cruce_V13_V15, annot=True, cmap=\"Oranges\", fmt=\"d\")                 # CREAR MAPA DE CALOR CON VALORES ANOTADOS\n",
    "plt.title(\"USO DE AHORROS (V13) VS PRÉSTAMOS A BANCOS (V15)\")                   # TÍTULO DEL GRÁFICO\n",
    "plt.xlabel(\"V15: PRÉSTAMOS A BANCOS O FINANCIERAS\")                             # ETIQUETA EJE X\n",
    "plt.ylabel(\"V13: USO DE AHORROS\")                                               # ETIQUETA EJE Y\n",
    "plt.show()                                                                      # MOSTRAR GRÁFICO\n",
    "\n",
    "# IMPRIMO VALORES\n",
    "print(\"\\nTABLA CRUZADA: V13 (USO DE AHORROS) VS. V15 (PRÉSTAMOS A BANCOS):\")\n",
    "display(cruce_V13_V15)                                                          # MOSTRAR TABLA EN FORMATO TIPO DATAFRAME\n"
   ]
  },
  {
   "cell_type": "markdown",
   "id": "6664411e",
   "metadata": {},
   "source": [
    ">.\n",
    ">\n",
    ">_DE LOS HOGARES QUE GASTARON SUS AHORROS (V13 = 1), 337 TAMBIÉN CONTRAJERON PRÉSTAMOS FORMALES EN BANCOS O FINANCIERAS (V15 = 1), MIENTRAS QUE 1737 NO LO HICIERON._\n",
    ">\n",
    ">_ENTRE QUIENES NO GASTARON SUS AHORROS (V13 = 2), 157 TOMARON PRÉSTAMOS FORMALES Y 4713 NO._\n",
    ">\n",
    ">_ESTE CRUCE MUESTRA QUE, ANTE UNA SITUACIÓN ECONÓMICA ADVERSA, ALGUNOS HOGARES COMPLEMENTAN EL USO DE AHORROS CON ENDEUDAMIENTO FORMAL._\n",
    ">\n",
    ">."
   ]
  },
  {
   "cell_type": "markdown",
   "id": "9223810d",
   "metadata": {},
   "source": [
    "##### <span style=\"color: #3795E1\">*USO DE AHORROS VS VENTA DE PERTENENCIAS (V13 vs. V17)*"
   ]
  },
  {
   "cell_type": "code",
   "execution_count": null,
   "id": "f1847e18",
   "metadata": {},
   "outputs": [],
   "source": [
    "print(\"\")                                                                              \n",
    "cruce_v13_v17 = pd.crosstab(df['V13'], df['V17'])                                   # GENERAR TABLA CRUZADA ENTRE V13 Y V17\n",
    "plt.figure(figsize=(6, 4))                                                          # DEFINIR TAMAÑO DE LA FIGURA\n",
    "sns.heatmap(cruce_v13_v17, annot=True, cmap=\"Reds\", fmt=\"d\")                        # CREAR MAPA DE CALOR CON VALORES ANOTADOS\n",
    "plt.title(\"USO DE AHORROS (V13) VS VENTA DE PERTENENCIAS (V17)\")                    # TÍTULO DEL GRÁFICO\n",
    "plt.xlabel(\"V17: VENTA DE PERTENENCIAS\")                                            # ETIQUETA EJE X\n",
    "plt.ylabel(\"V13: USO DE AHORROS\")                                                   # ETIQUETA EJE Y\n",
    "plt.show()                                                                          # MOSTRAR GRÁFICO\n",
    "\n",
    "# IMPRIMO VALORES\n",
    "print(\"\\nTABLA CRUZADA: V13 (USO DE AHORROS) VS. V17 (VENTA DE PERTENENCIAS):\")\n",
    "display(cruce_v13_v17)                                                              # MOSTRAR TABLA EN FORMATO TIPO DATAFRAME\n",
    "\n"
   ]
  },
  {
   "cell_type": "markdown",
   "id": "2f6ba841",
   "metadata": {},
   "source": [
    ">.\n",
    ">\n",
    ">_323 HOGARES QUE USARON SUS AHORROS (V13 = 1) TAMBIÉN REPORTARON HABER TENIDO QUE VENDER ALGUNA DE SUS PERTENENCIAS (V17 = 1), LO QUE REPRESENTA UNA ESTRATEGIA EXTREMA DE LIQUIDEZ._\n",
    ">\n",
    ">_EN CAMBIO, 1751 HOGARES GASTARON AHORROS PERO NO TUVIERON QUE VENDER NADA._\n",
    ">\n",
    ">_DE QUIENES NO GASTARON SUS AHORROS, SOLO 114 VENDIERON ALGÚN BIEN, MIENTRAS QUE 4756 NO LO HICIERON._\n",
    ">\n",
    ">_ESTOS DATOS REFUERZAN LA IDEA DE QUE EL USO DE AHORROS ESTÁ ASOCIADO A MAYORES SITUACIONES DE VULNERABILIDAD ECONÓMICA, Y EN ALGUNOS CASOS, A DESPRENDERSE DE ACTIVOS._\n",
    ">\n",
    ">."
   ]
  },
  {
   "cell_type": "markdown",
   "id": "a4cd9594",
   "metadata": {},
   "source": [
    "## <span style=\"color: #FF8C00\">__*CONCLUCIÓN*__"
   ]
  },
  {
   "cell_type": "markdown",
   "id": "8b6e7095",
   "metadata": {},
   "source": [
    ">.\n",
    ">\n",
    ">_EL PRESENTE ANÁLISIS EXPLORATORIO SOBRE LAS CONDICIONES DE VIDA EN LOS HOGARES DE TIERRA DEL FUEGO, REALIZADO A PARTIR DE LOS MICRODATOS DE LA ENCUESTA PERMANENTE DE HOGARES (EPH), PERMITIÓ IDENTIFICAR MÚLTIPLES FACTORES ASOCIADOS A LA EXCLUSIÓN SOCIAL, INTEGRANDO DIMENSIONES HABITACIONALES, ECONÓMICAS Y ESTRUCTURALES. A TRAVÉS DEL AJUSTE DEL INGRESO PER CÁPITA FAMILIAR (IPCF) A VALORES CONSTANTES EN PESOS DE 2025 (IPCF_OK), SE LOGRÓ NORMALIZAR LOS DATOS ECONÓMICOS Y HACERLOS COMPARABLES A LO LARGO DEL TIEMPO, ELIMINANDO EL EFECTO DE LA INFLACIÓN._\n",
    ">\n",
    ">_EN EL EJE HABITACIONAL, SE EVIDENCIÓ QUE SI BIEN LA MAYORÍA DE LOS HOGARES ACCEDE A SERVICIOS ESENCIALES COMO GAS DE RED Y BAÑOS DE USO EXCLUSIVO, PERSISTEN SITUACIONES DE HACINAMIENTO Y DÉFICIT CUALITATIVO. ESTO SE REFLEJA EN LA RELACIÓN ENTRE LA CANTIDAD DE AMBIENTES DISPONIBLES PARA DORMIR (II2) Y LA CANTIDAD TOTAL DE MIEMBROS DEL HOGAR (IX_TOT), DONDE SE DETECTAN HOGARES CON ALTOS NIVELES DE SOBREOCUPACIÓN. ADEMÁS, LAS CONDICIONES DEL BAÑO, EL TIPO DE DESAGÜE, LA CERCANÍA A BASURALES O ZONAS INUNDABLES Y LA CALIDAD DE LOS MATERIALES DE CONSTRUCCIÓN FUERON ELEMENTOS CLAVE PARA EVALUAR EL ENTORNO HABITACIONAL COMO DIMENSIÓN DE VULNERABILIDAD._\n",
    ">\n",
    ">_DESDE EL EJE ECONÓMICO-LABORAL, SE OBSERVÓ UNA MARCADA DIFERENCIA EN LOS INGRESOS SEGÚN LA FUENTE DE SUSTENTO. LOS HOGARES QUE VIVEN EXCLUSIVAMENTE DEL TRABAJO (V1) PRESENTAN INGRESOS SUSTANCIALMENTE MÁS ALTOS QUE AQUELLOS QUE DEPENDEN DE JUBILACIONES, PENSIONES (V2), PLANES SOCIALES (V5), O AYUDAS EXTERNAS (V6, V7, V8). LA NECESIDAD DE RECURRIR A ESTRATEGIAS DE EMERGENCIA COMO EL USO DE AHORROS (V13), PRÉSTAMOS FAMILIARES O FINANCIEROS (V14, V15) O LA VENTA DE PERTENENCIAS (V17) SE CORRELACIONÓ CON MENORES NIVELES DE IPCF_OK, SUGIRIENDO MECANISMOS DE SUBSISTENCIA FRENTE A SITUACIONES DE CRISIS. A SU VEZ, SE DETECTÓ QUE LA DEPENDENCIA DE INGRESOS PASIVOS O NO LABORALES (COMO RENTAS O BECAS) SE PRESENTA EN UNA PROPORCIÓN MINORITARIA PERO SIGNIFICATIVA, MAYORMENTE ASOCIADA A CONTEXTOS DE EXCLUSIÓN ESTRUCTURAL O PRECARIEDAD._\n",
    ">\n",
    ">_EN EL PLANO ESTRUCTURAL Y DEMOGRÁFICO, LA COMPOSICIÓN DE LOS HOGARES FUE CLAVE PARA COMPRENDER LOS NIVELES DE PRESIÓN ECONÓMICA. A MAYOR CANTIDAD DE MIEMBROS, Y PARTICULARMENTE ANTE LA PRESENCIA DE NIÑOS MENORES DE 10 AÑOS (IX_MEN10), EL INGRESO PER CÁPITA TIENDE A DISMINUIR, LO QUE PLANTEA DESAFÍOS ADICIONALES EN TÉRMINOS DE CARGA ECONÓMICA Y NECESIDADES BÁSICAS INSATISFECHAS. SI BIEN NO SE REPORTARON CASOS ACTIVOS DE TRABAJO INFANTIL (V19_A Y V19_B), SU INCLUSIÓN EN EL CUESTIONARIO PERMITE MONITOREAR RIESGOS VINCULADOS A LA REPRODUCCIÓN DE LA POBREZA EN EDADES TEMPRANAS._\n",
    ">\n",
    ">_EN SÍNTESIS, EL ANÁLISIS CONFIRMA QUE LA EXCLUSIÓN SOCIAL EN TIERRA DEL FUEGO NO SE MANIFIESTA ÚNICAMENTE A TRAVÉS DE LA POBREZA MONETARIA, SINO TAMBIÉN MEDIANTE RESTRICCIONES EN EL ACCESO A SERVICIOS, CONDICIONES HABITACIONALES INADECUADAS Y ESTRATEGIAS DE SOBREVIVENCIA ECONÓMICA QUE REFLEJAN FRAGILIDAD ESTRUCTURAL. EL ABORDAJE INTEGRAL Y EL USO DE VARIABLES MULTIDIMENSIONALES PERMITEN NO SOLO DESCRIBIR ESTA REALIDAD, SINO TAMBIÉN SENTAR LAS BASES PARA FUTUROS MODELOS PREDICTIVOS QUE PUEDAN MEJORAR LA FOCALIZACIÓN DE POLÍTICAS PÚBLICAS Y PROGRAMAS DE ASISTENCIA SOCIAL EN EL TERRITORIO._\n",
    ">\n",
    ">.\n"
   ]
  }
 ],
 "metadata": {
  "kernelspec": {
   "display_name": "Python 3",
   "language": "python",
   "name": "python3"
  },
  "language_info": {
   "codemirror_mode": {
    "name": "ipython",
    "version": 3
   },
   "file_extension": ".py",
   "mimetype": "text/x-python",
   "name": "python",
   "nbconvert_exporter": "python",
   "pygments_lexer": "ipython3",
   "version": "3.11.5"
  }
 },
 "nbformat": 4,
 "nbformat_minor": 5
}
