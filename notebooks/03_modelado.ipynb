{
 "cells": [
  {
   "cell_type": "markdown",
   "id": "de779f60",
   "metadata": {},
   "source": [
    "<small>APRENDIZAJE AUTOMATICO - PARCIAL JUNIO 2025 - EDUARDO SALDIVIA</small>"
   ]
  },
  {
   "cell_type": "markdown",
   "id": "e8bf4996",
   "metadata": {},
   "source": [
    "# <span style=\"color: #3795E1\">**MODELADO** </span>"
   ]
  },
  {
   "cell_type": "markdown",
   "id": "6dea13ba",
   "metadata": {},
   "source": [
    "## <span style=\"color: #FF8C00\">__*LIBRERIAS*__"
   ]
  },
  {
   "cell_type": "markdown",
   "id": "1aef19e2",
   "metadata": {},
   "source": [
    "### **LIBRERIAS**"
   ]
  },
  {
   "cell_type": "code",
   "execution_count": null,
   "id": "ebeae102",
   "metadata": {},
   "outputs": [],
   "source": [
    "import pandas as pd                \n",
    "import matplotlib.pyplot as plt    \n",
    "import seaborn as sns\n",
    "import numpy as np\n",
    "import warnings\n",
    "from contextlib import contextmanager\n",
    "from sklearn.model_selection import train_test_split\n",
    "from sklearn.preprocessing import StandardScaler\n",
    "from sklearn.linear_model import LinearRegression\n",
    "from sklearn.metrics import mean_squared_error, r2_score, classification_report, confusion_matrix\n",
    "from sklearn.linear_model import LogisticRegression\n",
    "from sklearn.neighbors import KNeighborsClassifier\n",
    "from sklearn.svm import SVC\n",
    "from sklearn.tree import DecisionTreeClassifier\n",
    "from sklearn.ensemble import RandomForestClassifier\n",
    "from sklearn.metrics import ConfusionMatrixDisplay, classification_report\n"
   ]
  },
  {
   "cell_type": "markdown",
   "id": "ebe70eea",
   "metadata": {},
   "source": [
    "### **PREFERENCIAS**"
   ]
  },
  {
   "cell_type": "code",
   "execution_count": null,
   "id": "9aee7028",
   "metadata": {},
   "outputs": [],
   "source": [
    "# HABILITA LA VISUALIZACIÓN DE GRÁFICOS DENTRO DE LA NOTEBOOK\n",
    "%matplotlib inline\n",
    "\n",
    "# ESTILO PARA LOS GRAFICOS\n",
    "plt.rcParams.update({\n",
    "    'legend.frameon': False,\n",
    "    'legend.numpoints': 1,\n",
    "    'legend.scatterpoints': 1,\n",
    "    'xtick.direction': 'out',\n",
    "    'ytick.direction': 'out',\n",
    "    'axes.axisbelow': True,\n",
    "    'font.family': 'sans-serif',\n",
    "    'font.size': 14,  \n",
    "    'grid.linestyle': '--',\n",
    "    'lines.solid_capstyle': 'round',\n",
    "    'axes.grid': True,\n",
    "    'axes.edgecolor': 'white',\n",
    "    'grid.linewidth': 1.0,\n",
    "    'grid.color': \"#8290ab\", \n",
    "    'xtick.major.size': 0,\n",
    "    'ytick.major.size': 0,\n",
    "    'xtick.minor.size': 0,\n",
    "    'ytick.minor.size': 0,\n",
    "    'text.color': '0.9',\n",
    "    'axes.labelcolor': '0.9',\n",
    "    'xtick.color': '0.9',\n",
    "    'ytick.color': '0.9',\n",
    "    'grid.color': '#2A3459',\n",
    "    'font.sans-serif': ['Overpass', 'Helvetica', 'Helvetica Neue', 'Arial',\n",
    "                        'Liberation Sans', 'DejaVu Sans', 'Bitstream Vera Sans', 'sans-serif'],\n",
    "    'axes.prop_cycle': plt.cycler('color', ['#18c0c4', '#f62196', '#A267F5', '#f3907e', '#ffe46b', '#fefeff']),\n",
    "    'image.cmap': 'RdPu',\n",
    "    'figure.facecolor': '#212946',\n",
    "    'axes.facecolor': '#212946',\n",
    "    'savefig.facecolor': '#212946',\n",
    "    'boxplot.boxprops.color': \"white\",       # COLOR DEL BORDE DE LA CAJA\n",
    "    'boxplot.boxprops.color': \"#a7b5b6\",       # COLOR DEL BORDE DE LA CAJA\n",
    "    'boxplot.capprops.color': '#a7b5b6',       # COLOR DE LOS TOPES (CAPS)\n",
    "    'boxplot.whiskerprops.color': '#a7b5b6',   # COLOR DE LOS BIGOTES\n",
    "    'boxplot.medianprops.color': '#a7b5b6',    # COLOR DE LA MEDIANA\n",
    "    'boxplot.medianprops.linewidth': 2,        # GROSOR DE LA LÍNEA DE MEDIANA\n",
    "    'boxplot.flierprops.color': '#a7b5b6',     # COLOR DE OUTLIERS (PUNTOS FUERA DE RANGO)\n",
    "    'boxplot.flierprops.markerfacecolor': '#a7b5b6',  # COLOR DEL MARCADOR DE OUTLIERS\n",
    "\n",
    "})\n",
    "\n",
    "warnings.simplefilter(action='ignore', category=pd.errors.SettingWithCopyWarning)"
   ]
  },
  {
   "cell_type": "markdown",
   "id": "5b0a20d3",
   "metadata": {},
   "source": [
    "### **FUNCIÓNES**"
   ]
  },
  {
   "cell_type": "code",
   "execution_count": null,
   "id": "b0ae3537",
   "metadata": {},
   "outputs": [],
   "source": [
    "# FUNCIÓN DECORADORA\n",
    "@contextmanager\n",
    "\n",
    "# FUNCIÓN PARA MOSTRAR EL CONTENIDO DE SALIDA SIN CORTE\n",
    "def vista_completa_temporal():\n",
    "\n",
    "\n",
    "    # GUARDA LAS CONFIGURACIONES ACTUALES DE PANDAS PARA RESTAURARLAS LUEGO\n",
    "    config_original = {\n",
    "        \"display.max_columns\": pd.get_option(\"display.max_columns\"),\n",
    "        \"display.max_rows\": pd.get_option(\"display.max_rows\"),\n",
    "        \"display.max_colwidth\": pd.get_option(\"display.max_colwidth\"),\n",
    "        \"display.expand_frame_repr\": pd.get_option(\"display.expand_frame_repr\")}\n",
    "    \n",
    "\n",
    "    # APLICA LAS OPCIONES PARA MOSTRAR EL CONTENIDO SIN CORTES\n",
    "    pd.set_option(\"display.max_columns\", None)          # MUESTRA TODAS LAS COLUMNAS\n",
    "    pd.set_option(\"display.max_rows\", None)             # MUESTRA TODAS LAS FILAS\n",
    "    pd.set_option(\"display.max_colwidth\", None)         # MUESTRA TODo EL CONTENIDO DE CADA CELDA\n",
    "    pd.set_option(\"display.expand_frame_repr\", False)   # EVITA QUE SE CORTE LA TABLA EN VARIAS LÍNEAS\n",
    "    \n",
    "\n",
    "    try:\n",
    "\n",
    "        yield  # EJECUTA EL BLOQUE DE CÓDIGO DENTRO DEL \"WITH\"\n",
    "\n",
    "\n",
    "    finally:\n",
    "\n",
    "        # RESTAURA LAS CONFIGURACIONES ORIGINALES DE PANDAS\n",
    "        for key, value in config_original.items():\n",
    "            pd.set_option(key, value)"
   ]
  },
  {
   "cell_type": "markdown",
   "id": "cb27c00d",
   "metadata": {},
   "source": [
    "## <span style=\"color: #FF8C00\">__*DATAFRAME*__"
   ]
  },
  {
   "cell_type": "markdown",
   "id": "a9d815c6",
   "metadata": {},
   "source": [
    "### **CARGA DE DATASET**"
   ]
  },
  {
   "cell_type": "code",
   "execution_count": null,
   "id": "e57e746a",
   "metadata": {},
   "outputs": [],
   "source": [
    "archivo = \"../data/processed/dataset_eph_tdf_modelado.xlsx\"\n",
    "df_filtrado = pd.read_excel(archivo)\n",
    "print(\"Dimensiones del dataset:\", df_filtrado.shape)\n",
    "df_filtrado.head()"
   ]
  },
  {
   "cell_type": "markdown",
   "id": "b1a1b1ba",
   "metadata": {},
   "source": [
    "## <span style=\"color: #FF8C00\">__*PREPARACIÓN DE DATOS*__"
   ]
  },
  {
   "cell_type": "markdown",
   "id": "4dd7d196",
   "metadata": {},
   "source": [
    ">.\n",
    ">\n",
    ">_CON EL DATASET YA PROCESADO, SE DIVIDIÓ EN CONJUNTOS DE ENTRENAMIENTO Y PRUEBA. ESTE PASO FUE FUNDAMENTAL PARA ASEGURAR UNA EVALUACIÓN IMPARCIAL DEL DESEMPEÑO DE LOS MODELOS. SE PREPARARON DOS VERSIONES DEL TARGET: UNA BINARIA (EXCLUSION_SOCIAL) Y OTRA CONTINUA (SCORE_EXCLUSION), PERMITIENDO ABORDAR EL PROBLEMA DESDE ENFOQUES CLASIFICATORIOS Y REGRESIVOS._\n",
    ">\n",
    ">."
   ]
  },
  {
   "cell_type": "markdown",
   "id": "514e14c5",
   "metadata": {},
   "source": [
    "### **TARGET BINARIO**"
   ]
  },
  {
   "cell_type": "markdown",
   "id": "3e885ee4",
   "metadata": {},
   "source": [
    "#### <span style=\"color: #3795E1\">**PRESENTACIÓN DEL TARGET**"
   ]
  },
  {
   "cell_type": "code",
   "execution_count": null,
   "id": "08377c33",
   "metadata": {},
   "outputs": [],
   "source": [
    "X = df_filtrado.drop(columns=['exclusion_social', 'score_exclusion'])  \n",
    "y = df_filtrado['exclusion_social']"
   ]
  },
  {
   "cell_type": "markdown",
   "id": "7272692b",
   "metadata": {},
   "source": [
    "#### <span style=\"color: #3795E1\">**DIVISIÓN DE DATOS PARA EL TARGET**"
   ]
  },
  {
   "cell_type": "code",
   "execution_count": null,
   "id": "53444210",
   "metadata": {},
   "outputs": [],
   "source": [
    "X_train, X_test, y_train, y_test = train_test_split(X, y, stratify=y, test_size=0.2, random_state=42)"
   ]
  },
  {
   "cell_type": "markdown",
   "id": "26a78322",
   "metadata": {},
   "source": [
    "#### <span style=\"color: #3795E1\">**ESCALADO DE DATOS**"
   ]
  },
  {
   "cell_type": "code",
   "execution_count": null,
   "id": "8d306d3e",
   "metadata": {},
   "outputs": [],
   "source": [
    "scaler = StandardScaler()  \n",
    "X_train_scaled = scaler.fit_transform(X_train)  \n",
    "X_test_scaled = scaler.transform(X_test)"
   ]
  },
  {
   "cell_type": "markdown",
   "id": "9568d126",
   "metadata": {},
   "source": [
    "### **TARGET CONTINUO**"
   ]
  },
  {
   "cell_type": "markdown",
   "id": "b5d6f049",
   "metadata": {},
   "source": [
    "#### <span style=\"color: #3795E1\">**PRESENTACIÓN DEL TARGET**"
   ]
  },
  {
   "cell_type": "code",
   "execution_count": null,
   "id": "e8ab1a38",
   "metadata": {},
   "outputs": [],
   "source": [
    "y_reg = df_filtrado['score_exclusion']"
   ]
  },
  {
   "cell_type": "markdown",
   "id": "a664ef8c",
   "metadata": {},
   "source": [
    "#### <span style=\"color: #3795E1\">**DIVISIÓN DE DATOS PARA EL TARGET**"
   ]
  },
  {
   "cell_type": "code",
   "execution_count": null,
   "id": "a9dfbe0e",
   "metadata": {},
   "outputs": [],
   "source": [
    "X_train_reg, X_test_reg, y_train_reg, y_test_reg = train_test_split(X, y_reg, test_size=0.2, random_state=42)"
   ]
  },
  {
   "cell_type": "markdown",
   "id": "89fc6a32",
   "metadata": {},
   "source": [
    "#### <span style=\"color: #3795E1\">**ESCALADO DE DATOS**"
   ]
  },
  {
   "cell_type": "code",
   "execution_count": null,
   "id": "62c591f8",
   "metadata": {},
   "outputs": [],
   "source": [
    "scaler = StandardScaler()\n",
    "X_train_reg_scaled = scaler.fit_transform(X_train_reg)  \n",
    "X_test_reg_scaled = scaler.transform(X_test_reg)  "
   ]
  },
  {
   "cell_type": "markdown",
   "id": "a061da69",
   "metadata": {},
   "source": [
    "## <span style=\"color: #FF8C00\">__*MODELOS*__"
   ]
  },
  {
   "cell_type": "markdown",
   "id": "1903d042",
   "metadata": {},
   "source": [
    "### **MODELOS DE CLASIFICACIÓN**"
   ]
  },
  {
   "cell_type": "markdown",
   "id": "f01df721",
   "metadata": {},
   "source": [
    "#### <span style=\"color: #3795E1\">**REGRESIÓN LOGÍSTICA BINARIA**"
   ]
  },
  {
   "cell_type": "code",
   "execution_count": null,
   "id": "fd12e1e3",
   "metadata": {},
   "outputs": [],
   "source": [
    "modelo_lr = LogisticRegression(max_iter=1000)                               # CREA MODELO DE REGRESIÓN LOGÍSTICA\n",
    "modelo_lr.fit(X_train_scaled, y_train)                                      # AJUSTA EL MODELO CON DATOS ESCALADOS\n",
    "y_pred_lr = modelo_lr.predict(X_test_scaled)                                # PREDICE SOBRE EL CONJUNTO DE TEST"
   ]
  },
  {
   "cell_type": "code",
   "execution_count": null,
   "id": "c4267f46",
   "metadata": {},
   "outputs": [],
   "source": [
    "print(\"\\nREGRESIÓN LOGÍSTICA\\n\")                                            # IMPRIME TÍTULO\n",
    "print(confusion_matrix(y_test, y_pred_lr))                                  # MUESTRA MATRIZ DE CONFUSIÓN\n",
    "print(classification_report(y_test, y_pred_lr, digits=4))                   # MUESTRA MÉTRICAS\n",
    "ConfusionMatrixDisplay.from_predictions(y_test, y_pred_lr, cmap=\"Blues\")\n",
    "plt.title(\"MATRIZ DE CONFUSIÓN - REGRESIÓN LOGÍSTICA\")\n",
    "plt.grid(False)\n",
    "plt.show()\n",
    "\n",
    "reporte_lr = classification_report(y_test, y_pred_lr, output_dict=True)\n",
    "metricas_lr = pd.DataFrame(reporte_lr).transpose().loc[['0', '1'], ['precision', 'recall', 'f1-score']]"
   ]
  },
  {
   "cell_type": "markdown",
   "id": "25a5b0d8",
   "metadata": {},
   "source": [
    ">.\n",
    ">\n",
    ">_ENTONCES COMENZAMOS A ENTRENAR LOS MODELOS. LA REGRESIÓN LOGÍSTICA FUE EL PRIMER MODELO EVALUADO, MOSTRANDO UNA EXCELENTE CAPACIDAD PARA DIFERENCIAR ENTRE HOGARES EXCLUIDOS Y NO EXCLUIDOS, CON UN F1-SCORE DE 0.9869 PARA LA CLASE POSITIVA. SUS ERRORES FUERON MÍNIMOS, DESTACÁNDOSE COMO UN MODELO ESTABLE Y ROBUSTO._\n",
    ">\n",
    ">."
   ]
  },
  {
   "cell_type": "markdown",
   "id": "ecc50590",
   "metadata": {},
   "source": [
    "#### <span style=\"color: #3795E1\">**K-NEAREST NEIGHBORS (KNN)**"
   ]
  },
  {
   "cell_type": "code",
   "execution_count": null,
   "id": "a8300951",
   "metadata": {},
   "outputs": [],
   "source": [
    "modelo_knn = KNeighborsClassifier()            # CREA MODELO KNN\n",
    "modelo_knn.fit(X_train_scaled, y_train)        # ENTRENAMIENTO CON DATOS ESCALADOS\n",
    "y_pred_knn = modelo_knn.predict(X_test_scaled) # PREDICCIÓN"
   ]
  },
  {
   "cell_type": "code",
   "execution_count": null,
   "id": "ae170214",
   "metadata": {},
   "outputs": [],
   "source": [
    "print(\"\\nK-NEAREST NEIGHBORS (KNN)\\n\")                   \n",
    "print(confusion_matrix(y_test, y_pred_knn))    \n",
    "print(classification_report(y_test, y_pred_knn, digits=4)) \n",
    "ConfusionMatrixDisplay.from_predictions(y_test, y_pred_knn, cmap=\"Blues\")\n",
    "plt.title(\"MATRIZ DE CONFUSIÓN - K-NEAREST NEIGHBORS (KNN)\")\n",
    "plt.grid(False)\n",
    "plt.show()\n"
   ]
  },
  {
   "cell_type": "markdown",
   "id": "e53c2d9f",
   "metadata": {},
   "source": [
    ">.\n",
    ">\n",
    ">_LUEGO IMPLEMENTAMOS K-NEAREST NEIGHBORS (KNN), QUE, SI BIEN ES INTUITIVO Y FÁCIL DE INTERPRETAR, MOSTRÓ LIMITACIONES SIGNIFICATIVAS: SU RECALL FUE EL MÁS BAJO DE TODOS LOS MODELOS, LO QUE IMPLICA UNA TASA ELEVADA DE FALSOS NEGATIVOS, ASPECTO CRÍTICO EN POLÍTICAS SOCIALES._\n",
    ">\n",
    ">."
   ]
  },
  {
   "cell_type": "markdown",
   "id": "1d0f072d",
   "metadata": {},
   "source": [
    "#### <span style=\"color: #3795E1\">**SUPPORT VECTOR CLASSIFIER (SVC)**"
   ]
  },
  {
   "cell_type": "code",
   "execution_count": null,
   "id": "b37e3747",
   "metadata": {},
   "outputs": [],
   "source": [
    "modelo_svc = SVC()                             # CREA MODELO SVC\n",
    "modelo_svc.fit(X_train_scaled, y_train)        # AJUSTA EL MODELO CON DATOS ESCALADOS\n",
    "y_pred_svc = modelo_svc.predict(X_test_scaled) # PREDICCIÓN"
   ]
  },
  {
   "cell_type": "code",
   "execution_count": null,
   "id": "a9eed341",
   "metadata": {},
   "outputs": [],
   "source": [
    "print(\"\\nSUPPORT VECTOR CLASSIFIER (SVC)\\n\")             \n",
    "print(confusion_matrix(y_test, y_pred_svc))    \n",
    "print(classification_report(y_test, y_pred_svc, digits=4))  \n",
    "ConfusionMatrixDisplay.from_predictions(y_test, y_pred_svc, cmap=\"Blues\")\n",
    "plt.title(\"\\nMATRIZ DE CONFUSIÓN - SUPPORT VECTOR CLASSIFIER (SVC)\")\n",
    "plt.grid(False)\n",
    "plt.show()"
   ]
  },
  {
   "cell_type": "markdown",
   "id": "adaf08dd",
   "metadata": {},
   "source": [
    ">.\n",
    ">\n",
    ">_EL MODELO SUPPORT VECTOR CLASSIFIER (SVC) OFRECIÓ UN BUEN EQUILIBRIO ENTRE PRECISIÓN Y RECALL, Y SU DESEMPEÑO GENERAL FUE CONSISTENTE. PRESENTÓ POCOS ERRORES Y UNA DISTRIBUCIÓN DE CLASIFICACIONES ADECUADA, AUNQUE INFERIOR A LOS MODELOS BASADOS EN ÁRBOLES._\n",
    ">\n",
    ">."
   ]
  },
  {
   "cell_type": "markdown",
   "id": "12f0b901",
   "metadata": {},
   "source": [
    "#### <span style=\"color: #3795E1\">**ÁRBOL DE DECISIÓN**"
   ]
  },
  {
   "cell_type": "code",
   "execution_count": null,
   "id": "1f350f7b",
   "metadata": {},
   "outputs": [],
   "source": [
    "modelo_dt = DecisionTreeClassifier()           # CREA MODELO DE ÁRBOL\n",
    "modelo_dt.fit(X_train, y_train)                # ENTRENAMIENTO (NO REQUIERE ESCALADO)\n",
    "y_pred_dt = modelo_dt.predict(X_test)          # PREDICCIÓN"
   ]
  },
  {
   "cell_type": "code",
   "execution_count": null,
   "id": "714c27dd",
   "metadata": {},
   "outputs": [],
   "source": [
    "print(\"\\nÁRBOL DE DECISIÓN\\n\")                     \n",
    "print(confusion_matrix(y_test, y_pred_dt))     \n",
    "print(classification_report(y_test, y_pred_dt, digits=4))  \n",
    "ConfusionMatrixDisplay.from_predictions(y_test, y_pred_dt, cmap=\"Blues\")\n",
    "plt.title(\"MATRIZ DE CONFUSIÓN - ÁRBOL DE DECISIÓN\")\n",
    "plt.grid(False)\n",
    "plt.show()"
   ]
  },
  {
   "cell_type": "markdown",
   "id": "c9827e4f",
   "metadata": {},
   "source": [
    ">.\n",
    ">\n",
    ">_ENTRE LOS MODELOS ARBÓREOS, EL ÁRBOL DE DECISIÓN DESTACÓ CON UNA PRECISIÓN Y UN RECALL CASI PERFECTOS. CLASIFICÓ CORRECTAMENTE CASI TODOS LOS CASOS, PRESENTANDO SOLO UN ERROR EN TODO EL CONJUNTO DE PRUEBA. SIN EMBARGO, SU DESEMPEÑO EXCEPCIONAL PUEDE SER SÍNTOMA DE SOBREAJUSTE, LO QUE MOTIVÓ UNA COMPARACIÓN ADICIONAL._\n",
    ">\n",
    ">."
   ]
  },
  {
   "cell_type": "markdown",
   "id": "d5ea3d4d",
   "metadata": {},
   "source": [
    "#### <span style=\"color: #3795E1\">**RANDOM FOREST**"
   ]
  },
  {
   "cell_type": "code",
   "execution_count": null,
   "id": "b0397c52",
   "metadata": {},
   "outputs": [],
   "source": [
    "modelo_rf = RandomForestClassifier()           # CREA MODELO RANDOM FOREST\n",
    "modelo_rf.fit(X_train, y_train)                # ENTRENAMIENTO\n",
    "y_pred_rf = modelo_rf.predict(X_test)          # PREDICCIÓN"
   ]
  },
  {
   "cell_type": "code",
   "execution_count": null,
   "id": "628fa58f",
   "metadata": {},
   "outputs": [],
   "source": [
    "print(\"\\nRANDOM FOREST\\n\")                         \n",
    "print(confusion_matrix(y_test, y_pred_rf))     \n",
    "print(classification_report(y_test, y_pred_rf, digits=4)) \n",
    "ConfusionMatrixDisplay.from_predictions(y_test, y_pred_rf, cmap=\"Blues\")\n",
    "plt.title(\"MATRIZ DE CONFUSIÓN - RANDOM FOREST\")\n",
    "plt.grid(False)\n",
    "plt.show()"
   ]
  },
  {
   "cell_type": "markdown",
   "id": "b3bf6a73",
   "metadata": {},
   "source": [
    ">.\n",
    ">\n",
    ">_EN ESTE CONTEXTO, EL RANDOM FOREST DEMOSTRÓ SER UNA ALTERNATIVA MÁS GENERALIZABLE. AUNQUE TUVO UN LEVE INCREMENTO EN LOS ERRORES RESPECTO AL ÁRBOL DE DECISIÓN, SUS MÉTRICAS FUERON ALTÍSIMAS Y MÁS ESTABLES ANTE VARIACIONES DE LOS DATOS._\n",
    ">\n",
    ">."
   ]
  },
  {
   "cell_type": "markdown",
   "id": "51edb21f",
   "metadata": {},
   "source": [
    "### **MODELOS DE REGRESIÓN CONTINUA**"
   ]
  },
  {
   "cell_type": "markdown",
   "id": "ef1a7164",
   "metadata": {},
   "source": [
    "#### <span style=\"color: #3795E1\">**REGRESIÓN LINEAL**"
   ]
  },
  {
   "cell_type": "code",
   "execution_count": null,
   "id": "b48e83ca",
   "metadata": {},
   "outputs": [],
   "source": [
    "modelo_rl = LinearRegression()                 # CREA MODELO DE REGRESIÓN LINEAL\n",
    "modelo_rl.fit(X_train_reg_scaled, y_train_reg) # AJUSTA MODELO CON DATOS ESCALADOS\n",
    "y_pred_rl = modelo_rl.predict(X_test_reg_scaled)  # PREDICCIÓN"
   ]
  },
  {
   "cell_type": "code",
   "execution_count": null,
   "id": "701dbbce",
   "metadata": {},
   "outputs": [],
   "source": [
    "print(\"\\nREGRESIÓN LINEAL\\n\")  \n",
    "print(f\"R² Score: {r2_score(y_test_reg, y_pred_rl):.4f}\")  # MUESTRA COEFICIENTE DE DETERMINACIÓN\n",
    "print(f\"\\nRMSE: {np.sqrt(mean_squared_error(y_test_reg, y_pred_rl)):.4f}\")  # MUESTRA RAÍZ DEL ERROR CUADRÁTICO MEDIO\n",
    "\n",
    "# GRAFICA Y REAL VS Y PREDICHO\n",
    "plt.figure(figsize=(6,6))\n",
    "plt.scatter(y_test_reg, y_pred_rl, alpha=0.5)\n",
    "plt.plot([0, 1], [0, 1], 'r--')  # LÍNEA IDEAL (45°)\n",
    "plt.xlabel(\"VALOR REAL (score_exclusion)\")\n",
    "plt.ylabel(\"PREDICCIÓN DEL MODELO\")\n",
    "plt.title(\"REGRESIÓN LINEAL: REAL vs PREDICHO\")\n",
    "plt.grid(True)\n",
    "plt.show()"
   ]
  },
  {
   "cell_type": "markdown",
   "id": "e3518ce3",
   "metadata": {},
   "source": [
    ">.\n",
    ">\n",
    ">_COMPLEMENTARIAMENTE, LA REGRESIÓN LINEAL SOBRE EL TARGET CONTINUO OFRECIÓ UNA PERSPECTIVA ADICIONAL: EL MODELO EXPLICÓ CERCA DEL 90% DE LA VARIANZA (R² = 0.9018) Y ARROJÓ UN RMSE MUY BAJO (0.0407), CONFIRMANDO LA CONSISTENCIA ENTRE LAS VARIABLES INDEPENDIENTES Y LA ESCALA DE EXCLUSIÓN SOCIAL DEFINIDA._\n",
    ">\n",
    ">."
   ]
  },
  {
   "cell_type": "markdown",
   "id": "520c9c2a",
   "metadata": {},
   "source": [
    "## <span style=\"color: #FF8C00\">__*VISUALIZACIONES*__"
   ]
  },
  {
   "cell_type": "markdown",
   "id": "abb121ba",
   "metadata": {},
   "source": [
    "#### <span style=\"color: #3795E1\">**MATRICES DE CONFUSIÓN**"
   ]
  },
  {
   "cell_type": "code",
   "execution_count": null,
   "id": "19d42796",
   "metadata": {},
   "outputs": [],
   "source": [
    "# BINARIZACIÓN DE LA REGRESION LINEAL CONTINUA\n",
    "umbral = 0.45\n",
    "y_pred_rl_binario = (y_pred_rl >= umbral).astype(int)\n",
    "\n",
    "modelos = [\n",
    "    (\"R.L\", y_pred_lr),\n",
    "    (\"KNN\", y_pred_knn),\n",
    "    (\"SVC\", y_pred_svc),\n",
    "    (\"A.D\", y_pred_dt),\n",
    "    (\"R.F\", y_pred_rf),\n",
    "    (\"R.LI\", y_pred_rl_binario)  # BINARIZADA\n",
    "]\n",
    "\n",
    "# Visualización conjunta de las matrices de confusión\n",
    "fig, axes = plt.subplots(2, 3, figsize=(15, 10))\n",
    "for ax, (nombre, y_pred) in zip(axes.flatten(), modelos):\n",
    "    ConfusionMatrixDisplay.from_predictions(y_test, y_pred, ax=ax, cmap=\"Blues\")\n",
    "    ax.set_title(nombre.upper())\n",
    "plt.tight_layout()\n",
    "plt.show()"
   ]
  },
  {
   "cell_type": "markdown",
   "id": "92ff146b",
   "metadata": {},
   "source": [
    "#### <span style=\"color: #3795E1\">**COMPARACIÓN DE METRICAS ENTRE MODELOS**"
   ]
  },
  {
   "cell_type": "markdown",
   "id": "7b6f7fdf",
   "metadata": {},
   "source": [
    "##### **REPORTES**"
   ]
  },
  {
   "cell_type": "code",
   "execution_count": null,
   "id": "8b6ca6be",
   "metadata": {},
   "outputs": [],
   "source": [
    "reportes = []\n",
    "for nombre, y_pred in modelos:\n",
    "    reporte = classification_report(y_test, y_pred, output_dict=True)\n",
    "    reportes.append({\n",
    "        \"MODELO\": nombre,\n",
    "        \"PRECISION\": reporte['1']['precision'],\n",
    "        \"RECALL\": reporte['1']['recall'],\n",
    "        \"F1\": reporte['1']['f1-score'],\n",
    "        \"ACCURACY\": reporte['accuracy']\n",
    "    })\n",
    "\n",
    "df_metricas = pd.DataFrame(reportes)\n",
    "# Ordenar por F1-score\n",
    "df_resultados = df_metricas.sort_values(\"F1\", ascending=False).reset_index(drop=True)\n",
    " \n",
    "print(\"\\nRESUMEN DE RESULTADOS ORDENADO\")\n",
    "pd.set_option('display.float_format', lambda x: f'{x:.10f}')\n",
    "display(df_resultados)\n"
   ]
  },
  {
   "cell_type": "markdown",
   "id": "557934bd",
   "metadata": {},
   "source": [
    ">.\n",
    ">\n",
    ">_**ÁRBOL DE DECISIÓN (A.D)**_\n",
    ">\n",
    ">- _**PRECISIÓN:** 1.0000_\n",
    ">- _**RECALL:** 0.9968_\n",
    ">- _**F1-SCORE:** 0.9984_\n",
    ">- _**ACCURACY:** 0.9993_\n",
    ">\n",
    ">_ESTE MODELO LOGRA UNA PERFORMANCE SOBRESALIENTE, CON VALORES CERCANOS A LA PERFECCIÓN EN TODAS LAS MÉTRICAS. SU RECALL DE 0.9968 INDICA UNA CAPACIDAD CASI TOTAL PARA IDENTIFICAR CORRECTAMENTE LOS CASOS DE EXCLUSIÓN SOCIAL, SIN SACRIFICAR PRECISIÓN. ES EL MODELO MÁS BALANCEADO Y EFECTIVO, LO QUE LO CONVIERTE EN EL MEJOR CANDIDATO PARA PRODUCCIÓN._\n",
    ">\n",
    ">.\n"
   ]
  },
  {
   "cell_type": "markdown",
   "id": "6af5bddb",
   "metadata": {},
   "source": [
    ">.\n",
    ">\n",
    ">_**REGRESIÓN LOGÍSTICA (R.L)**_\n",
    ">\n",
    ">- _**PRECISIÓN:** 0.9967_\n",
    ">- _**RECALL:** 0.9773_\n",
    ">- _**F1-SCORE:** 0.9869_\n",
    ">- _**ACCURACY:** 0.9942_\n",
    ">\n",
    ">_PRESENTA UN MUY BUEN EQUILIBRIO ENTRE PRECISIÓN Y RECALL, LO QUE LO POSICIONA COMO UN MODELO ROBUSTO Y CONFIABLE. SI BIEN ES LEVEMENTE INFERIOR AL ÁRBOL DE DECISIÓN EN TODOS LOS INDICADORES, SU SIMPLICIDAD Y TRANSPARENCIA PUEDEN SER VENTAJAS EN CONTEXTOS DONDE SE REQUIERA INTERPRETABILIDAD Y AUDITABILIDAD._\n",
    ">\n",
    ">."
   ]
  },
  {
   "cell_type": "markdown",
   "id": "2aa09592",
   "metadata": {},
   "source": [
    ">.\n",
    ">\n",
    ">_**RANDOM FOREST (R.F)**_\n",
    ">\n",
    ">- _**PRECISIÓN:** 0.9967_\n",
    ">- _**RECALL:** 0.9676_\n",
    ">- _**F1-SCORE:** 0.9819_\n",
    ">- _**ACCURACY:** 0.9921_\n",
    ">\n",
    ">_RANDOM FOREST TAMBIÉN EXHIBE ALTO RENDIMIENTO, AUNQUE SU RECALL ES MENOR QUE EL DE A.D. PUEDE SER PREFERIDO SI SE DESEA UN MODELO MENOS SUSCEPTIBLE AL OVERFITTING QUE UN ÁRBOL INDIVIDUAL, PERO EN ESTE CASO ESPECÍFICO NO SUPERA AL ÁRBOL DE DECISIÓN EN EFECTIVIDAD._\n",
    ">\n",
    ">."
   ]
  },
  {
   "cell_type": "markdown",
   "id": "7f9ead66",
   "metadata": {},
   "source": [
    ">.\n",
    ">\n",
    ">_**SUPPORT VECTOR CLASSIFIER (SVC)**_\n",
    ">\n",
    ">- _**PRECISIÓN:** 0.9508_\n",
    ">- _**RECALL:** 0.9385_\n",
    ">- _**F1-SCORE:** 0.9446_\n",
    ">- _**ACCURACY:** 0.9921_\n",
    ">\n",
    ">_SVC OBTIENE RESULTADOS RAZONABLES, PERO POR DEBAJO DEL TOP 3. AUNQUE SUS MÉTRICAS SIGUEN SIENDO BUENAS, MUESTRA UN LIGERO DESBALANCE ENTRE PRECISIÓN Y RECALL, LO CUAL PUEDE COMPROMETER SU UTILIDAD EN PROBLEMAS SENSIBLES COMO LA DETECCIÓN DE EXCLUSIÓN SOCIAL._\n",
    ">\n",
    ">."
   ]
  },
  {
   "cell_type": "markdown",
   "id": "c6e2f741",
   "metadata": {},
   "source": [
    ">.\n",
    ">\n",
    ">_**K-NEAREST NEIGHBORS (KNN)**_\n",
    ">\n",
    ">- _**PRECISIÓN:** 0.8862_\n",
    ">- _**RECALL:** 0.7055_\n",
    ">- _**F1-SCORE:** 0.7856_\n",
    ">- _**ACCURACY:** 0.9143_\n",
    ">\n",
    ">_EL RENDIMIENTO DE KNN ES NOTABLEMENTE INFERIOR AL DEL RESTO DE LOS MODELOS. SU BAJO RECALL INDICA QUE NO ESTÁ LOGRANDO IDENTIFICAR CORRECTAMENTE A MUCHAS DE LAS PERSONAS EN SITUACIÓN DE EXCLUSIÓN SOCIAL, LO CUAL LO DESCARTA PARA ESTE TIPO DE APLICACIÓN._\n",
    ">\n",
    ">."
   ]
  },
  {
   "cell_type": "markdown",
   "id": "4e25acb8",
   "metadata": {},
   "source": [
    "##### **F1-SCORE**"
   ]
  },
  {
   "cell_type": "code",
   "execution_count": null,
   "id": "10086c58",
   "metadata": {},
   "outputs": [],
   "source": [
    "print(\"\")\n",
    "plt.figure(figsize=(5, 8))\n",
    "sns.barplot(data=df_metricas, x=\"MODELO\", y=\"F1\", hue=\"MODELO\", palette=\"Blues_d\", legend=False)\n",
    "plt.title(\"COMPARACIÓN DE F1-SCORE\")\n",
    "plt.xticks(rotation=45)\n",
    "plt.ylim(0.75, 1.0)\n",
    "plt.tight_layout()\n",
    "plt.show()"
   ]
  },
  {
   "cell_type": "markdown",
   "id": "95e2b8c9",
   "metadata": {},
   "source": [
    "##### **RECALL**"
   ]
  },
  {
   "cell_type": "code",
   "execution_count": null,
   "id": "aa6c605b",
   "metadata": {},
   "outputs": [],
   "source": [
    "print(\"\")\n",
    "plt.figure(figsize=(5, 8))\n",
    "sns.barplot(data=df_metricas, x=\"MODELO\", y=\"RECALL\", hue=\"MODELO\", palette=\"Blues_d\", legend=False)\n",
    "plt.title(\"COMPARACIÓN DE RECALL\")\n",
    "plt.xticks(rotation=45)\n",
    "plt.ylim(0.65, 1.0)\n",
    "plt.tight_layout()\n",
    "plt.show()"
   ]
  },
  {
   "cell_type": "markdown",
   "id": "f8355b80",
   "metadata": {},
   "source": [
    "##### **PRECISIÓN**"
   ]
  },
  {
   "cell_type": "code",
   "execution_count": null,
   "id": "36fc51b7",
   "metadata": {},
   "outputs": [],
   "source": [
    "print(\"\")\n",
    "plt.figure(figsize=(5, 8))\n",
    "sns.barplot(data=df_metricas, x=\"MODELO\", y=\"PRECISION\", hue=\"MODELO\", palette=\"Blues_d\", legend=False)\n",
    "plt.title(\"COMPARACIÓN DE PRECISIÓN\")\n",
    "plt.xticks(rotation=45)\n",
    "plt.ylim(0.85, 1.0)\n",
    "plt.tight_layout()\n",
    "plt.show()"
   ]
  },
  {
   "cell_type": "markdown",
   "id": "767f4acc",
   "metadata": {},
   "source": [
    "##### **ACCURACY**"
   ]
  },
  {
   "cell_type": "code",
   "execution_count": null,
   "id": "00b00eb1",
   "metadata": {},
   "outputs": [],
   "source": [
    "print(\"\")\n",
    "plt.figure(figsize=(5, 8))\n",
    "sns.barplot(data=df_metricas, x=\"MODELO\", y=\"ACCURACY\", hue=\"MODELO\", palette=\"Blues_d\", legend=False)\n",
    "plt.title(\"COMPARACIÓN DE ACCURACY\")\n",
    "plt.xticks(rotation=45)\n",
    "plt.ylim(0.9, 1.0)\n",
    "plt.tight_layout()\n",
    "plt.show()\n"
   ]
  },
  {
   "cell_type": "markdown",
   "id": "fee18c13",
   "metadata": {},
   "source": [
    "#####"
   ]
  },
  {
   "cell_type": "markdown",
   "id": "b3557e2d",
   "metadata": {},
   "source": [
    ">.\n",
    ">\n",
    ">_AL VISUALIZAR LAS MATRICES DE CONFUSIÓN Y COMPARAR MÉTRICAS COMO F1-SCORE, RECALL Y ACCURACY, CONFIRMAMOS QUE LOS MODELOS ARBÓREOS (PARTICULARMENTE EL ÁRBOL DE DECISIÓN Y RANDOM FOREST) LIDERARON EL RANKING. LA REGRESIÓN LOGÍSTICA TAMBIÉN MOSTRÓ GRAN RENDIMIENTO, MIENTRAS QUE KNN RESULTÓ EL MENOS EFECTIVO._\n",
    ">\n",
    ">."
   ]
  },
  {
   "cell_type": "markdown",
   "id": "32c5143d",
   "metadata": {},
   "source": [
    "#### <span style=\"color: #3795E1\">**ANÁLISIS DE ERRORES**"
   ]
  },
  {
   "cell_type": "code",
   "execution_count": null,
   "id": "c0cf3dce",
   "metadata": {},
   "outputs": [],
   "source": [
    "tabla_errores = []\n",
    "for nombre, y_pred in modelos:\n",
    "    cm = confusion_matrix(y_test, y_pred)\n",
    "    tn, fp, fn, tp = cm.ravel()\n",
    "    tabla_errores.append({\n",
    "        \"MODELO\": nombre,\n",
    "        \"FALSOS POSITIVOS (FP)\": fp,\n",
    "        \"FALSOS NEGATIVOS (FN)\": fn,\n",
    "        \"ERRORES TOTALES\": fp + fn\n",
    "    })\n",
    "\n",
    "# IMPRIMO TABLA\n",
    "df_errores = pd.DataFrame(tabla_errores)\n",
    "print(\"\\nTABLA DE ANÁLISIS DE ERRORES\")\n",
    "display(df_errores)"
   ]
  },
  {
   "cell_type": "markdown",
   "id": "2750b2bd",
   "metadata": {},
   "source": [
    ">.\n",
    ">\n",
    ">_FINALMENTE, UN ANÁLISIS DETALLADO DE LOS ERRORES REVELÓ QUE KNN TUVO LA MAYOR CANTIDAD DE FALSOS NEGATIVOS, FACTOR QUE LO DESCALIFICA EN ENTORNOS DONDE OMITIR CASOS DE EXCLUSIÓN SOCIAL ES CRÍTICO. EN CAMBIO, EL ÁRBOL DE DECISIÓN Y RANDOM FOREST PRESENTARON LOS MENORES NIVELES DE ERROR TOTAL, LO QUE LOS CONVIERTE EN CANDIDATOS ÓPTIMOS PARA IMPLEMENTACIÓN FINAL, SEGÚN EL BALANCE ENTRE DESEMPEÑO Y GENERALIZABILIDAD._\n",
    ">\n",
    ">."
   ]
  },
  {
   "cell_type": "markdown",
   "id": "9104dcc7",
   "metadata": {},
   "source": [
    "## <span style=\"color: #FF8C00\">__*CONCLUSIÓN FINAL*__"
   ]
  },
  {
   "cell_type": "markdown",
   "id": "0d80bc53",
   "metadata": {},
   "source": [
    ">.\n",
    ">\n",
    ">_LUEGO DE COMPARAR MULTIPLES ALGORITMOS DE CLASIFICACIÓN SOBRE UN TARGET BINARIO DE EXCLUSIÓN SOCIAL CONSTRUÍDO EN BASE A PATRONES MULTIDIMENSIONALES, Y ANALIZAR SUS DESEMPEÑOS EN FUNCIÓN DE MÉTRICAS COMO F1-SCORE, RECALL, PRECISIÓN, ACCURACY Y ANÁLISIS DE ERRORES, PODEMOS LLEGAR A UNA DECISIÓN FUNDAMENTADA SOBRE EL MODELO MÁS APROPIADO PARA IMPLEMENTAR EN ESTE PROYECTO._\n",
    ">\n",
    ">_EL MODELO DE ÁRBOL DE DECISIÓN LOGRÓ UN DESEMPEÑO CASI PERFECTO EN TODOS LOS INDICADORES, CON UN F1-SCORE DE 0.9984 PARA LA CLASE POSITIVA, CERO FALSOS POSITIVOS Y SOLO UN FALSO NEGATIVO EN EL CONJUNTO DE PRUEBA. SU ALTA INTERPRETABILIDAD, BAJO TIEMPO DE ENTRENAMIENTO Y CAPACIDAD PARA MANEJAR VARIABLES CATEGÓRICAS LO HACEN PARTICULARMENTE ADECUADO PARA ENTORNOS SOCIALES DONDE LA EXPLICABILIDAD ES CLAVE._\n",
    ">\n",
    ">_SIN EMBARGO, SU RENDIMIENTO EXTREMADAMENTE ALTO SUGIERE POTENCIAL SOBREAJUSTE. PARA CONTRARRESTAR ESA POSIBILIDAD Y PRIORIZAR LA GENERALIZACIÓN, EL MODELO DE RANDOM FOREST EMERGE COMO LA ALTERNATIVA MÁS ROBUSTA. SI BIEN TUVO LIGERAMENTE MÁS ERRORES (11 CONTRA 1), SU ALTO F1-SCORE (0.9819), BAJA VARIANZA Y CAPACIDAD DE REDUCIR EL RIESGO DE OVERFITTING A TRAVÉS DE ENSAMBLES LO CONVIERTEN EN UNA OPCIÓN MÁS CONFIABLE PARA SU USO EN PRODUCCIÓN O IMPLEMENTACIONES A LARGO PLAZO._\n",
    ">\n",
    ">_FINALMENTE, EL MODELO DE REGRESIÓN LOGÍSTICA TAMBIÉN PRESENTÓ UN RENDIMIENTO DESTACADO, MOSTRANDO GRAN ESTABILIDAD Y FÁCIL EXPLICABILIDAD, SIENDO RECOMENDABLE EN CASOS DONDE LA TRANSPARENCIA DEL MODELO SEA PRIORITARIA SOBRE LA MÁXIMA PRECISIÓN._\n",
    ">\n",
    ">\n",
    ">_POR LO QUE SE RECOMIENDA UTILIZAR RANDOM FOREST COMO MODELO PRINCIPAL DE CLASIFICACIÓN PARA LA DETECCIÓN DE HOGARES EN SITUACIÓN DE EXCLUSIÓN SOCIAL EN TIERRA DEL FUEGO, POR SU EQUILIBRIO ENTRE PRECISIÓN, ROBUSTEZ Y GENERALIZABILIDAD._\n",
    ">\n",
    ">_EL MODELO DE ÁRBOL DE DECISIÓN PUEDE SER EMPLEADO COMO APOYO EXPLICATIVO COMPLEMENTARIO, MIENTRAS QUE LA REGRESIÓN LOGÍSTICA PUEDE OFRECER UNA VERSIÓN SIMPLIFICADA Y TRANSPARENTE PARA COMUNICACIÓN CON ACTORES NO TÉCNICOS._\n",
    ">\n",
    ">."
   ]
  }
 ],
 "metadata": {
  "kernelspec": {
   "display_name": "Python 3",
   "language": "python",
   "name": "python3"
  },
  "language_info": {
   "codemirror_mode": {
    "name": "ipython",
    "version": 3
   },
   "file_extension": ".py",
   "mimetype": "text/x-python",
   "name": "python",
   "nbconvert_exporter": "python",
   "pygments_lexer": "ipython3",
   "version": "3.11.5"
  }
 },
 "nbformat": 4,
 "nbformat_minor": 5
}
